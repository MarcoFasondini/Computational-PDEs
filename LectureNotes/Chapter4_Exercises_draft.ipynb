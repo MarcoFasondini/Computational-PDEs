{
 "cells": [
  {
   "cell_type": "markdown",
   "metadata": {},
   "source": [
    "# Chapter 4: Exercises\n",
    "\n",
    "1. Show that $T_n$ has the same parity as $n$, show that the same also holds for ultraspherical polynomials\n",
    "2. Compute $\\| T_n \\|$\n",
    "3. Prove the integral identity in the proof of the the fact that the Chebyshev polynomials are OPs\n",
    "4. In the notes, focus on Chebyshev, here ask some questions about Legendre and Ultraspherical polynomials\n",
    "5. Christoffel-Darboux\n",
    "6.  Prove that $C_n^{(1)}$ are Chebyshev $U$\n",
    "7. Show that if you differentiate Chebyshev and don't change basis, then the differentiation matrix is not sparse, show that in the Chebyshev basis, the differentiation matrix is\n",
    "$$\n",
    "S_0^{-1}D\n",
    "$$\n",
    "8. Prove that the conversion matrix has bandwidths $(0,2n)$\n",
    "9. There is a connnection between sinc functions/ the basis functions for periodic interpolation, and Chebyshev polynomials of the second kind. Explore this here\n",
    "10. Clenshaw's algorithm"
   ]
  },
  {
   "cell_type": "markdown",
   "metadata": {},
   "source": [
    "**Remark** Digressing brielfy from the topic of this chapter, we note that for the  inner product  \n",
    "$$\n",
    "\\langle f, g \\rangle = \\int_{0}^{2\\pi} f(x) \\overline{g(x)}\\,{\\rm d}x,\n",
    "$$\n",
    "the Fourier coefficients of a $2\\pi$-periodic function $f(x)$ can be expressed as\n",
    "$$\n",
    "c_k = \\frac{\\langle f, {\\rm e}^{{\\rm i}k x}\\rangle}{\\langle {\\rm e}^{{\\rm i}k x},{\\rm e}^{{\\rm i}k x} \\rangle}\n",
    "$$\n",
    "where the inner product is defined as\n"
   ]
  },
  {
   "cell_type": "markdown",
   "metadata": {},
   "source": [
    "Compute the exact error for some of the DE examples\n",
    "\n",
    "Look at some of the DE examples in the Acta paper"
   ]
  },
  {
   "cell_type": "code",
   "execution_count": null,
   "metadata": {},
   "outputs": [],
   "source": []
  }
 ],
 "metadata": {
  "kernelspec": {
   "display_name": "Julia 1.8.3",
   "language": "julia",
   "name": "julia-1.8"
  },
  "language_info": {
   "file_extension": ".jl",
   "mimetype": "application/julia",
   "name": "julia",
   "version": "1.8.3"
  }
 },
 "nbformat": 4,
 "nbformat_minor": 4
}
