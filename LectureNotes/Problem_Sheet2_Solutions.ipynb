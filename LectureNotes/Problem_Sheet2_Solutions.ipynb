{
 "cells": [
  {
   "cell_type": "markdown",
   "metadata": {},
   "source": [
    "# Problem sheet 2: Solutions\n",
    "\n",
    "Consider the following finite difference method for the diffusion equation\n",
    "$$\n",
    "-\\frac{1}{2}\\mu u^{i+1}_{j-1} + (1 + \\mu)u^{i+1}_j -\\frac{1}{2}\\mu u^{i+1}_{j+1} = \n",
    "\\frac{1}{2}\\mu u^{i}_{j-1} + (1 - \\mu)u^{i}_j +\\frac{1}{2}\\mu u^{i}_{j+1} \n",
    "$$\n",
    "where $\\mu = \\tau/h^2$."
   ]
  },
  {
   "cell_type": "markdown",
   "metadata": {},
   "source": [
    "1. **[5 marks]** Show that the method has a second-order local truncation error. That is, let $\\tilde{u}^i_j = u(x_j,t_i)$, where $x_j = jh$, $t_i = i\\tau$, show that the method can be expressed as\n",
    "$$\n",
    "\\frac{u^{i+1}_j - u^i_j}{\\tau} = \\frac{1}{2}\\left( \\frac{u^{i+1}_{j+1} - 2u^{i+1}_{j} + u^{i+1}_{j-1}}{h^2} + \\frac{u^{i}_{j+1} - 2u^{i}_{j} + u^{i}_{j-1}}{h^2}   \\right)\n",
    "$$\n",
    "   and then show that for $\\tau, h \\to 0$ (assuming all the relevant partial derivatives are bounded),\n",
    "$$\n",
    "\\begin{eqnarray*}\n",
    "&& \\frac{\\tilde{u}^{i+1}_j - \\tilde{u}^i_j}{\\tau} - \\frac{1}{2}\\left( \\frac{\\tilde{u}^{i+1}_{j+1} - 2\\tilde{u}^{i+1}_{j} + \\tilde{u}^{i+1}_{j-1}}{h^2} + \\frac{\\tilde{u}^{i}_{j+1} - 2\\tilde{u}^{i}_{j} + \\tilde{u}^{i}_{j-1}}{h^2}   \\right) = \\mathcal{O}(\\tau^2) + \\mathcal{O}(h^2).\n",
    "\\end{eqnarray*}\n",
    "$$\n",
    "   Hint: use Taylor's theorem to expand the exact solution about $(x,t) = (x_j,t_{i+1/2})$, where $t_{i+1/2} = (i + 1/2)\\tau = t_i + \\tau/2$."
   ]
  },
  {
   "cell_type": "markdown",
   "metadata": {},
   "source": [
    "**Solution** The method can be expressed as"
   ]
  },
  {
   "cell_type": "markdown",
   "metadata": {},
   "source": [
    "$$\n",
    "\\frac{u^{i+1}_j - u^i_j}{\\tau} = \\frac{1}{2}\\left( \\frac{u^{i+1}_{j+1} - 2u^{i+1}_{j} + u^{i+1}_{j-1}}{h^2} + \\frac{u^{i}_{j+1} - 2u^{i}_{j} + u^{i}_{j-1}}{h^2}   \\right).\n",
    "$$"
   ]
  },
  {
   "cell_type": "markdown",
   "metadata": {},
   "source": [
    "Using Taylor's theorem to expand the solution about $(x_j, t_{i+1/2})$, we have that as $\\tau \\to 0$,\n",
    "$$\n",
    "\\begin{eqnarray*}\n",
    "\\tilde{u}^{i+1}_j  &=& u(x_{j},t_{i+1}) \\\\\n",
    "                 &=& u(x_j,t_{i+1/2}+\\tau/2) \\\\\n",
    "                 &=& u(x_j,t_{i+1/2}) + \\frac{\\tau}{2}u_t(x_j,t_{i+1/2}) + \\frac{\\tau^2}{8}u_{tt}(x_j,t_{i+1/2}) + \\mathcal{O}(\\tau^3)\n",
    "\\end{eqnarray*}\n",
    "$$\n",
    "and similarly\n",
    "$$\n",
    "\\begin{eqnarray*}\n",
    "\\tilde{u}^{i}_j  &=& u(x_{j},t_{i})\\\\\n",
    "                 &=& u(x_j,t_{i+1/2}-\\tau/2) \\\\\n",
    "                 &=& u(x_j,t_{i+1/2}) - \\frac{\\tau}{2}u_t(x_j,t_{i+1/2}) + \\frac{\\tau^2}{8}u_{tt}(x_j,t_{i+1/2}) + \\mathcal{O}(\\tau^3)\n",
    "\\end{eqnarray*}\n",
    "$$"
   ]
  },
  {
   "cell_type": "markdown",
   "metadata": {},
   "source": [
    "Therefore,\n",
    "$$\n",
    "\\frac{\\tilde{u}^{i+1}_j - \\tilde{u}^i_j}{\\tau} = u_t(x_j,t_{i+1/2}) + \\mathcal{O}(\\tau^2)\n",
    "$$"
   ]
  },
  {
   "cell_type": "markdown",
   "metadata": {},
   "source": [
    "We have shown in the lecture notes (using Taylor's theorem) that\n",
    "$$\n",
    "\\frac{\\tilde{u}^{i}_{j+1} - 2\\tilde{u}^{i}_{j} + \\tilde{u}^{i}_{j-1}}{h^2} = u_{xx}(x_j,t_i) + \\mathcal{O}(h^2),\n",
    "$$\n",
    "therefore, using Taylor's theorem again, but in the time variable,\n",
    "$$\n",
    "\\begin{eqnarray*}\n",
    "\\frac{\\tilde{u}^{i}_{j+1} - 2\\tilde{u}^{i}_{j} + \\tilde{u}^{i}_{j-1}}{h^2} &=& u_{xx}(x_j,t_i) + \\mathcal{O}(h^2)  \\\\\n",
    "&=&  u_{xx}(x_j,t_{i+1/2}-\\tau/2) + \\mathcal{O}(h^2) \\\\\n",
    "&=&  u_{xx}(x_j,t_{i+1/2}) - \\frac{\\tau}{2}u_{txx}(x_j,t_{i+1/2}) +  \\mathcal{O}(\\tau^2) + \\mathcal{O}(h^2).\n",
    "\\end{eqnarray*}\n",
    "$$"
   ]
  },
  {
   "cell_type": "markdown",
   "metadata": {},
   "source": [
    "Similarly,\n",
    "$$\n",
    "\\begin{eqnarray*}\n",
    "\\frac{\\tilde{u}^{i+1}_{j+1} - 2\\tilde{u}^{i+1}_{j} + \\tilde{u}^{i+1}_{j-1}}{h^2} &=& u_{xx}(x_j,t_{i+1}) + \\mathcal{O}(h^2)  \\\\\n",
    "&=&  u_{xx}(x_j,t_{i+1/2}+\\tau/2) + \\mathcal{O}(h^2) \\\\\n",
    "&=&  u_{xx}(x_j,t_{i+1/2}) + \\frac{\\tau}{2}u_{txx}(x_j,t_{i+1/2}) +  \\mathcal{O}(\\tau^2) + \\mathcal{O}(h^2)\n",
    "\\end{eqnarray*}\n",
    "$$"
   ]
  },
  {
   "cell_type": "markdown",
   "metadata": {},
   "source": [
    "and hence\n",
    "$$\n",
    "\\begin{eqnarray*}\n",
    "&& \\frac{\\tilde{u}^{i+1}_j - \\tilde{u}^i_j}{\\tau} - \\frac{1}{2}\\left( \\frac{\\tilde{u}^{i+1}_{j+1} - 2\\tilde{u}^{i+1}_{j} + \\tilde{u}^{i+1}_{j-1}}{h^2} + \\frac{\\tilde{u}^{i}_{j+1} - 2\\tilde{u}^{i}_{j} + \\tilde{u}^{i}_{j-1}}{h^2}   \\right) \\\\\n",
    "&& =  u_t(x_j,t_{i+1/2}) - u_{xx}(x_j,t_{i+1/2})  +  \\mathcal{O}(\\tau^2) + \\mathcal{O}(h^2) \\\\\n",
    "&& = \\mathcal{O}(\\tau^2) + \\mathcal{O}(h^2)\n",
    "\\end{eqnarray*}\n",
    "$$"
   ]
  },
  {
   "cell_type": "markdown",
   "metadata": {},
   "source": [
    "2. **[5 marks]** Use the Von Neumann method to show that the method is unconditionally stable."
   ]
  },
  {
   "cell_type": "markdown",
   "metadata": {},
   "source": [
    "**Solution** Setting $u^{i}_j = \\lambda^i {\\rm e}^{{\\rm i}kx_j}$ in\n",
    "$$\n",
    "-\\frac{1}{2}\\mu u^{i+1}_{j-1} + (1 + \\mu)u^{i+1}_j -\\frac{1}{2}\\mu u^{i+1}_{j+1} = \n",
    "\\frac{1}{2}\\mu u^{i}_{j-1} + (1 - \\mu)u^{i}_j +\\frac{1}{2}\\mu u^{i}_{j+1} \n",
    "$$\n",
    "we find that\n",
    "$$\n",
    "\\lambda\\left[1 - \\frac{\\mu}{2}\\left({\\rm e}^{-{\\rm i}kh} - 2 +  {\\rm e}^{{\\rm i}kh} \\right)    \\right] = 1 + \\frac{\\mu}{2}\\left({\\rm e}^{-{\\rm i}kh} - 2 +  {\\rm e}^{{\\rm i}kh} \\right)  \n",
    "$$\n",
    "and since $\\left({\\rm e}^{-{\\rm i}kh} - 2 +  {\\rm e}^{{\\rm i}kh} \\right) = \\left({\\rm e}^{-{\\rm i}kh/2} -  {\\rm e}^{{\\rm i}kh/2} \\right)^2 = -4\\sin^2(kh/2)$, it follows that\n",
    "$$\n",
    "\\lambda = \\frac{1 - 2\\mu\\sin^2(kh/2)}{1 + 2\\mu\\sin^2(kh/2)}\n",
    "$$\n",
    "Since $\\vert 1 - 2\\mu\\sin^2(kh/2) \\vert \\leq \\vert 1 + 2\\mu\\sin^2(kh/2)\\vert$ for $\\mu > 0$, $k \\in \\mathbb{Z}$ and $h > 0$, it follows that $\\vert \\lambda \\vert \\leq 1$ for these same parameter values and therefore the method is unconditionally stable."
   ]
  },
  {
   "cell_type": "markdown",
   "metadata": {},
   "source": [
    "3. **[5 marks]** Suppose the finite difference method is used to approximate the solution to the diffusion equation $u_t = u_{xx}$ for $(x, t) \\in (0,1) \\times (0,T)$ subject to $u(0,t) = \\varphi_0(t)$, $u(1,t) = \\varphi_1(t)$ for $t \\in [0, T]$ and $u(x,0) = f(x)$ for $x \\in [0, 1]$.  Let $u(x_j,t_i) \\approx u^i_j$, where $x_j = jh$, $h = 1/(n_x + 1)$, $j = 0, \\ldots, n_x+1$, $t_i = i\\tau$, $\\tau = \\mu h^2$ and set\n",
    "$$\n",
    "\\mathbf{u}^i = \\begin{bmatrix}\n",
    "u^{i}_{1} \\\\\n",
    "\\vdots \\\\\n",
    "u^{i}_{n_x}\n",
    "\\end{bmatrix} \\in \\mathbb{R}^{n_x}.\n",
    "$$\n",
    "   The finite difference method can be expressed as\n",
    "$$\n",
    "L\\mathbf{u}^{i+1} = R\\mathbf{u}^{i} + \\mathbf{k}^{i},\n",
    "$$\n",
    "   where $L, R \\in \\mathbb{R}^{n_x \\times n_x}$ and $\\mathbf{k}^{i} \\in \\mathbb{R}^{n_x}$.  Give the matrices $L$ and $R$ and the vector $\\mathbf{k}^{i}$."
   ]
  },
  {
   "cell_type": "markdown",
   "metadata": {},
   "source": [
    "**Solution**\n",
    "$$\n",
    "\\begin{eqnarray*}\n",
    "&&\n",
    "\\underbrace{\\begin{bmatrix}\n",
    "1 + \\mu & -\\mu/2 & & & \\\\\n",
    "-\\mu/2  & 1+\\mu & -\\mu/2  & & \\\\\n",
    "      & \\ddots & \\ddots & \\ddots & \\\\\n",
    "      &        & -\\mu/2    & 1+ \\mu & -\\mu/2 \\\\\n",
    "      &        &        &-\\mu/2      & 1+\\mu\n",
    "\\end{bmatrix}}_{L}\n",
    "\\underbrace{\\begin{bmatrix}\n",
    "u^{i+1}_{1} \\\\\n",
    "\\vdots \\\\\n",
    "\\vdots \\\\\n",
    "\\vdots \\\\\n",
    "u^{i+1}_{n_x}\n",
    "\\end{bmatrix}}_{\\mathbf{u}^{i+1}} = \\\\\n",
    "&& \n",
    "\\underbrace{\\begin{bmatrix}\n",
    "1 - \\mu & \\mu/2 & & & \\\\\n",
    "\\mu/2  & 1-\\mu & \\mu/2  & & \\\\\n",
    "      & \\ddots & \\ddots & \\ddots & \\\\\n",
    "      &        & \\mu/2    & 1- \\mu & \\mu/2 \\\\\n",
    "      &        &        &\\mu/2      & 1-\\mu\n",
    "\\end{bmatrix}}_{R}\n",
    "\\underbrace{\\begin{bmatrix}\n",
    "u^{i}_{1} \\\\\n",
    "\\vdots \\\\\n",
    "\\vdots \\\\\n",
    "\\vdots \\\\\n",
    "u^{i}_{n_x}\n",
    "\\end{bmatrix}}_{\\mathbf{u}^i}\n",
    "+\n",
    "\\underbrace{\\begin{bmatrix}\n",
    "\\mu(\\varphi_0(t_i) + \\varphi_0(t_{i+1}))/2 \\\\\n",
    "0 \\\\\n",
    "\\vdots \\\\\n",
    "0 \\\\\n",
    "\\mu(\\varphi_1(t_i) + \\varphi_1(t_{i+1}))/2\n",
    "\\end{bmatrix}}_{\\mathbf{k}^i}\n",
    "\\end{eqnarray*}\n",
    "$$"
   ]
  },
  {
   "cell_type": "markdown",
   "metadata": {},
   "source": [
    "4.  **[5 marks]** What are the eigenvalues of the matrix $A := L^{-1}R$? Find a bound on the spectral radius of $A$. \n",
    "    Hint: consider the eigendecomposition (spectral factorisation) of $L$ and $R$."
   ]
  },
  {
   "cell_type": "markdown",
   "metadata": {},
   "source": [
    "**Solution** The matrices $L$ and $R$ are TST (Tridiagonal, symmetric, Toeplitz); from the notes we know that an $n_x \\times n_x$ TST matrix with $\\alpha$ on the main diagonal and $\\beta$ on the super and subdiagonals have eigenvalues "
   ]
  },
  {
   "cell_type": "markdown",
   "metadata": {},
   "source": [
    "$$\n",
    "\\lambda_j = \\alpha + 2\\beta\\cos\\left( \\frac{\\pi j}{n_x+1}  \\right), \\qquad j = 1, \\ldots, n_x.\n",
    "$$"
   ]
  },
  {
   "cell_type": "markdown",
   "metadata": {},
   "source": [
    "Therefore, for $j = 1, \\ldots, n_x$, the eigenvalues of $L$ are\n",
    "$$\n",
    "\\lambda_j^{L} = 1 + \\mu - \\mu \\cos\\left(\\pi x_j  \\right) =  1 + \\mu - \\mu\\left(1 - 2\\sin^2\\left(\\pi x_j /2 \\right)\\right) = 1 + 2\\mu\\sin^2(\\pi x_j/2)\n",
    "$$\n",
    "and those of $R$ are"
   ]
  },
  {
   "cell_type": "markdown",
   "metadata": {},
   "source": [
    "$$\n",
    "\\lambda_j^{R} = 1 - \\mu + \\mu \\cos\\left(\\pi x_j  \\right) =  1 - \\mu + \\mu\\left(1 - 2\\sin^2\\left(\\pi x_j /2 \\right)\\right) = 1 - 2\\mu\\sin^2(\\pi x_j/2)\n",
    "$$"
   ]
  },
  {
   "cell_type": "markdown",
   "metadata": {},
   "source": [
    "Let\n",
    "$$\n",
    "\\Lambda^{L} = \\begin{bmatrix}\n",
    "\\lambda_1^{L} & & & \\\\\n",
    "& \\lambda_2^{L} & & \\\\\n",
    " & & \\ddots &  \\\\\n",
    "&  & & \\lambda_{n_x}^{L}\n",
    "\\end{bmatrix}, \\qquad\n",
    "\\Lambda^{R} = \\begin{bmatrix}\n",
    "\\lambda_1^{R} & & & \\\\\n",
    "& \\lambda_2^{R} & & \\\\\n",
    " & & \\ddots &  \\\\\n",
    "&  & & \\lambda_{n_x}^{R}\n",
    "\\end{bmatrix},\n",
    "$$\n",
    "then we know from the notes that"
   ]
  },
  {
   "cell_type": "markdown",
   "metadata": {},
   "source": [
    "$$\n",
    "L = Q\\Lambda^{L}Q^{\\top}, \\qquad R = Q\\Lambda^{R}Q^{\\top}\n",
    "$$\n",
    "where\n",
    "$$\n",
    "Q = \\left[\\mathbf{q}_1 |  \\mathbf{q}_2 | \\cdots | \\mathbf{q}_{n_x}  \\right] \\in \\mathbb{R}^{n_x \\times n_x},\n",
    "$$\n",
    "is an orthogonal matrix and the entries of the eigenvectors $\\mathbf{q}_j \\in \\mathbb{R}^{n_x}$ are\n",
    "$$\n",
    "q_{j,\\ell} = \\sqrt{\\frac{2}{n_x+1}}\\sin\\left(\\frac{\\pi j \\ell}{n_x+1}   \\right), \\qquad \\ell = 1, \\ldots, n_x.\n",
    "$$"
   ]
  },
  {
   "cell_type": "markdown",
   "metadata": {},
   "source": [
    "Therefore, we have that\n",
    "$$\n",
    "A = L^{-1}R = Q\\left( \\Lambda^{L}  \\right)^{-1}\\Lambda^{R}Q^{\\top}\n",
    "$$\n",
    "which implies the eigenvalues of $A$ are"
   ]
  },
  {
   "cell_type": "markdown",
   "metadata": {},
   "source": [
    "$$\n",
    "\\sigma(A) = \\left\\lbrace \\frac{\\lambda_j^{R}}{\\lambda_j^{L}}, j = 1, \\ldots, n_x    \\right\\rbrace\n",
    "$$\n",
    "and since $\\vert \\lambda_j^{R} \\vert \\leq \\vert \\lambda_j^{L} \\vert$ for $\\mu > 0$, $j = 1, \\ldots, n_x$, the spectral radius of $A$ is bounded by $1$, i.e., $\\rho(A) \\leq 1$."
   ]
  },
  {
   "cell_type": "markdown",
   "metadata": {},
   "source": [
    "5. **[10 marks]** Let \n",
    "$$\n",
    "u(x,0) = f(x) = \\sin \\frac{1}{2}\\pi x + \\frac{1}{2}\\sin 2\\pi x, \\qquad 0 \\leq x \\leq 1, \n",
    "$$\n",
    "   and\n",
    "$$\n",
    "u(0,t) = \\varphi_0(t) = 0, \\qquad  u(1,t) = \\varphi_1(t) = {\\rm e}^{-\\pi^2 t/4}, \\qquad t \\geq 0,\n",
    "$$\n",
    "   then the exact solution to the diffusion equation is\n",
    "$$\n",
    "u(x,t) = {\\rm e}^{-\\pi^2 t/4}\\sin \\frac{1}{2}\\pi x + \\frac{1}{2}{\\rm e}^{-4\\pi^2 t}\\sin 2\\pi x, \\qquad 0 \\leq x \\leq 1, \\qquad t \\geq 0.\n",
    "$$\n",
    "   Using the method in question 3 and the backward Euler method, approximate the exact solution for $T = 1$, $\\mu = n_x$ and plot the maximum error of the two methods for $n_x = 2^k$, $k = 4, 5, \\ldots, 12$.  Comment on your results."
   ]
  },
  {
   "cell_type": "code",
   "execution_count": 1,
   "metadata": {},
   "outputs": [],
   "source": [
    "using Plots, LinearAlgebra"
   ]
  },
  {
   "cell_type": "code",
   "execution_count": 2,
   "metadata": {},
   "outputs": [
    {
     "data": {
      "text/plain": [
       "BackwardEuler (generic function with 1 method)"
      ]
     },
     "execution_count": 2,
     "metadata": {},
     "output_type": "execute_result"
    }
   ],
   "source": [
    "function BackwardEuler(f,ϕ0,ϕ1,nx,μ,T)\n",
    "    \n",
    "    x = range(0,1,nx + 2)\n",
    "    h = 1/(nx+1)\n",
    "    τ = μ*h^2\n",
    "    t = 0:τ:T\n",
    "    nt = length(t)-1\n",
    "    B = SymTridiagonal(fill((1 + 2μ),nx),fill(-μ,nx-1))\n",
    "    u = zeros(nt+1,nx+2)\n",
    "    u[:,1] = ϕ0.(t)\n",
    "    u[:,nx+2] = ϕ1.(t)\n",
    "    u[1,2:nx+1] = f.(x[2:nx+1])\n",
    "\n",
    "    for i = 1:nt\n",
    "        b = u[i,2:nx+1] \n",
    "        b[1] += μ*ϕ0(t[i+1])\n",
    "        b[nx] += μ*ϕ1(t[i+1])\n",
    "        u[i+1,2:nx+1] = B\\b  \n",
    "    end\n",
    "    \n",
    "    u, x, t\n",
    "end"
   ]
  },
  {
   "cell_type": "code",
   "execution_count": 3,
   "metadata": {},
   "outputs": [
    {
     "data": {
      "text/plain": [
       "CrankNick (generic function with 1 method)"
      ]
     },
     "execution_count": 3,
     "metadata": {},
     "output_type": "execute_result"
    }
   ],
   "source": [
    "function CrankNick(f,ϕ0,ϕ1,nx,μ,T)\n",
    "    \n",
    "    x = range(0,1,nx + 2)\n",
    "    h = 1/(nx+1)\n",
    "    τ = μ*h^2\n",
    "    t = 0:τ:T\n",
    "    nt = length(t)-1\n",
    "    L = SymTridiagonal(fill((1 + μ),nx),fill(-μ/2,nx-1))\n",
    "    R = SymTridiagonal(fill((1 - μ),nx),fill(μ/2,nx-1))\n",
    "    u = zeros(nt+1,nx+2)\n",
    "    u[:,1] = ϕ0.(t)\n",
    "    u[:,nx+2] = ϕ1.(t)\n",
    "    u[1,2:nx+1] = f.(x[2:nx+1])\n",
    "\n",
    "    for i = 1:nt\n",
    "        b = R*u[i,2:nx+1] \n",
    "        b[1] += μ*(ϕ0(t[i]) + ϕ0(t[i+1]))/2\n",
    "        b[nx] += μ*(ϕ1(t[i]) + ϕ1(t[i+1]))/2\n",
    "        u[i+1,2:nx+1] = L\\b\n",
    "    end\n",
    "    \n",
    "    u, x, t\n",
    "end"
   ]
  },
  {
   "cell_type": "code",
   "execution_count": 4,
   "metadata": {},
   "outputs": [],
   "source": [
    "f = x -> sin(π*x/2) + 0.5*sin(2π*x)\n",
    "ϕ1 = t -> exp(-π^2*t/4)\n",
    "ϕ0 = t -> 0\n",
    "T = 1\n",
    "ue = (x,t) -> exp(-π^2*t/4)*sin(π*x/2) + 0.5*exp(-4*π^2*t)*sin(2π*x);"
   ]
  },
  {
   "cell_type": "code",
   "execution_count": 5,
   "metadata": {},
   "outputs": [
    {
     "name": "stdout",
     "output_type": "stream",
     "text": [
      "  0.514889 seconds (1.16 M allocations: 58.400 MiB, 3.83% gc time, 99.81% compilation time)\n",
      "  0.072153 seconds (100.83 k allocations: 4.819 MiB, 99.91% compilation time)\n",
      "  0.000104 seconds (184 allocations: 66.734 KiB)\n",
      "  0.000063 seconds (148 allocations: 54.953 KiB)\n",
      "  0.000187 seconds (345 allocations: 224.609 KiB)\n",
      "  0.000219 seconds (277 allocations: 186.359 KiB)\n",
      "  0.000863 seconds (665 allocations: 831.672 KiB)\n",
      "  0.000705 seconds (533 allocations: 691.422 KiB)\n",
      "  0.002589 seconds (1.30 k allocations: 3.202 MiB)\n",
      "  0.002325 seconds (1.04 k allocations: 2.662 MiB)\n",
      "  0.008875 seconds (2.58 k allocations: 12.401 MiB)\n",
      "  0.007881 seconds (2.07 k allocations: 10.322 MiB)\n",
      "  0.048805 seconds (5.14 k allocations: 48.800 MiB, 24.47% gc time)\n",
      "  0.043260 seconds (4.12 k allocations: 40.643 MiB, 20.78% gc time)\n",
      "  0.224553 seconds (10.27 k allocations: 193.596 MiB, 18.62% gc time)\n",
      "  0.185493 seconds (8.21 k allocations: 161.283 MiB, 14.97% gc time)\n",
      "  0.969095 seconds (41.00 k allocations: 769.626 MiB, 17.21% gc time)\n",
      "  0.985655 seconds (32.80 k allocations: 641.314 MiB, 24.83% gc time)\n"
     ]
    }
   ],
   "source": [
    "cerr = []\n",
    "berr = []\n",
    "nv = 2 .^(4:12)\n",
    "for nx = nv\n",
    "    global cerr, berr\n",
    "    u,x,t = @time CrankNick(f,ϕ0,ϕ1,nx,Float64(nx),T)\n",
    "    nt = length(t) -1\n",
    "    xx = x' .* ones(nt+1)\n",
    "    tt = ones(nx+2)' .* t\n",
    "    error = abs.(ue.(xx,tt) - u) \n",
    "    cerr = push!(cerr,maximum(error))\n",
    "    u,~,~ = @time BackwardEuler(f,ϕ0,ϕ1,nx,Float64(nx),T)\n",
    "    error = abs.(ue.(xx,tt) - u) \n",
    "    berr = push!(berr,maximum(error))\n",
    "end"
   ]
  },
  {
   "cell_type": "code",
   "execution_count": 9,
   "metadata": {},
   "outputs": [
    {
     "data": {
      "image/svg+xml": [
       "<?xml version=\"1.0\" encoding=\"utf-8\"?>\n",
       "<svg xmlns=\"http://www.w3.org/2000/svg\" xmlns:xlink=\"http://www.w3.org/1999/xlink\" width=\"600\" height=\"400\" viewBox=\"0 0 2400 1600\">\n",
       "<defs>\n",
       "  <clipPath id=\"clip130\">\n",
       "    <rect x=\"0\" y=\"0\" width=\"2400\" height=\"1600\"/>\n",
       "  </clipPath>\n",
       "</defs>\n",
       "<path clip-path=\"url(#clip130)\" d=\"\n",
       "M0 1600 L2400 1600 L2400 0 L0 0  Z\n",
       "  \" fill=\"#ffffff\" fill-rule=\"evenodd\" fill-opacity=\"1\"/>\n",
       "<defs>\n",
       "  <clipPath id=\"clip131\">\n",
       "    <rect x=\"480\" y=\"0\" width=\"1681\" height=\"1600\"/>\n",
       "  </clipPath>\n",
       "</defs>\n",
       "<path clip-path=\"url(#clip130)\" d=\"\n",
       "M252.501 1410.9 L2352.76 1410.9 L2352.76 47.2441 L252.501 47.2441  Z\n",
       "  \" fill=\"#ffffff\" fill-rule=\"evenodd\" fill-opacity=\"1\"/>\n",
       "<defs>\n",
       "  <clipPath id=\"clip132\">\n",
       "    <rect x=\"252\" y=\"47\" width=\"2101\" height=\"1365\"/>\n",
       "  </clipPath>\n",
       "</defs>\n",
       "<polyline clip-path=\"url(#clip132)\" style=\"stroke:#000000; stroke-linecap:round; stroke-linejoin:round; stroke-width:2; stroke-opacity:0.1; fill:none\" points=\"\n",
       "  966.75,1410.9 966.75,47.2441 \n",
       "  \"/>\n",
       "<polyline clip-path=\"url(#clip132)\" style=\"stroke:#000000; stroke-linecap:round; stroke-linejoin:round; stroke-width:2; stroke-opacity:0.1; fill:none\" points=\"\n",
       "  1789.5,1410.9 1789.5,47.2441 \n",
       "  \"/>\n",
       "<polyline clip-path=\"url(#clip130)\" style=\"stroke:#000000; stroke-linecap:round; stroke-linejoin:round; stroke-width:4; stroke-opacity:1; fill:none\" points=\"\n",
       "  252.501,1410.9 2352.76,1410.9 \n",
       "  \"/>\n",
       "<polyline clip-path=\"url(#clip130)\" style=\"stroke:#000000; stroke-linecap:round; stroke-linejoin:round; stroke-width:4; stroke-opacity:1; fill:none\" points=\"\n",
       "  966.75,1410.9 966.75,1392 \n",
       "  \"/>\n",
       "<polyline clip-path=\"url(#clip130)\" style=\"stroke:#000000; stroke-linecap:round; stroke-linejoin:round; stroke-width:4; stroke-opacity:1; fill:none\" points=\"\n",
       "  1789.5,1410.9 1789.5,1392 \n",
       "  \"/>\n",
       "<path clip-path=\"url(#clip130)\" d=\"M932.523 1485.02 L940.162 1485.02 L940.162 1458.66 L931.851 1460.32 L931.851 1456.06 L940.115 1454.4 L944.791 1454.4 L944.791 1485.02 L952.43 1485.02 L952.43 1488.96 L932.523 1488.96 L932.523 1485.02 Z\" fill=\"#000000\" fill-rule=\"evenodd\" fill-opacity=\"1\" /><path clip-path=\"url(#clip130)\" d=\"M971.874 1457.48 Q968.263 1457.48 966.435 1461.04 Q964.629 1464.58 964.629 1471.71 Q964.629 1478.82 966.435 1482.38 Q968.263 1485.92 971.874 1485.92 Q975.509 1485.92 977.314 1482.38 Q979.143 1478.82 979.143 1471.71 Q979.143 1464.58 977.314 1461.04 Q975.509 1457.48 971.874 1457.48 M971.874 1453.77 Q977.684 1453.77 980.74 1458.38 Q983.819 1462.96 983.819 1471.71 Q983.819 1480.44 980.74 1485.04 Q977.684 1489.63 971.874 1489.63 Q966.064 1489.63 962.986 1485.04 Q959.93 1480.44 959.93 1471.71 Q959.93 1462.96 962.986 1458.38 Q966.064 1453.77 971.874 1453.77 Z\" fill=\"#000000\" fill-rule=\"evenodd\" fill-opacity=\"1\" /><path clip-path=\"url(#clip130)\" d=\"M988.389 1458.35 L1001.65 1458.35 L1001.65 1461.55 L983.819 1461.55 L983.819 1458.35 Q985.982 1456.11 989.706 1452.35 Q993.448 1448.57 994.407 1447.48 Q996.232 1445.43 996.947 1444.02 Q997.68 1442.59 997.68 1441.22 Q997.68 1438.98 996.1 1437.57 Q994.539 1436.16 992.019 1436.16 Q990.232 1436.16 988.239 1436.78 Q986.264 1437.4 984.007 1438.66 L984.007 1434.82 Q986.301 1433.9 988.295 1433.43 Q990.289 1432.96 991.944 1432.96 Q996.307 1432.96 998.903 1435.14 Q1001.5 1437.32 1001.5 1440.97 Q1001.5 1442.7 1000.84 1444.26 Q1000.2 1445.8 998.489 1447.91 Q998.019 1448.46 995.498 1451.07 Q992.978 1453.67 988.389 1458.35 Z\" fill=\"#000000\" fill-rule=\"evenodd\" fill-opacity=\"1\" /><path clip-path=\"url(#clip130)\" d=\"M1754.94 1485.02 L1762.58 1485.02 L1762.58 1458.66 L1754.27 1460.32 L1754.27 1456.06 L1762.53 1454.4 L1767.21 1454.4 L1767.21 1485.02 L1774.85 1485.02 L1774.85 1488.96 L1754.94 1488.96 L1754.94 1485.02 Z\" fill=\"#000000\" fill-rule=\"evenodd\" fill-opacity=\"1\" /><path clip-path=\"url(#clip130)\" d=\"M1794.29 1457.48 Q1790.68 1457.48 1788.85 1461.04 Q1787.05 1464.58 1787.05 1471.71 Q1787.05 1478.82 1788.85 1482.38 Q1790.68 1485.92 1794.29 1485.92 Q1797.93 1485.92 1799.73 1482.38 Q1801.56 1478.82 1801.56 1471.71 Q1801.56 1464.58 1799.73 1461.04 Q1797.93 1457.48 1794.29 1457.48 M1794.29 1453.77 Q1800.1 1453.77 1803.16 1458.38 Q1806.24 1462.96 1806.24 1471.71 Q1806.24 1480.44 1803.16 1485.04 Q1800.1 1489.63 1794.29 1489.63 Q1788.48 1489.63 1785.4 1485.04 Q1782.35 1480.44 1782.35 1471.71 Q1782.35 1462.96 1785.4 1458.38 Q1788.48 1453.77 1794.29 1453.77 Z\" fill=\"#000000\" fill-rule=\"evenodd\" fill-opacity=\"1\" /><path clip-path=\"url(#clip130)\" d=\"M1818.93 1446.41 Q1821.66 1446.99 1823.18 1448.83 Q1824.72 1450.68 1824.72 1453.38 Q1824.72 1457.54 1821.87 1459.82 Q1819.01 1462.09 1813.74 1462.09 Q1811.97 1462.09 1810.09 1461.73 Q1808.23 1461.4 1806.24 1460.7 L1806.24 1457.03 Q1807.82 1457.95 1809.7 1458.42 Q1811.58 1458.89 1813.63 1458.89 Q1817.2 1458.89 1819.06 1457.48 Q1820.94 1456.07 1820.94 1453.38 Q1820.94 1450.9 1819.2 1449.51 Q1817.47 1448.1 1814.36 1448.1 L1811.09 1448.1 L1811.09 1444.98 L1814.51 1444.98 Q1817.31 1444.98 1818.8 1443.87 Q1820.29 1442.74 1820.29 1440.63 Q1820.29 1438.47 1818.74 1437.32 Q1817.22 1436.16 1814.36 1436.16 Q1812.8 1436.16 1811.01 1436.49 Q1809.23 1436.83 1807.08 1437.55 L1807.08 1434.16 Q1809.25 1433.56 1811.13 1433.26 Q1813.03 1432.96 1814.7 1432.96 Q1819.03 1432.96 1821.55 1434.93 Q1824.07 1436.89 1824.07 1440.24 Q1824.07 1442.57 1822.73 1444.19 Q1821.4 1445.79 1818.93 1446.41 Z\" fill=\"#000000\" fill-rule=\"evenodd\" fill-opacity=\"1\" /><path clip-path=\"url(#clip130)\" d=\"M1302.04 1552.67 L1302.04 1574.19 L1296.18 1574.19 L1296.18 1552.86 Q1296.18 1547.8 1294.21 1545.29 Q1292.24 1542.77 1288.29 1542.77 Q1283.55 1542.77 1280.81 1545.79 Q1278.07 1548.82 1278.07 1554.04 L1278.07 1574.19 L1272.18 1574.19 L1272.18 1538.54 L1278.07 1538.54 L1278.07 1544.08 Q1280.17 1540.86 1283.01 1539.27 Q1285.87 1537.68 1289.59 1537.68 Q1295.74 1537.68 1298.89 1541.5 Q1302.04 1545.29 1302.04 1552.67 Z\" fill=\"#000000\" fill-rule=\"evenodd\" fill-opacity=\"1\" /><path clip-path=\"url(#clip130)\" d=\"M1332.66 1554.23 L1324.54 1563.94 L1333.07 1574.19 L1328.71 1574.19 L1322.19 1566.36 L1315.66 1574.19 L1311.3 1574.19 L1320.02 1563.75 L1312.03 1554.23 L1316.39 1554.23 L1322.35 1561.33 L1328.3 1554.23 L1332.66 1554.23 Z\" fill=\"#000000\" fill-rule=\"evenodd\" fill-opacity=\"1\" /><polyline clip-path=\"url(#clip132)\" style=\"stroke:#000000; stroke-linecap:round; stroke-linejoin:round; stroke-width:2; stroke-opacity:0.1; fill:none\" points=\"\n",
       "  252.501,1409.79 2352.76,1409.79 \n",
       "  \"/>\n",
       "<polyline clip-path=\"url(#clip132)\" style=\"stroke:#000000; stroke-linecap:round; stroke-linejoin:round; stroke-width:2; stroke-opacity:0.1; fill:none\" points=\"\n",
       "  252.501,618.133 2352.76,618.133 \n",
       "  \"/>\n",
       "<polyline clip-path=\"url(#clip130)\" style=\"stroke:#000000; stroke-linecap:round; stroke-linejoin:round; stroke-width:4; stroke-opacity:1; fill:none\" points=\"\n",
       "  252.501,1410.9 252.501,47.2441 \n",
       "  \"/>\n",
       "<polyline clip-path=\"url(#clip130)\" style=\"stroke:#000000; stroke-linecap:round; stroke-linejoin:round; stroke-width:4; stroke-opacity:1; fill:none\" points=\"\n",
       "  252.501,1409.79 271.398,1409.79 \n",
       "  \"/>\n",
       "<polyline clip-path=\"url(#clip130)\" style=\"stroke:#000000; stroke-linecap:round; stroke-linejoin:round; stroke-width:4; stroke-opacity:1; fill:none\" points=\"\n",
       "  252.501,618.133 271.398,618.133 \n",
       "  \"/>\n",
       "<path clip-path=\"url(#clip130)\" d=\"M114.931 1429.58 L122.57 1429.58 L122.57 1403.22 L114.26 1404.88 L114.26 1400.62 L122.524 1398.96 L127.2 1398.96 L127.2 1429.58 L134.839 1429.58 L134.839 1433.52 L114.931 1433.52 L114.931 1429.58 Z\" fill=\"#000000\" fill-rule=\"evenodd\" fill-opacity=\"1\" /><path clip-path=\"url(#clip130)\" d=\"M154.283 1402.04 Q150.672 1402.04 148.843 1405.6 Q147.038 1409.14 147.038 1416.27 Q147.038 1423.38 148.843 1426.94 Q150.672 1430.49 154.283 1430.49 Q157.917 1430.49 159.723 1426.94 Q161.552 1423.38 161.552 1416.27 Q161.552 1409.14 159.723 1405.6 Q157.917 1402.04 154.283 1402.04 M154.283 1398.33 Q160.093 1398.33 163.149 1402.94 Q166.227 1407.52 166.227 1416.27 Q166.227 1425 163.149 1429.61 Q160.093 1434.19 154.283 1434.19 Q148.473 1434.19 145.394 1429.61 Q142.339 1425 142.339 1416.27 Q142.339 1407.52 145.394 1402.94 Q148.473 1398.33 154.283 1398.33 Z\" fill=\"#000000\" fill-rule=\"evenodd\" fill-opacity=\"1\" /><path clip-path=\"url(#clip130)\" d=\"M166.227 1392.43 L190.339 1392.43 L190.339 1395.63 L166.227 1395.63 L166.227 1392.43 Z\" fill=\"#000000\" fill-rule=\"evenodd\" fill-opacity=\"1\" /><path clip-path=\"url(#clip130)\" d=\"M207.134 1390.55 Q204.577 1390.55 203.072 1392.3 Q201.586 1394.05 201.586 1397.1 Q201.586 1400.13 203.072 1401.89 Q204.577 1403.64 207.134 1403.64 Q209.692 1403.64 211.178 1401.89 Q212.683 1400.13 212.683 1397.1 Q212.683 1394.05 211.178 1392.3 Q209.692 1390.55 207.134 1390.55 M214.676 1378.65 L214.676 1382.11 Q213.247 1381.43 211.78 1381.07 Q210.332 1380.72 208.902 1380.72 Q205.141 1380.72 203.147 1383.26 Q201.172 1385.8 200.89 1390.93 Q202 1389.29 203.674 1388.43 Q205.348 1387.54 207.36 1387.54 Q211.592 1387.54 214.037 1390.12 Q216.501 1392.68 216.501 1397.1 Q216.501 1401.42 213.943 1404.04 Q211.385 1406.65 207.134 1406.65 Q202.263 1406.65 199.686 1402.93 Q197.11 1399.19 197.11 1392.1 Q197.11 1385.44 200.27 1381.49 Q203.429 1377.52 208.752 1377.52 Q210.181 1377.52 211.629 1377.8 Q213.096 1378.08 214.676 1378.65 Z\" fill=\"#000000\" fill-rule=\"evenodd\" fill-opacity=\"1\" /><path clip-path=\"url(#clip130)\" d=\"M115.59 637.926 L123.229 637.926 L123.229 611.56 L114.918 613.227 L114.918 608.968 L123.182 607.301 L127.858 607.301 L127.858 637.926 L135.497 637.926 L135.497 641.861 L115.59 641.861 L115.59 637.926 Z\" fill=\"#000000\" fill-rule=\"evenodd\" fill-opacity=\"1\" /><path clip-path=\"url(#clip130)\" d=\"M154.941 610.38 Q151.33 610.38 149.502 613.944 Q147.696 617.486 147.696 624.616 Q147.696 631.722 149.502 635.287 Q151.33 638.828 154.941 638.828 Q158.576 638.828 160.381 635.287 Q162.21 631.722 162.21 624.616 Q162.21 617.486 160.381 613.944 Q158.576 610.38 154.941 610.38 M154.941 606.676 Q160.752 606.676 163.807 611.282 Q166.886 615.866 166.886 624.616 Q166.886 633.342 163.807 637.949 Q160.752 642.532 154.941 642.532 Q149.131 642.532 146.053 637.949 Q142.997 633.342 142.997 624.616 Q142.997 615.866 146.053 611.282 Q149.131 606.676 154.941 606.676 Z\" fill=\"#000000\" fill-rule=\"evenodd\" fill-opacity=\"1\" /><path clip-path=\"url(#clip130)\" d=\"M166.886 600.777 L190.997 600.777 L190.997 603.975 L166.886 603.975 L166.886 600.777 Z\" fill=\"#000000\" fill-rule=\"evenodd\" fill-opacity=\"1\" /><path clip-path=\"url(#clip130)\" d=\"M210.708 599.31 Q213.435 599.893 214.958 601.736 Q216.501 603.58 216.501 606.288 Q216.501 610.444 213.642 612.72 Q210.783 614.996 205.517 614.996 Q203.749 614.996 201.868 614.639 Q200.006 614.3 198.013 613.604 L198.013 609.937 Q199.592 610.858 201.473 611.328 Q203.354 611.799 205.404 611.799 Q208.978 611.799 210.84 610.388 Q212.72 608.977 212.72 606.288 Q212.72 603.805 210.971 602.414 Q209.241 601.003 206.138 601.003 L202.865 601.003 L202.865 597.881 L206.288 597.881 Q209.09 597.881 210.576 596.771 Q212.062 595.643 212.062 593.536 Q212.062 591.373 210.52 590.226 Q208.996 589.06 206.138 589.06 Q204.577 589.06 202.79 589.399 Q201.003 589.737 198.859 590.452 L198.859 587.066 Q201.022 586.465 202.903 586.164 Q204.802 585.863 206.476 585.863 Q210.802 585.863 213.322 587.837 Q215.842 589.794 215.842 593.141 Q215.842 595.473 214.507 597.091 Q213.172 598.69 210.708 599.31 Z\" fill=\"#000000\" fill-rule=\"evenodd\" fill-opacity=\"1\" /><path clip-path=\"url(#clip130)\" d=\"M35.1993 858.406 Q31.2526 856.209 29.3747 853.154 Q27.4968 850.098 27.4968 845.961 Q27.4968 840.391 31.4117 837.367 Q35.2948 834.343 42.4881 834.343 L64.0042 834.343 L64.0042 840.232 L42.679 840.232 Q37.5546 840.232 35.072 842.046 Q32.5894 843.86 32.5894 847.584 Q32.5894 852.135 35.6131 854.777 Q38.6368 857.419 43.8567 857.419 L64.0042 857.419 L64.0042 863.307 L42.679 863.307 Q37.5228 863.307 35.072 865.121 Q32.5894 866.936 32.5894 870.723 Q32.5894 875.211 35.6449 877.853 Q38.6686 880.495 43.8567 880.495 L64.0042 880.495 L64.0042 886.383 L28.3562 886.383 L28.3562 880.495 L33.8944 880.495 Q30.616 878.489 29.0564 875.689 Q27.4968 872.888 27.4968 869.036 Q27.4968 865.153 29.4702 862.448 Q31.4436 859.711 35.1993 858.406 Z\" fill=\"#000000\" fill-rule=\"evenodd\" fill-opacity=\"1\" /><path clip-path=\"url(#clip130)\" d=\"M46.0847 806.461 Q46.0847 813.559 47.7079 816.296 Q49.3312 819.034 53.2461 819.034 Q56.3653 819.034 58.2114 816.997 Q60.0256 814.928 60.0256 811.395 Q60.0256 806.525 56.5881 803.597 Q53.1188 800.637 47.3897 800.637 L46.0847 800.637 L46.0847 806.461 M43.6657 794.78 L64.0042 794.78 L64.0042 800.637 L58.5933 800.637 Q61.8398 802.642 63.3994 805.634 Q64.9272 808.626 64.9272 812.954 Q64.9272 818.429 61.8716 821.675 Q58.7843 824.89 53.6281 824.89 Q47.6125 824.89 44.5569 820.88 Q41.5014 816.838 41.5014 808.849 L41.5014 800.637 L40.9285 800.637 Q36.8862 800.637 34.6901 803.31 Q32.4621 805.952 32.4621 810.758 Q32.4621 813.814 33.1941 816.71 Q33.9262 819.607 35.3903 822.28 L29.9795 822.28 Q28.7381 819.066 28.1334 816.042 Q27.4968 813.018 27.4968 810.154 Q27.4968 802.419 31.5072 798.6 Q35.5176 794.78 43.6657 794.78 Z\" fill=\"#000000\" fill-rule=\"evenodd\" fill-opacity=\"1\" /><path clip-path=\"url(#clip130)\" d=\"M28.3562 753.085 L45.7028 765.976 L64.0042 752.417 L64.0042 759.323 L49.9996 769.699 L64.0042 780.076 L64.0042 786.982 L45.3526 773.137 L28.3562 785.805 L28.3562 778.898 L41.0558 769.445 L28.3562 759.992 L28.3562 753.085 Z\" fill=\"#000000\" fill-rule=\"evenodd\" fill-opacity=\"1\" /><path clip-path=\"url(#clip130)\" d=\"M44.7161 692.929 L47.5806 692.929 L47.5806 719.856 Q53.6281 719.474 56.8109 716.228 Q59.9619 712.949 59.9619 707.125 Q59.9619 703.751 59.1344 700.6 Q58.3069 697.417 56.6518 694.298 L62.1899 694.298 Q63.5267 697.449 64.227 700.759 Q64.9272 704.069 64.9272 707.475 Q64.9272 716.005 59.9619 721.002 Q54.9967 725.967 46.5303 725.967 Q37.7774 725.967 32.6531 721.256 Q27.4968 716.514 27.4968 708.493 Q27.4968 701.3 32.1438 697.13 Q36.7589 692.929 44.7161 692.929 M42.9973 698.786 Q38.1912 698.849 35.3266 701.491 Q32.4621 704.101 32.4621 708.43 Q32.4621 713.331 35.2312 716.291 Q38.0002 719.219 43.0292 719.665 L42.9973 698.786 Z\" fill=\"#000000\" fill-rule=\"evenodd\" fill-opacity=\"1\" /><path clip-path=\"url(#clip130)\" d=\"M33.8307 662.66 Q33.2578 663.647 33.0032 664.824 Q32.7167 665.97 32.7167 667.371 Q32.7167 672.336 35.9632 675.01 Q39.1779 677.651 45.2253 677.651 L64.0042 677.651 L64.0042 683.54 L28.3562 683.54 L28.3562 677.651 L33.8944 677.651 Q30.6479 675.805 29.0883 672.845 Q27.4968 669.885 27.4968 665.652 Q27.4968 665.047 27.5923 664.315 Q27.656 663.583 27.8151 662.692 L33.8307 662.66 Z\" fill=\"#000000\" fill-rule=\"evenodd\" fill-opacity=\"1\" /><path clip-path=\"url(#clip130)\" d=\"M33.8307 637.006 Q33.2578 637.993 33.0032 639.171 Q32.7167 640.317 32.7167 641.717 Q32.7167 646.682 35.9632 649.356 Q39.1779 651.998 45.2253 651.998 L64.0042 651.998 L64.0042 657.886 L28.3562 657.886 L28.3562 651.998 L33.8944 651.998 Q30.6479 650.152 29.0883 647.191 Q27.4968 644.231 27.4968 639.998 Q27.4968 639.393 27.5923 638.661 Q27.656 637.929 27.8151 637.038 L33.8307 637.006 Z\" fill=\"#000000\" fill-rule=\"evenodd\" fill-opacity=\"1\" /><path clip-path=\"url(#clip130)\" d=\"M32.4621 618.482 Q32.4621 623.193 36.1542 625.93 Q39.8145 628.667 46.212 628.667 Q52.6095 628.667 56.3017 625.962 Q59.9619 623.225 59.9619 618.482 Q59.9619 613.803 56.2698 611.066 Q52.5777 608.329 46.212 608.329 Q39.8781 608.329 36.186 611.066 Q32.4621 613.803 32.4621 618.482 M27.4968 618.482 Q27.4968 610.843 32.4621 606.483 Q37.4273 602.122 46.212 602.122 Q54.9649 602.122 59.9619 606.483 Q64.9272 610.843 64.9272 618.482 Q64.9272 626.153 59.9619 630.513 Q54.9649 634.842 46.212 634.842 Q37.4273 634.842 32.4621 630.513 Q27.4968 626.153 27.4968 618.482 Z\" fill=\"#000000\" fill-rule=\"evenodd\" fill-opacity=\"1\" /><path clip-path=\"url(#clip130)\" d=\"M33.8307 571.758 Q33.2578 572.745 33.0032 573.922 Q32.7167 575.068 32.7167 576.468 Q32.7167 581.434 35.9632 584.107 Q39.1779 586.749 45.2253 586.749 L64.0042 586.749 L64.0042 592.637 L28.3562 592.637 L28.3562 586.749 L33.8944 586.749 Q30.6479 584.903 29.0883 581.943 Q27.4968 578.983 27.4968 574.75 Q27.4968 574.145 27.5923 573.413 Q27.656 572.681 27.8151 571.79 L33.8307 571.758 Z\" fill=\"#000000\" fill-rule=\"evenodd\" fill-opacity=\"1\" /><polyline clip-path=\"url(#clip132)\" style=\"stroke:#009af9; stroke-linecap:round; stroke-linejoin:round; stroke-width:4; stroke-opacity:1; fill:none\" points=\"\n",
       "  311.942,122.952 559.613,258.233 807.285,423.948 1054.96,580.75 1302.63,738.501 1550.3,896.402 1797.97,1054.88 2045.64,1213.54 2293.31,1372.3 \n",
       "  \"/>\n",
       "<polyline clip-path=\"url(#clip132)\" style=\"stroke:#e26f46; stroke-linecap:round; stroke-linejoin:round; stroke-width:4; stroke-opacity:1; fill:none\" points=\"\n",
       "  311.942,85.838 559.613,121.998 807.285,181.431 1054.96,249.342 1302.63,321.037 1550.3,396.744 1797.97,474.211 2045.64,552.646 2293.31,631.578 \n",
       "  \"/>\n",
       "<path clip-path=\"url(#clip130)\" d=\"\n",
       "M1708.81 248.219 L2282.75 248.219 L2282.75 92.6992 L1708.81 92.6992  Z\n",
       "  \" fill=\"#ffffff\" fill-rule=\"evenodd\" fill-opacity=\"1\"/>\n",
       "<polyline clip-path=\"url(#clip130)\" style=\"stroke:#000000; stroke-linecap:round; stroke-linejoin:round; stroke-width:4; stroke-opacity:1; fill:none\" points=\"\n",
       "  1708.81,248.219 2282.75,248.219 2282.75,92.6992 1708.81,92.6992 1708.81,248.219 \n",
       "  \"/>\n",
       "<polyline clip-path=\"url(#clip130)\" style=\"stroke:#009af9; stroke-linecap:round; stroke-linejoin:round; stroke-width:4; stroke-opacity:1; fill:none\" points=\"\n",
       "  1732.15,144.539 1872.16,144.539 \n",
       "  \"/>\n",
       "<path clip-path=\"url(#clip130)\" d=\"M1923.37 129.921 L1923.37 134.852 Q1921.01 132.653 1918.33 131.565 Q1915.66 130.477 1912.65 130.477 Q1906.73 130.477 1903.58 134.111 Q1900.43 137.722 1900.43 144.574 Q1900.43 151.403 1903.58 155.037 Q1906.73 158.648 1912.65 158.648 Q1915.66 158.648 1918.33 157.56 Q1921.01 156.472 1923.37 154.273 L1923.37 159.157 Q1920.92 160.824 1918.16 161.657 Q1915.43 162.49 1912.38 162.49 Q1904.53 162.49 1900.02 157.699 Q1895.5 152.884 1895.5 144.574 Q1895.5 136.241 1900.02 131.449 Q1904.53 126.634 1912.38 126.634 Q1915.48 126.634 1918.21 127.468 Q1920.96 128.278 1923.37 129.921 Z\" fill=\"#000000\" fill-rule=\"evenodd\" fill-opacity=\"1\" /><path clip-path=\"url(#clip130)\" d=\"M1945.43 139.875 Q1944.71 139.458 1943.86 139.273 Q1943.02 139.065 1942.01 139.065 Q1938.39 139.065 1936.45 141.426 Q1934.53 143.764 1934.53 148.162 L1934.53 161.819 L1930.25 161.819 L1930.25 135.893 L1934.53 135.893 L1934.53 139.921 Q1935.87 137.56 1938.02 136.426 Q1940.18 135.268 1943.26 135.268 Q1943.7 135.268 1944.23 135.338 Q1944.76 135.384 1945.41 135.5 L1945.43 139.875 Z\" fill=\"#000000\" fill-rule=\"evenodd\" fill-opacity=\"1\" /><path clip-path=\"url(#clip130)\" d=\"M1961.68 148.787 Q1956.52 148.787 1954.53 149.967 Q1952.54 151.148 1952.54 153.995 Q1952.54 156.264 1954.02 157.606 Q1955.52 158.926 1958.09 158.926 Q1961.64 158.926 1963.76 156.426 Q1965.92 153.903 1965.92 149.736 L1965.92 148.787 L1961.68 148.787 M1970.18 147.028 L1970.18 161.819 L1965.92 161.819 L1965.92 157.884 Q1964.46 160.245 1962.28 161.379 Q1960.11 162.49 1956.96 162.49 Q1952.98 162.49 1950.62 160.268 Q1948.28 158.023 1948.28 154.273 Q1948.28 149.898 1951.2 147.676 Q1954.14 145.454 1959.95 145.454 L1965.92 145.454 L1965.92 145.037 Q1965.92 142.097 1963.97 140.5 Q1962.05 138.879 1958.56 138.879 Q1956.33 138.879 1954.23 139.412 Q1952.12 139.944 1950.18 141.009 L1950.18 137.074 Q1952.51 136.171 1954.71 135.731 Q1956.91 135.268 1959 135.268 Q1964.62 135.268 1967.4 138.185 Q1970.18 141.102 1970.18 147.028 Z\" fill=\"#000000\" fill-rule=\"evenodd\" fill-opacity=\"1\" /><path clip-path=\"url(#clip130)\" d=\"M2000.5 146.171 L2000.5 161.819 L1996.24 161.819 L1996.24 146.31 Q1996.24 142.629 1994.81 140.801 Q1993.37 138.972 1990.5 138.972 Q1987.05 138.972 1985.06 141.171 Q1983.07 143.37 1983.07 147.166 L1983.07 161.819 L1978.79 161.819 L1978.79 135.893 L1983.07 135.893 L1983.07 139.921 Q1984.6 137.583 1986.66 136.426 Q1988.74 135.268 1991.45 135.268 Q1995.92 135.268 1998.21 138.046 Q2000.5 140.801 2000.5 146.171 Z\" fill=\"#000000\" fill-rule=\"evenodd\" fill-opacity=\"1\" /><path clip-path=\"url(#clip130)\" d=\"M2008.83 125.801 L2013.12 125.801 L2013.12 147.074 L2025.82 135.893 L2031.26 135.893 L2017.51 148.023 L2031.84 161.819 L2026.29 161.819 L2013.12 149.157 L2013.12 161.819 L2008.83 161.819 L2008.83 125.801 Z\" fill=\"#000000\" fill-rule=\"evenodd\" fill-opacity=\"1\" /><path clip-path=\"url(#clip130)\" d=\"M2034.3 146.935 L2046.77 146.935 L2046.77 150.731 L2034.3 150.731 L2034.3 146.935 Z\" fill=\"#000000\" fill-rule=\"evenodd\" fill-opacity=\"1\" /><path clip-path=\"url(#clip130)\" d=\"M2053.74 127.259 L2060.04 127.259 L2075.36 156.171 L2075.36 127.259 L2079.9 127.259 L2079.9 161.819 L2073.6 161.819 L2058.28 132.907 L2058.28 161.819 L2053.74 161.819 L2053.74 127.259 Z\" fill=\"#000000\" fill-rule=\"evenodd\" fill-opacity=\"1\" /><path clip-path=\"url(#clip130)\" d=\"M2089.02 135.893 L2093.28 135.893 L2093.28 161.819 L2089.02 161.819 L2089.02 135.893 M2089.02 125.801 L2093.28 125.801 L2093.28 131.194 L2089.02 131.194 L2089.02 125.801 Z\" fill=\"#000000\" fill-rule=\"evenodd\" fill-opacity=\"1\" /><path clip-path=\"url(#clip130)\" d=\"M2120.85 136.889 L2120.85 140.87 Q2119.04 139.875 2117.21 139.389 Q2115.41 138.879 2113.56 138.879 Q2109.41 138.879 2107.12 141.518 Q2104.83 144.134 2104.83 148.879 Q2104.83 153.625 2107.12 156.264 Q2109.41 158.879 2113.56 158.879 Q2115.41 158.879 2117.21 158.393 Q2119.04 157.884 2120.85 156.889 L2120.85 160.824 Q2119.06 161.657 2117.14 162.074 Q2115.25 162.49 2113.09 162.49 Q2107.24 162.49 2103.79 158.81 Q2100.34 155.129 2100.34 148.879 Q2100.34 142.537 2103.81 138.903 Q2107.31 135.268 2113.37 135.268 Q2115.34 135.268 2117.21 135.685 Q2119.09 136.079 2120.85 136.889 Z\" fill=\"#000000\" fill-rule=\"evenodd\" fill-opacity=\"1\" /><path clip-path=\"url(#clip130)\" d=\"M2138.3 138.879 Q2134.87 138.879 2132.88 141.565 Q2130.89 144.227 2130.89 148.879 Q2130.89 153.532 2132.86 156.217 Q2134.85 158.879 2138.3 158.879 Q2141.7 158.879 2143.69 156.194 Q2145.68 153.509 2145.68 148.879 Q2145.68 144.273 2143.69 141.588 Q2141.7 138.879 2138.3 138.879 M2138.3 135.268 Q2143.86 135.268 2147.03 138.879 Q2150.2 142.491 2150.2 148.879 Q2150.2 155.245 2147.03 158.879 Q2143.86 162.49 2138.3 162.49 Q2132.72 162.49 2129.55 158.879 Q2126.4 155.245 2126.4 148.879 Q2126.4 142.491 2129.55 138.879 Q2132.72 135.268 2138.3 135.268 Z\" fill=\"#000000\" fill-rule=\"evenodd\" fill-opacity=\"1\" /><path clip-path=\"url(#clip130)\" d=\"M2157.26 125.801 L2161.52 125.801 L2161.52 161.819 L2157.26 161.819 L2157.26 125.801 Z\" fill=\"#000000\" fill-rule=\"evenodd\" fill-opacity=\"1\" /><path clip-path=\"url(#clip130)\" d=\"M2186.96 136.657 L2186.96 140.685 Q2185.15 139.759 2183.21 139.296 Q2181.26 138.833 2179.18 138.833 Q2176.01 138.833 2174.41 139.805 Q2172.84 140.778 2172.84 142.722 Q2172.84 144.204 2173.97 145.06 Q2175.11 145.893 2178.53 146.657 L2179.99 146.981 Q2184.53 147.954 2186.43 149.736 Q2188.35 151.495 2188.35 154.666 Q2188.35 158.278 2185.48 160.384 Q2182.63 162.49 2177.63 162.49 Q2175.55 162.49 2173.28 162.074 Q2171.03 161.68 2168.53 160.87 L2168.53 156.472 Q2170.89 157.699 2173.18 158.324 Q2175.48 158.926 2177.72 158.926 Q2180.73 158.926 2182.35 157.907 Q2183.97 156.866 2183.97 154.991 Q2183.97 153.254 2182.79 152.328 Q2181.63 151.403 2177.68 150.546 L2176.19 150.199 Q2172.24 149.366 2170.48 147.653 Q2168.72 145.916 2168.72 142.907 Q2168.72 139.25 2171.31 137.259 Q2173.9 135.268 2178.67 135.268 Q2181.03 135.268 2183.12 135.616 Q2185.2 135.963 2186.96 136.657 Z\" fill=\"#000000\" fill-rule=\"evenodd\" fill-opacity=\"1\" /><path clip-path=\"url(#clip130)\" d=\"M2205.18 138.879 Q2201.75 138.879 2199.76 141.565 Q2197.77 144.227 2197.77 148.879 Q2197.77 153.532 2199.74 156.217 Q2201.73 158.879 2205.18 158.879 Q2208.58 158.879 2210.57 156.194 Q2212.56 153.509 2212.56 148.879 Q2212.56 144.273 2210.57 141.588 Q2208.58 138.879 2205.18 138.879 M2205.18 135.268 Q2210.73 135.268 2213.9 138.879 Q2217.07 142.491 2217.07 148.879 Q2217.07 155.245 2213.9 158.879 Q2210.73 162.49 2205.18 162.49 Q2199.6 162.49 2196.43 158.879 Q2193.28 155.245 2193.28 148.879 Q2193.28 142.491 2196.43 138.879 Q2199.6 135.268 2205.18 135.268 Z\" fill=\"#000000\" fill-rule=\"evenodd\" fill-opacity=\"1\" /><path clip-path=\"url(#clip130)\" d=\"M2245.68 146.171 L2245.68 161.819 L2241.43 161.819 L2241.43 146.31 Q2241.43 142.629 2239.99 140.801 Q2238.55 138.972 2235.68 138.972 Q2232.24 138.972 2230.24 141.171 Q2228.25 143.37 2228.25 147.166 L2228.25 161.819 L2223.97 161.819 L2223.97 135.893 L2228.25 135.893 L2228.25 139.921 Q2229.78 137.583 2231.84 136.426 Q2233.93 135.268 2236.63 135.268 Q2241.1 135.268 2243.39 138.046 Q2245.68 140.801 2245.68 146.171 Z\" fill=\"#000000\" fill-rule=\"evenodd\" fill-opacity=\"1\" /><polyline clip-path=\"url(#clip130)\" style=\"stroke:#e26f46; stroke-linecap:round; stroke-linejoin:round; stroke-width:4; stroke-opacity:1; fill:none\" points=\"\n",
       "  1732.15,196.379 1872.16,196.379 \n",
       "  \"/>\n",
       "<path clip-path=\"url(#clip130)\" d=\"M1900.18 197.155 L1900.18 209.817 L1907.68 209.817 Q1911.45 209.817 1913.26 208.266 Q1915.08 206.692 1915.08 203.474 Q1915.08 200.233 1913.26 198.706 Q1911.45 197.155 1907.68 197.155 L1900.18 197.155 M1900.18 182.942 L1900.18 193.358 L1907.1 193.358 Q1910.52 193.358 1912.19 192.085 Q1913.88 190.789 1913.88 188.15 Q1913.88 185.534 1912.19 184.238 Q1910.52 182.942 1907.1 182.942 L1900.18 182.942 M1895.5 179.099 L1907.45 179.099 Q1912.79 179.099 1915.69 181.321 Q1918.58 183.544 1918.58 187.641 Q1918.58 190.812 1917.1 192.687 Q1915.62 194.562 1912.75 195.025 Q1916.2 195.766 1918.09 198.127 Q1920.01 200.465 1920.01 203.983 Q1920.01 208.613 1916.87 211.136 Q1913.72 213.659 1907.91 213.659 L1895.5 213.659 L1895.5 179.099 Z\" fill=\"#000000\" fill-rule=\"evenodd\" fill-opacity=\"1\" /><path clip-path=\"url(#clip130)\" d=\"M1939.62 200.627 Q1934.46 200.627 1932.47 201.807 Q1930.48 202.988 1930.48 205.835 Q1930.48 208.104 1931.96 209.446 Q1933.46 210.766 1936.03 210.766 Q1939.57 210.766 1941.7 208.266 Q1943.86 205.743 1943.86 201.576 L1943.86 200.627 L1939.62 200.627 M1948.12 198.868 L1948.12 213.659 L1943.86 213.659 L1943.86 209.724 Q1942.4 212.085 1940.22 213.219 Q1938.05 214.33 1934.9 214.33 Q1930.92 214.33 1928.56 212.108 Q1926.22 209.863 1926.22 206.113 Q1926.22 201.738 1929.14 199.516 Q1932.08 197.294 1937.89 197.294 L1943.86 197.294 L1943.86 196.877 Q1943.86 193.937 1941.91 192.34 Q1939.99 190.719 1936.5 190.719 Q1934.27 190.719 1932.17 191.252 Q1930.06 191.784 1928.12 192.849 L1928.12 188.914 Q1930.45 188.011 1932.65 187.571 Q1934.85 187.108 1936.94 187.108 Q1942.56 187.108 1945.34 190.025 Q1948.12 192.942 1948.12 198.868 Z\" fill=\"#000000\" fill-rule=\"evenodd\" fill-opacity=\"1\" /><path clip-path=\"url(#clip130)\" d=\"M1975.55 188.729 L1975.55 192.71 Q1973.74 191.715 1971.91 191.229 Q1970.11 190.719 1968.26 190.719 Q1964.11 190.719 1961.82 193.358 Q1959.53 195.974 1959.53 200.719 Q1959.53 205.465 1961.82 208.104 Q1964.11 210.719 1968.26 210.719 Q1970.11 210.719 1971.91 210.233 Q1973.74 209.724 1975.55 208.729 L1975.55 212.664 Q1973.76 213.497 1971.84 213.914 Q1969.95 214.33 1967.79 214.33 Q1961.94 214.33 1958.49 210.65 Q1955.04 206.969 1955.04 200.719 Q1955.04 194.377 1958.51 190.743 Q1962.01 187.108 1968.07 187.108 Q1970.04 187.108 1971.91 187.525 Q1973.79 187.919 1975.55 188.729 Z\" fill=\"#000000\" fill-rule=\"evenodd\" fill-opacity=\"1\" /><path clip-path=\"url(#clip130)\" d=\"M1982.79 177.641 L1987.07 177.641 L1987.07 198.914 L1999.78 187.733 L2005.22 187.733 L1991.47 199.863 L2005.8 213.659 L2000.25 213.659 L1987.07 200.997 L1987.07 213.659 L1982.79 213.659 L1982.79 177.641 Z\" fill=\"#000000\" fill-rule=\"evenodd\" fill-opacity=\"1\" /><path clip-path=\"url(#clip130)\" d=\"M2007.93 187.733 L2012.19 187.733 L2017.51 207.965 L2022.82 187.733 L2027.84 187.733 L2033.16 207.965 L2038.46 187.733 L2042.72 187.733 L2035.94 213.659 L2030.92 213.659 L2025.34 192.409 L2019.74 213.659 L2014.71 213.659 L2007.93 187.733 Z\" fill=\"#000000\" fill-rule=\"evenodd\" fill-opacity=\"1\" /><path clip-path=\"url(#clip130)\" d=\"M2060.96 200.627 Q2055.8 200.627 2053.81 201.807 Q2051.82 202.988 2051.82 205.835 Q2051.82 208.104 2053.3 209.446 Q2054.81 210.766 2057.38 210.766 Q2060.92 210.766 2063.05 208.266 Q2065.2 205.743 2065.2 201.576 L2065.2 200.627 L2060.96 200.627 M2069.46 198.868 L2069.46 213.659 L2065.2 213.659 L2065.2 209.724 Q2063.74 212.085 2061.57 213.219 Q2059.39 214.33 2056.24 214.33 Q2052.26 214.33 2049.9 212.108 Q2047.56 209.863 2047.56 206.113 Q2047.56 201.738 2050.48 199.516 Q2053.42 197.294 2059.23 197.294 L2065.2 197.294 L2065.2 196.877 Q2065.2 193.937 2063.25 192.34 Q2061.33 190.719 2057.84 190.719 Q2055.62 190.719 2053.51 191.252 Q2051.4 191.784 2049.46 192.849 L2049.46 188.914 Q2051.8 188.011 2054 187.571 Q2056.19 187.108 2058.28 187.108 Q2063.9 187.108 2066.68 190.025 Q2069.46 192.942 2069.46 198.868 Z\" fill=\"#000000\" fill-rule=\"evenodd\" fill-opacity=\"1\" /><path clip-path=\"url(#clip130)\" d=\"M2093.25 191.715 Q2092.54 191.298 2091.68 191.113 Q2090.85 190.905 2089.83 190.905 Q2086.22 190.905 2084.27 193.266 Q2082.35 195.604 2082.35 200.002 L2082.35 213.659 L2078.07 213.659 L2078.07 187.733 L2082.35 187.733 L2082.35 191.761 Q2083.69 189.4 2085.85 188.266 Q2088 187.108 2091.08 187.108 Q2091.52 187.108 2092.05 187.178 Q2092.58 187.224 2093.23 187.34 L2093.25 191.715 Z\" fill=\"#000000\" fill-rule=\"evenodd\" fill-opacity=\"1\" /><path clip-path=\"url(#clip130)\" d=\"M2113.95 191.669 L2113.95 177.641 L2118.21 177.641 L2118.21 213.659 L2113.95 213.659 L2113.95 209.77 Q2112.61 212.085 2110.55 213.219 Q2108.51 214.33 2105.64 214.33 Q2100.94 214.33 2097.98 210.58 Q2095.04 206.831 2095.04 200.719 Q2095.04 194.608 2097.98 190.858 Q2100.94 187.108 2105.64 187.108 Q2108.51 187.108 2110.55 188.243 Q2112.61 189.354 2113.95 191.669 M2099.44 200.719 Q2099.44 205.418 2101.36 208.104 Q2103.3 210.766 2106.68 210.766 Q2110.06 210.766 2112 208.104 Q2113.95 205.418 2113.95 200.719 Q2113.95 196.02 2112 193.358 Q2110.06 190.673 2106.68 190.673 Q2103.3 190.673 2101.36 193.358 Q2099.44 196.02 2099.44 200.719 Z\" fill=\"#000000\" fill-rule=\"evenodd\" fill-opacity=\"1\" /><path clip-path=\"url(#clip130)\" d=\"M2142.24 179.099 L2164.09 179.099 L2164.09 183.034 L2146.91 183.034 L2146.91 193.266 L2163.37 193.266 L2163.37 197.201 L2146.91 197.201 L2146.91 209.724 L2164.5 209.724 L2164.5 213.659 L2142.24 213.659 L2142.24 179.099 Z\" fill=\"#000000\" fill-rule=\"evenodd\" fill-opacity=\"1\" /><path clip-path=\"url(#clip130)\" d=\"M2171.56 203.428 L2171.56 187.733 L2175.82 187.733 L2175.82 203.266 Q2175.82 206.946 2177.26 208.798 Q2178.69 210.627 2181.56 210.627 Q2185.01 210.627 2187 208.428 Q2189.02 206.229 2189.02 202.432 L2189.02 187.733 L2193.28 187.733 L2193.28 213.659 L2189.02 213.659 L2189.02 209.678 Q2187.47 212.039 2185.41 213.196 Q2183.37 214.33 2180.66 214.33 Q2176.19 214.33 2173.88 211.553 Q2171.56 208.775 2171.56 203.428 M2182.28 187.108 L2182.28 187.108 Z\" fill=\"#000000\" fill-rule=\"evenodd\" fill-opacity=\"1\" /><path clip-path=\"url(#clip130)\" d=\"M2202.05 177.641 L2206.31 177.641 L2206.31 213.659 L2202.05 213.659 L2202.05 177.641 Z\" fill=\"#000000\" fill-rule=\"evenodd\" fill-opacity=\"1\" /><path clip-path=\"url(#clip130)\" d=\"M2237.4 199.631 L2237.4 201.715 L2217.81 201.715 Q2218.09 206.113 2220.45 208.428 Q2222.84 210.719 2227.07 210.719 Q2229.53 210.719 2231.82 210.118 Q2234.13 209.516 2236.4 208.312 L2236.4 212.34 Q2234.11 213.312 2231.7 213.821 Q2229.3 214.33 2226.82 214.33 Q2220.62 214.33 2216.98 210.719 Q2213.37 207.108 2213.37 200.951 Q2213.37 194.585 2216.8 190.858 Q2220.24 187.108 2226.08 187.108 Q2231.31 187.108 2234.34 190.488 Q2237.4 193.844 2237.4 199.631 M2233.14 198.381 Q2233.09 194.886 2231.17 192.803 Q2229.27 190.719 2226.12 190.719 Q2222.56 190.719 2220.41 192.733 Q2218.28 194.747 2217.95 198.405 L2233.14 198.381 Z\" fill=\"#000000\" fill-rule=\"evenodd\" fill-opacity=\"1\" /><path clip-path=\"url(#clip130)\" d=\"M2259.41 191.715 Q2258.69 191.298 2257.84 191.113 Q2257 190.905 2255.99 190.905 Q2252.37 190.905 2250.43 193.266 Q2248.51 195.604 2248.51 200.002 L2248.51 213.659 L2244.23 213.659 L2244.23 187.733 L2248.51 187.733 L2248.51 191.761 Q2249.85 189.4 2252 188.266 Q2254.16 187.108 2257.24 187.108 Q2257.68 187.108 2258.21 187.178 Q2258.74 187.224 2259.39 187.34 L2259.41 191.715 Z\" fill=\"#000000\" fill-rule=\"evenodd\" fill-opacity=\"1\" /></svg>\n"
      ]
     },
     "execution_count": 9,
     "metadata": {},
     "output_type": "execute_result"
    }
   ],
   "source": [
    "plot(nv,cerr;yscale=:log10,xscale=:log10,label=\"Crank-Nicolson\",xlabel=\"nₓ\")\n",
    "plot!(nv,berr;yscale=:log10,xscale=:log10,label=\"Backward Euler\",ylabel=\"max error\")"
   ]
  },
  {
   "cell_type": "markdown",
   "metadata": {},
   "source": [
    "For the Crank-Nicolson method, we estimate the slope of the curve as follows:"
   ]
  },
  {
   "cell_type": "code",
   "execution_count": 10,
   "metadata": {},
   "outputs": [
    {
     "data": {
      "text/plain": [
       "-1.9946564796544979"
      ]
     },
     "execution_count": 10,
     "metadata": {},
     "output_type": "execute_result"
    }
   ],
   "source": [
    "log(cerr[end]/cerr[end-4])/log(nv[end]/nv[end-4])"
   ]
  },
  {
   "cell_type": "markdown",
   "metadata": {},
   "source": [
    "For the backward Euler method, the slope is approximately"
   ]
  },
  {
   "cell_type": "code",
   "execution_count": 11,
   "metadata": {},
   "outputs": [
    {
     "data": {
      "text/plain": [
       "-0.9854061549915227"
      ]
     },
     "execution_count": 11,
     "metadata": {},
     "output_type": "execute_result"
    }
   ],
   "source": [
    "log(berr[end]/berr[end-3])/log(nv[end]/nv[end-3])"
   ]
  },
  {
   "cell_type": "markdown",
   "metadata": {},
   "source": [
    "Hence, for the Crank-Nicolson method, the error decays as $\\mathcal{O}(n_x^{-2})$ and for the backward Euler method, the error decays as $\\mathcal{O}(n_x^{-1})$ as $n_x \\to \\infty$."
   ]
  }
 ],
 "metadata": {
  "kernelspec": {
   "display_name": "Julia 1.8.3",
   "language": "julia",
   "name": "julia-1.8"
  },
  "language_info": {
   "file_extension": ".jl",
   "mimetype": "application/julia",
   "name": "julia",
   "version": "1.8.3"
  }
 },
 "nbformat": 4,
 "nbformat_minor": 4
}
