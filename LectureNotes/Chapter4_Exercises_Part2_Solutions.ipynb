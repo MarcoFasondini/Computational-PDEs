{
 "cells": [
  {
   "cell_type": "markdown",
   "metadata": {},
   "source": [
    "Consider the Laguerre polynomials\n",
    "$$\n",
    "L_n^{(\\alpha)}(x) = {(-1)^n \\over n! } x^n + O(x^{n-1})\n",
    "$$\n",
    "   where $\\alpha > -1$, which are orthogonal with respect to\n",
    "$$\n",
    "\\langle f,g\\rangle_\\alpha = \\int_0^\\infty f(x) g(x) x^\\alpha {\\rm e}^{-x}\\,{\\rm d}x.\n",
    "$$"
   ]
  },
  {
   "cell_type": "markdown",
   "metadata": {},
   "source": [
    "1. Show that the Rodrigues formula holds:\n",
    "$$\n",
    "L_n^{(\\alpha)}(x) = {x^{-\\alpha} {\\rm e}^x \\over n!} {{\\rm d}^n \\over \\,{\\rm d}x^n}\\left[x^{\\alpha+n}{\\rm e}^{-x}\\right].\n",
    "$$\n",
    "   In other words, prove that $L_n^{(\\alpha)}(x)$ (defined by the Rodrigues formula) is\n",
    "   \n",
    "   (i) a polynomial of degree exactly $n$\n",
    "   \n",
    "   (ii) orthogonal to all lower degree polynomials \n",
    "   \n",
    "   (iii) has leading coefficient $\\frac{(-1)^n}{n!}$\n",
    "   \n",
    "   Hints: For (i) and (iii), it may be helpful first to prove that\n",
    "$$\n",
    "{{\\rm d} \\over \\,{\\rm d}x}\\left[x^{\\alpha+1} {\\rm e}^{-x} L_n^{(\\alpha+1)}(x) \\right]  = (n+1)x^{\\alpha} {\\rm e}^{-x}L_{n+1}^{(\\alpha)}(x)\n",
    "$$\n",
    "   For (ii), use integration by parts."
   ]
  },
  {
   "cell_type": "markdown",
   "metadata": {},
   "source": [
    "\n",
    "Following the hint, we have that\n",
    "$$\n",
    "\\begin{eqnarray*}\n",
    "{{\\rm d} \\over \\,{\\rm d}x}\\left[x^{\\alpha+1} {\\rm e}^{-x} L_n^{(\\alpha+1)}(x) \\right]  &=& {{\\rm d} \\over \\,{\\rm d}x}\\left[ {1 \\over n!} {{\\rm d}^n \\over \\,{\\rm d}x^n}\\left[x^{\\alpha+1+n}{\\rm e}^{-x}\\right] \\right] \\\\\n",
    "&=& (n+1) {1 \\over (n+1)!} {{\\rm d}^{n+1} \\over \\,{\\rm d}x^{n+1}}\\left[x^{\\alpha+n+1}{\\rm e}^{-x}\\right] \\\\\n",
    "&=& (n+1)x^{\\alpha} {\\rm e}^{-x}L_{n+1}^{(\\alpha)}(x),\n",
    "\\end{eqnarray*}\n",
    "$$\n",
    "hence, differentiating, we find that\n",
    "$$\n",
    "\\left[(\\alpha + 1) - x   \\right]x^{\\alpha} {\\rm e}^{-x} L_n^{(\\alpha+1)}(x) + x^{\\alpha+1} {\\rm e}^{-x} \\left(L_n^{(\\alpha+1)}\\right)'(x) = (n+1)x^{\\alpha} {\\rm e}^{-x}L_{n+1}^{(\\alpha)}(x)\n",
    "$$\n",
    "or \n",
    "$$\n",
    "(\\alpha+1 -x)L_n^{(\\alpha+1)}(x) + x(L_n^{(\\alpha+1)})'(x) = (n+1) L_{n+1}^{(\\alpha)}(x).\n",
    "$$\n",
    "By induction with the fact $L_0^{(\\alpha)}(x) = 1$, we therefore get that\n",
    "$$\n",
    "L_n^{(\\alpha)}(x) = {(\\alpha+1 -x)L_{n-1}^{(\\alpha+1)}(x) + x(L_{n-1}^{(\\alpha+1)})'(x) \\over n}\n",
    "$$\n",
    "is a degree $n$ polynomial, which proves (i). \n",
    "\n",
    "To prove (iii), we note that the leading coefficient (coefficient of the highest degree term) is\n",
    "$$\n",
    "\\begin{align*}\n",
    "L_n^{(\\alpha)}(x) &= -{x \\over n} L_{n-1}^{(\\alpha+1)}(x) +O(x^{n-1}) =   {x^2 \\over n(n-1)} L_{n-2}^{(\\alpha+2)}(x) +O(x^{n-1}) = \\cdots \n",
    "= {(-1)^n x^n \\over n!} L_0^{(\\alpha+n)}(x) +O(x^{n-1}) \\\\\n",
    "&= {(-1)^n x^n \\over n!} +O(x^{n-1})\n",
    "\\end{align*}\n",
    "$$\n",
    "\n",
    "We now prove (ii) using integration by parts: let $p_m(x)$ denote a polynomial of degree $m <n$, then integrating by parts $n$ times,\n",
    "$$\n",
    "\\begin{eqnarray*}\n",
    "\\langle  L_n^{(\\alpha)}, p_m \\rangle_{\\alpha} &=& \\int_0^\\infty L_n^{(\\alpha)}(x) p_m(x) x^\\alpha {\\rm e}^{-x} {\\rm d} x \\\\\n",
    "&=&\n",
    "\\int_0^\\infty  {1 \\over n!} {{\\rm d}^n \\over {\\rm d} x^n}\\left[x^{\\alpha+n}{\\rm e}^{-x}\\right]  p_m(x)  {\\rm d} x \\\\\n",
    "&=&\n",
    "-\\int_0^\\infty  {1 \\over n!} {{\\rm d}^{n-1} \\over {\\rm d} x^{n-1}}\\left[x^{\\alpha+n}{\\rm e}^{-x}\\right]  p_m'(x)  {\\rm d} x \\\\\n",
    "&\\vdots & \\\\\n",
    "&=& (-1)^n \\int_0^\\infty  {1 \\over n!} \\left[x^{\\alpha+n}{\\rm e}^{-x}\\right]  p_m^{(n)}(x)  {\\rm d} x = 0\n",
    "\\end{eqnarray*}\n",
    "$$\n",
    "since $p_m^{(n)}(x) = 0$.\n",
    "Note we used the fact that\n",
    "$$\n",
    "{{\\rm d}^k \\over {\\rm d} x^k}\\left[x^{\\alpha+n}{\\rm e}^{-x}\\right]\n",
    "$$\n",
    "vanishes at $x = 0$ and as $x \\to \\infty$ to ignore the boundary terms in integration by parts.\n"
   ]
  },
  {
   "cell_type": "markdown",
   "metadata": {},
   "source": [
    "2. Show that\n",
    "$$\n",
    "(n+1) L_{n+1}^{(\\alpha)}(x) = (\\alpha+n+1)L_n^{(\\alpha)}(x) -   xL_n^{(\\alpha+1)}(x)\n",
    "$$"
   ]
  },
  {
   "cell_type": "markdown",
   "metadata": {},
   "source": [
    "Applying the product rule once, we find that\n",
    "$$\n",
    "\\begin{align*}\n",
    "(n+1) L_{n+1}^{(\\alpha)}(x) &= {x^{-\\alpha}{\\rm e}^x \\over n!} {{\\rm d}^{n} \\over {\\rm d} x^{n}} {{\\rm d} \\over {\\rm d} x} \\left[x^{\\alpha+n+1} {\\rm e}^{-x}\\right] \\\\\n",
    "  &= {x^{-\\alpha}{\\rm e}^x \\over n!} {{\\rm d}^{n} \\over {\\rm d} x^{n}}  \\left[(\\alpha+n+1)x^{\\alpha+n} {\\rm e}^{-x}-x^{\\alpha+n+1} {\\rm e}^{-x}\\right]  \\\\\n",
    "    &= (\\alpha+n+1)L_n^{(\\alpha)}(x) -   xL_n^{(\\alpha+1)}(x)\n",
    "\\end{align*}\n",
    "$$"
   ]
  },
  {
   "cell_type": "markdown",
   "metadata": {},
   "source": [
    "3. Show that \n",
    "$$\n",
    "L_{n}^{(\\alpha+1)}(x) = L_{n-1}^{(\\alpha+1)}(x) + L_n^{(\\alpha)}(x).\n",
    "$$"
   ]
  },
  {
   "cell_type": "markdown",
   "metadata": {},
   "source": [
    "Applying the product rule $n$ times, we find that\n",
    "$$\n",
    "\\begin{align*}\n",
    "L_{n}^{(\\alpha+1)}(x) &= {x^{-1-\\alpha}{\\rm e}^x \\over n!} {{\\rm d}^{n-1} \\over {\\rm d} x^{n-1}} {{\\rm d} \\over {\\rm d} x} \\left[x x^{\\alpha+n} {\\rm e}^{-x}\\right] \\\\\n",
    "&= {x^{-1-\\alpha}{\\rm e}^x \\over n!} {{\\rm d}^{n-1} \\over {\\rm d} x^{n-1}} \\left[ x^{\\alpha+n} {\\rm e}^{-x}\\right]  + {x^{-1-\\alpha}{\\rm e}^x \\over n!} {{\\rm d}^{n-1} \\over {\\rm d} x^{n-1}} x {{\\rm d} \\over {\\rm d} x} \\left[ x^{\\alpha+n} {\\rm e}^{-x}\\right]  \\\\\n",
    "&= {2 \\over n}L_{n-1}^{(\\alpha+1)}(x)   + {x^{-1-\\alpha}{\\rm e}^x \\over n!} {{\\rm d}^{n-2} \\over {\\rm d} x^{n-2}} x {{\\rm d}^2 \\over {\\rm d} x^2} \\left[ x^{\\alpha+n} {\\rm e}^{-x}\\right]  \\\\\n",
    "&= {3 \\over n}L_{n-1}^{(\\alpha+1)}(x)   + {x^{-1-\\alpha}{\\rm e}^x \\over n!} {{\\rm d}^{n-3} \\over {\\rm d} x^{n-3}} x {{\\rm d}^3 \\over {\\rm d} x^3} \\left[ x^{\\alpha+n} {\\rm e}^{-x}\\right]  \\\\\n",
    "&\\vdots\\\\\n",
    "&={n \\over n}L_{n-1}^{(\\alpha+1)}(x)   + {x^{-\\alpha}{\\rm e}^x \\over n!} {{\\rm d}^{n} \\over {\\rm d} x^{n}}  \\left[ x^{\\alpha+n} {\\rm e}^{-x}\\right] \\\\\n",
    "&=L_{n-1}^{(\\alpha+1)}(x) + L_n^{(\\alpha)}(x)\n",
    "\\end{align*}\n",
    "$$"
   ]
  },
  {
   "cell_type": "markdown",
   "metadata": {},
   "source": [
    "4. Show that the Laguerre polynomials satisfy the following three-term recurrence:\n",
    "$$\n",
    "x L_n^{(\\alpha)}(x) = - (n+\\alpha)L_{n-1}^{(\\alpha)}(x) + (2n+\\alpha+1) L_n^{(\\alpha)}(x) -(n+1)L_{n+1}^{(\\alpha)}(x)\n",
    "$$\n",
    "Using the results in questions 2 and 3, we have that\n",
    "$$\n",
    "\\begin{align*}\n",
    "x L_n^{(\\alpha)}(x) &= -(n+1)L_{n+1}^{(\\alpha-1)}(x) +(n+\\alpha)L_n^{(\\alpha-1)}(x) \\\\\n",
    "  &= -(n+1)L_{n+1}^{(\\alpha)}(x) + (n+1)L_{n}^{(\\alpha)}(x) +(n+\\alpha)L_{n}^{(\\alpha)}(x) - (n+\\alpha)L_{n-1}^{(\\alpha)}(x) \\\\\n",
    "  &= - (n+\\alpha)L_{n-1}^{(\\alpha)}(x) + (2n+\\alpha+1) L_n^{(\\alpha)}(x) -(n+1)L_{n+1}^{(\\alpha)}(x)\n",
    "\\end{align*}\n",
    "$$\n"
   ]
  },
  {
   "cell_type": "markdown",
   "metadata": {},
   "source": [
    "5. Prove that \n",
    "$$\n",
    "{{\\rm d} L_n^{(\\alpha)} \\over \\,{\\rm d}x}  = -L_{n-1}^{(\\alpha+1)}(x)\n",
    "$$"
   ]
  },
  {
   "cell_type": "markdown",
   "metadata": {},
   "source": [
    "First we show that ${{\\rm d} L_n^{(\\alpha)} \\over \\,{\\rm d}x}$ is orthogonal wrt $\\langle \\cdot, \\cdot \\rangle_{\\alpha + 1}$ to polynomials of degree $\\leq n-2$ using integration by parts: let $p_m(x)$ be a polynomial of degree $m \\leq n-2$, then\n",
    "$$\n",
    "\\begin{eqnarray*}\n",
    "\\langle \\left(L_n^{(\\alpha)}\\right)', p_m  \\rangle_{\\alpha+1}  &=&\\int_0^\\infty {{\\rm d} L_n^{(\\alpha)}(x) \\over {\\rm d} x} p_m(x) x^{\\alpha+1} {\\rm e}^{-x} {\\rm d} x  \\\\\n",
    "&=& -\\int_0^\\infty L_n^{(\\alpha)}(x) (x p_m'(x) + (\\alpha+1) p_m(x) - x p_m(x)) x^{\\alpha} {\\rm e}^{-x} {\\rm d} x  \\\\\n",
    "&=& \\langle L_n^{(\\alpha)}, x p_m + (\\alpha+1) p_m - x p_m \\rangle_{\\alpha} \\\\\n",
    "&=& 0 \n",
    "\\end{eqnarray*}\n",
    "$$\n",
    "since $(x p_m' + (\\alpha+1) p_m - x p_m) $ has degree $m+1 < n$.  We conclude that ${{\\rm d} L_n^{(\\alpha)} \\over \\,{\\rm d}x} = C L^{(\\alpha+1)}_{n-1}$, for some constant $C$ which we can determine by matching leading terms: we have that\n",
    "$$\n",
    "{{\\rm d} L_n^{(\\alpha)} \\over \\,{\\rm d}x} = \\frac{(-1)^n}{(n-1)!}x^{n-1} + \\mathcal{O}(x^{n-2}) = CL^{(\\alpha+1)}_{n-1} = C \\frac{(-1)^{n-1}}{(n-1)!}x^{n-1} + \\mathcal{O}(x^{n-2}),\n",
    "$$\n",
    "which implies that $C = -1$."
   ]
  },
  {
   "cell_type": "markdown",
   "metadata": {},
   "source": [
    "6. Let \n",
    "$$\n",
    "L^{(\\alpha)}(x) = \\left[L_0^{(\\alpha)}(x) |  L_1^{(\\alpha)}(x) | \\cdots  \\right].\n",
    "$$\n",
    "   Give matrices $D_{\\alpha}$ and $S_{\\alpha}$ such that\n",
    "$$\n",
    "\\frac{{\\rm d}}{{\\rm d}x}L^{(\\alpha)}(x) = L^{(\\alpha+1)}(x)\\mathcal{D}_{\\alpha} \\quad \\text{and} \\quad L^{(\\alpha)}(x) = L^{(\\alpha+1)}(x)S_{\\alpha}\n",
    "$$"
   ]
  },
  {
   "cell_type": "markdown",
   "metadata": {},
   "source": [
    "It follows from the formulas in questions 5 and 3 that\n",
    "$$\n",
    "\\mathcal{D}_{\\alpha} = \\begin{pmatrix}\n",
    "0 & -1 \\\\\n",
    "  &&-1 \\\\\n",
    "  &&&\\ddots\n",
    "\\end{pmatrix}\n",
    "$$\n",
    "and\n",
    "$$\n",
    "\\mathcal{S}_{\\alpha} = \\begin{pmatrix}\n",
    "        1 & -1 \\\\ & 1 & -1 \\\\&&\\ddots & \\ddots\n",
    "\\end{pmatrix}\n",
    "$$"
   ]
  },
  {
   "cell_type": "markdown",
   "metadata": {},
   "source": [
    "7. Consider the advection equation on the half line:\n",
    "$$\n",
    "u_t + u_x = 0, \\qquad x \\in [0, \\infty), \\qquad t \\geq 0.\n",
    "$$\n",
    "   Suppose the solution has an expansion of the form\n",
    "   $$\n",
    "u(x,t) =  {\\rm e}^{-x/2}\\sum_{k=0}^{\\infty}u_k(t) L_k^{(0)}(x) = {\\rm e}^{-x/2}L^{(0)}(x)\\mathbf{u}(t)\n",
    "$$\n",
    "   where\n",
    "$$\n",
    "\\mathbf{u}(t) = \\begin{bmatrix}   \n",
    "u_0(t) \\\\\n",
    "u_1(t) \\\\\n",
    "\\vdots\n",
    "\\end{bmatrix}.\n",
    "$$\n",
    "     Show that \n",
    "$$\n",
    "\\mathbf{u}'(t) = A\\mathbf{u}(t),\n",
    "$$\n",
    "    where $A$ is a matrix that is expressible in terms of $\\mathcal{D}_0$ and $\\mathcal{S}_0$ (defined in question 6).   Use software of your choice to build a $10 \\times 10$ version of the matrix $A$."
   ]
  },
  {
   "cell_type": "markdown",
   "metadata": {},
   "source": [
    "Since\n",
    "$$\n",
    "\\begin{eqnarray*}\n",
    "\\frac{\\partial}{\\partial x}u(x,t) &=& -\\frac{1}{2}{\\rm e}^{-x/2}L^{(0)}(x)\\mathbf{u}(t)  + {\\rm e}^{-x/2}\\frac{{\\rm d}}{{\\rm d}x}L^{(0)}(x)\\mathbf{u}(t) \\\\\n",
    "&=& -\\frac{1}{2}{\\rm e}^{-x/2}L^{(1)}(x)\\mathcal{S}_0\\mathbf{u}(t)  + {\\rm e}^{-x/2}L^{(1)}(x)\\mathcal{D}_0\\mathbf{u}(t) \\\\\n",
    "&=& {\\rm e}^{-x/2}L^{(1)}(x)\\left[-\\frac{1}{2}\\mathcal{S}_0 + \\mathcal{D}_0   \\right]\\mathbf{u}(t) \\\\\n",
    "\\end{eqnarray*}\n",
    "$$\n",
    "and\n",
    "$$\n",
    "\\begin{eqnarray*}\n",
    "\\frac{\\partial}{\\partial t}u(x,t) &=& {\\rm e}^{-x/2}L^{(0)}(x)\\mathbf{u}'(t)  \\\\\n",
    "&=& {\\rm e}^{-x/2}L^{(1)}(x)\\mathcal{S}_0\\mathbf{u}'(t)\n",
    "\\end{eqnarray*}\n",
    "$$\n",
    "the advection equation implies that\n",
    "$$\n",
    "u_t + u_x =\n",
    "{\\rm e}^{-x/2}L^{(1)}(x)\\left[\\mathcal{S}_0\\mathbf{u}'(t)+  \\left(-\\frac{1}{2}\\mathcal{S}_0 + \\mathcal{D}_0\\right)\\mathbf{u}(t)  \\right] = 0\n",
    "$$\n",
    "hence\n",
    "$$\n",
    "\\mathcal{S}_0\\mathbf{u}'(t) = \\left(\\frac{1}{2}\\mathcal{S}_0 - \\mathcal{D}_0\\right)\\mathbf{u}(t)\n",
    "$$\n",
    "or\n",
    "$$\n",
    "\\mathbf{u}'(t) = A\\mathbf{u}(t)\n",
    "$$\n",
    "where $A = \\frac{1}{2}\\mathcal{I} - \\mathcal{S}_0^{-1}\\mathcal{D}_0$ and $\\mathcal{I}$ is an infinite identity matrix."
   ]
  },
  {
   "cell_type": "code",
   "execution_count": 20,
   "metadata": {},
   "outputs": [],
   "source": [
    "using ApproxFun, LinearAlgebra"
   ]
  },
  {
   "cell_type": "code",
   "execution_count": 23,
   "metadata": {},
   "outputs": [
    {
     "data": {
      "text/plain": [
       "ReOperator : Laguerre{Int64, Ray{false, Float64}}(0, 【0.0,∞❫) → Laguerre{Int64, Ray{false, Float64}}(1, 【0.0,∞❫)\n",
       " 0.0  -1.0    ⋅     ⋅     ⋅     ⋅     ⋅     ⋅     ⋅     ⋅   ⋅\n",
       "  ⋅    0.0  -1.0    ⋅     ⋅     ⋅     ⋅     ⋅     ⋅     ⋅   ⋅\n",
       "  ⋅     ⋅    0.0  -1.0    ⋅     ⋅     ⋅     ⋅     ⋅     ⋅   ⋅\n",
       "  ⋅     ⋅     ⋅    0.0  -1.0    ⋅     ⋅     ⋅     ⋅     ⋅   ⋅\n",
       "  ⋅     ⋅     ⋅     ⋅    0.0  -1.0    ⋅     ⋅     ⋅     ⋅   ⋅\n",
       "  ⋅     ⋅     ⋅     ⋅     ⋅    0.0  -1.0    ⋅     ⋅     ⋅   ⋅\n",
       "  ⋅     ⋅     ⋅     ⋅     ⋅     ⋅    0.0  -1.0    ⋅     ⋅   ⋅\n",
       "  ⋅     ⋅     ⋅     ⋅     ⋅     ⋅     ⋅    0.0  -1.0    ⋅   ⋅\n",
       "  ⋅     ⋅     ⋅     ⋅     ⋅     ⋅     ⋅     ⋅    0.0  -1.0  ⋅\n",
       "  ⋅     ⋅     ⋅     ⋅     ⋅     ⋅     ⋅     ⋅     ⋅    0.0  ⋱\n",
       "  ⋅     ⋅     ⋅     ⋅     ⋅     ⋅     ⋅     ⋅     ⋅     ⋅   ⋱"
      ]
     },
     "execution_count": 23,
     "metadata": {},
     "output_type": "execute_result"
    }
   ],
   "source": [
    "D0 = Derivative() :  Laguerre(0) → Laguerre(1)\n",
    "real(D0)"
   ]
  },
  {
   "cell_type": "code",
   "execution_count": 24,
   "metadata": {},
   "outputs": [
    {
     "data": {
      "text/plain": [
       "ConstantTimesOperator : Laguerre{Int64, Ray{false, Float64}}(0, 【0.0,∞❫) → Laguerre{Int64, Ray{false, Float64}}(1, 【0.0,∞❫)\n",
       " 1.0  -1.0    ⋅     ⋅     ⋅     ⋅     ⋅     ⋅     ⋅     ⋅   ⋅\n",
       "  ⋅    1.0  -1.0    ⋅     ⋅     ⋅     ⋅     ⋅     ⋅     ⋅   ⋅\n",
       "  ⋅     ⋅    1.0  -1.0    ⋅     ⋅     ⋅     ⋅     ⋅     ⋅   ⋅\n",
       "  ⋅     ⋅     ⋅    1.0  -1.0    ⋅     ⋅     ⋅     ⋅     ⋅   ⋅\n",
       "  ⋅     ⋅     ⋅     ⋅    1.0  -1.0    ⋅     ⋅     ⋅     ⋅   ⋅\n",
       "  ⋅     ⋅     ⋅     ⋅     ⋅    1.0  -1.0    ⋅     ⋅     ⋅   ⋅\n",
       "  ⋅     ⋅     ⋅     ⋅     ⋅     ⋅    1.0  -1.0    ⋅     ⋅   ⋅\n",
       "  ⋅     ⋅     ⋅     ⋅     ⋅     ⋅     ⋅    1.0  -1.0    ⋅   ⋅\n",
       "  ⋅     ⋅     ⋅     ⋅     ⋅     ⋅     ⋅     ⋅    1.0  -1.0  ⋅\n",
       "  ⋅     ⋅     ⋅     ⋅     ⋅     ⋅     ⋅     ⋅     ⋅    1.0  ⋱\n",
       "  ⋅     ⋅     ⋅     ⋅     ⋅     ⋅     ⋅     ⋅     ⋅     ⋅   ⋱"
      ]
     },
     "execution_count": 24,
     "metadata": {},
     "output_type": "execute_result"
    }
   ],
   "source": [
    "S0 = I : Laguerre(0) → Laguerre(1)"
   ]
  },
  {
   "cell_type": "code",
   "execution_count": 26,
   "metadata": {},
   "outputs": [
    {
     "data": {
      "text/plain": [
       "10×10 Matrix{Float64}:\n",
       "  0.5   1.0   1.0   1.0   1.0   1.0   1.0   1.0   1.0  1.0\n",
       " -0.0   0.5   1.0   1.0   1.0   1.0   1.0   1.0   1.0  1.0\n",
       " -0.0  -0.0   0.5   1.0   1.0   1.0   1.0   1.0   1.0  1.0\n",
       " -0.0  -0.0  -0.0   0.5   1.0   1.0   1.0   1.0   1.0  1.0\n",
       " -0.0  -0.0  -0.0  -0.0   0.5   1.0   1.0   1.0   1.0  1.0\n",
       " -0.0  -0.0  -0.0  -0.0  -0.0   0.5   1.0   1.0   1.0  1.0\n",
       " -0.0  -0.0  -0.0  -0.0  -0.0  -0.0   0.5   1.0   1.0  1.0\n",
       " -0.0  -0.0  -0.0  -0.0  -0.0  -0.0  -0.0   0.5   1.0  1.0\n",
       " -0.0  -0.0  -0.0  -0.0  -0.0  -0.0  -0.0  -0.0   0.5  1.0\n",
       " -0.0  -0.0  -0.0  -0.0  -0.0  -0.0  -0.0  -0.0  -0.0  0.5"
      ]
     },
     "execution_count": 26,
     "metadata": {},
     "output_type": "execute_result"
    }
   ],
   "source": [
    "n = 10\n",
    "A = I/2 - S0[1:n,1:n]\\real(D0[1:n,1:n])"
   ]
  }
 ],
 "metadata": {
  "kernelspec": {
   "display_name": "Julia 1.8.3",
   "language": "julia",
   "name": "julia-1.8"
  },
  "language_info": {
   "file_extension": ".jl",
   "mimetype": "application/julia",
   "name": "julia",
   "version": "1.8.3"
  }
 },
 "nbformat": 4,
 "nbformat_minor": 4
}
