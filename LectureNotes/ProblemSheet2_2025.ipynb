{
 "cells": [
  {
   "cell_type": "markdown",
   "metadata": {},
   "source": [
    "# Problem sheet 2\n",
    "\n",
    "The (well-posed) convection-diffusion equation is \n",
    "$$\n",
    "\\frac{\\partial u}{\\partial t} = \\frac{\\partial^2 u}{\\partial x^2} - b \\frac{\\partial u}{\\partial x}, \\qquad 0 \\leq x \\leq 1, \\: 0 \\leq t \\leq T, T > 0,\n",
    "$$\n",
    "where $b > 0$ is given (a constant) and the boundary conditions are $u(0,t) = \\varphi_0(t)$ and $u(1,t) = \\varphi_1(t)$ for $t \\in [0, T]$.  Let \n",
    "$$\n",
    "v'_j = \\frac{1}{h^2}\\left(v_{j-1} - 2v_j + v_{j+1}   \\right) - \\frac{b}{2h}\\left(v_{j+1}  - v_{j-1}   \\right), \\qquad j =  1, 2,  \\ldots, n_x,\n",
    "$$\n",
    "where $h = \\displaystyle{\\frac{1}{n_x + 1}}$ and $v_j = v_j(t)$ be a semi-discrete method for the convection-diffusion equation."
   ]
  },
  {
   "cell_type": "markdown",
   "metadata": {},
   "source": [
    "1. **[5 marks]** Prove that the semi-discrete method is second-order accurate.  That is, let $\\widetilde{v}_j(t) = u(x_j,t)$ and show that (assuming all the relevant partial derivatives are bounded on $(x,t) \\in [0, 1]\\times [0, T]$),\n",
    "$$\n",
    "    \\widetilde{v}'_j - \\frac{1}{h^2}\\left(\\widetilde{v}_{j-1} - 2\\widetilde{v}_j + \\widetilde{v}_{j+1}   \\right) + \\frac{b}{2h}\\left(\\widetilde{v}_{j+1}  - \\widetilde{v}_{j-1}   \\right) = \\mathcal{O}\\left(h^2 \\right), \\qquad h \\to 0.\n",
    "$$\n",
    "    \n",
    "2. **[2 marks]** Is the semi-discrete method consistent?  Motivate your answer.\n",
    "    \n",
    "3. **[6 marks]** Use the von Neumann method to determine whether the semi-discrete method is stable.\n",
    "    \n",
    "\n",
    "4. **[2 marks]** Is the semi-discrete method convergent?\n",
    "\n",
    "5. **[5 marks]** Show that the semi-discrete method can be expressed as the following system of ordinary differential equations (ODEs):\n",
    "$$\n",
    "\\mathbf{v}' = A\\mathbf{v} + \\mathbf{h}\n",
    "$$\n",
    "with $\\mathbf{v}, \\mathbf{h} \\in \\mathbb{R}^{n_x}$, $A \\in \\mathbb{R}^{n_x \\times n_x}$ where\n",
    "$$\n",
    " A = \\frac{1}{h^2}\\begin{bmatrix}\n",
    "-2 & 1 - \\frac{bh}{2} & & & \\\\\n",
    "1 + \\frac{bh}{2}  & -2 & 1 - \\frac{bh}{2}  & & \\\\\n",
    "      & \\ddots & \\ddots & \\ddots & \\\\\n",
    "      &        & 1 + \\frac{bh}{2}    & -2 & 1 - \\frac{bh}{2} \\\\\n",
    "      &        &        &1 + \\frac{bh}{2}      & -2\n",
    "\\end{bmatrix}, \\quad\n",
    "\\mathbf{h} = \\frac{1}{h^2}\\left[\\begin{array}{c} \n",
    "{} \\left(1 + \\frac{bh}{2}\\right)\\varphi_0(t)\\\\\n",
    "0 \\\\\n",
    "\\vdots \\\\\n",
    "0 \\\\\n",
    "\\left(1 - \\frac{bh}{2}\\right)\\varphi_1(t)\n",
    "\\end{array}\n",
    "\\right].\n",
    "$$\n",
    " \n",
    "6. **[10 marks]** Let $n_x = 300$, $T = 0.003$, $b = 100$, $\\varphi_0(t) = 0 = \\varphi_1(t)$ and $u(x,0) = \\mathrm{e}^{-300(x-0.3)^2}$, then solve the ODE system in question 5 with an error tolerance of $10^{-4}$ using any ODE solver that's available in your programming language of choice.  Plot the solution at $t = 0$ and $t = T$ on the same set of axes."
   ]
  }
 ],
 "metadata": {
  "kernelspec": {
   "display_name": "Julia 1.8.3",
   "language": "julia",
   "name": "julia-1.8"
  },
  "language_info": {
   "file_extension": ".jl",
   "mimetype": "application/julia",
   "name": "julia",
   "version": "1.8.3"
  }
 },
 "nbformat": 4,
 "nbformat_minor": 4
}
