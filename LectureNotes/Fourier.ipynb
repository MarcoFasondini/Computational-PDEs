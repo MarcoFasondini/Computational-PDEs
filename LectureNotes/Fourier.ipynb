{
 "cells": [
  {
   "cell_type": "markdown",
   "metadata": {},
   "source": [
    "# Fourier methods for periodic functions"
   ]
  },
  {
   "cell_type": "markdown",
   "metadata": {},
   "source": [
    "We assume that $f$ is $2\\pi$-periodic and its Fourier series converges on $x \\in [0, 2\\pi)$, i.e.,\n",
    "$$\n",
    "f(x) = \\sum_{k=-\\infty}^{\\infty} c_k \\mathrm{e}^{\\mathrm{i} k x}\n",
    "$$\n",
    "where the Fourier coeffients are defined as\n",
    "$$\n",
    "%c_k = \\frac{1}{2\\pi}\\int_{-\\pi}^{\\pi} f(x) \\mathrm{e}^{-\\mathrm{i}k x} \\mathrm{d} x.\n",
    "c_k = \\frac{1}{2\\pi}\\int_{0}^{2\\pi} f(x) \\mathrm{e}^{-\\mathrm{i}k x} \\mathrm{d} x.\n",
    "$$\n",
    "Suppose we only know the values of $f(x)$ at the $N$ equally spaced points $x_{j} = jh = 2\\pi j/N$ for $j = 0, \\ldots, N-1$, can we somehow use Fourier series to approximate $f$ and its derivatives?\n",
    "\n",
    "The idea is to use a truncated Fourier series and approximate Fourier coefficients $\\widetilde{c}_k$ to approximate $f$ with\n",
    "$$\n",
    "f(x) \\approx \\sum_{k=-(N-1)/2}^{(N-1)/2} \\widetilde{c}_k \\mathrm{e}^{\\mathrm{i} k x},\n",
    "$$\n",
    "assuming $N$ is odd."
   ]
  },
  {
   "cell_type": "markdown",
   "metadata": {},
   "source": [
    "We are going to approximate the Fourier coefficients $c_k$ by using the *trapezoidal rule*."
   ]
  },
  {
   "cell_type": "markdown",
   "metadata": {},
   "source": [
    "**Trapezoidal rule:** Let $x_{j}$, $j = 0, \\ldots, N$ be $N+1$ equally spaced points on the interval $[a, b]$. Hence, $x_j = a + jh$ with $h = (b-a)/N$. The $N+1$-point trapezoidal rule for approximating the integral \n",
    "$$\n",
    "I[g] = \\int_{a}^{b} g(x) \\mathrm{d} x \n",
    "$$\n",
    "is denoted by $I_N[g]$ and defined as\n",
    "$$\n",
    "I_N[g] := \\frac{h}{2}\\left(g(x_0) + 2g(x_1) + 2g(x_2) + \\cdots + 2g(x_{N-1}) + g(x_{N})    \\right)\n",
    "$$"
   ]
  },
  {
   "cell_type": "markdown",
   "metadata": {},
   "source": [
    "Let's use the trapezoidal rule to approximate the Fourier coefficients.  Setting $a = 0$, $b = 2\\pi$, $h = 2\\pi/N$ and using the fact that $g(x) = f(x)\\mathrm{e}^{-\\mathrm{i}k x}$ is a $2\\pi$-periodic function (since $f(x)$ is assumed to be $2\\pi$-periodic), it follows that $g(x_0) = g(x_0 + 2\\pi) = g(x_N)$ and we obtain the approximation\n",
    "\\begin{eqnarray}\n",
    "c_k &=& \\frac{1}{2\\pi}\\int_{0}^{2\\pi} f(x) \\mathrm{e}^{-\\mathrm{i}k x} \\mathrm{d} x \\\\\n",
    "    &\\approx & \\frac{1}{2\\pi}I_{N}\\left[f\\mathrm{e}^{-\\mathrm{i}k x}\\right]  \\\\\n",
    "    &=& \\frac{1}{N}\\sum_{j = 0}^{N-1} f(x_j)\\mathrm{e}^{-\\mathrm{i}kx_j} \\\\\n",
    "    &:=& \\widetilde{c}_k\n",
    "\\end{eqnarray}"
   ]
  },
  {
   "cell_type": "markdown",
   "metadata": {},
   "source": [
    "Later we'll see that the trapezoidal rule gives spectacularly accurate approximations to the Fourier coefficients of smooth periodic functions (the approximations $\\widetilde{c}_k$ converge exponentially fast to $c_k$ with $N$ for sufficiently smooth functions $f$).  The first step in analysing the accuracy of the approximations $\\widetilde{c}_k$ is the following result:"
   ]
  },
  {
   "cell_type": "markdown",
   "metadata": {},
   "source": [
    "**Lemma (discrete orthogonality)** For $x_j = jh = \\frac{2\\pi j}{N}$, we have\n",
    "$$\n",
    "I_N\\left[\\mathrm{e}^{\\mathrm{i}kx}\\right] = \\frac{1}{N}\\sum_{j = 0}^{N-1} \\mathrm{e}^{\\mathrm{i}kx_j} = \\begin{cases}\n",
    "1 & \\text{if } k = \\ldots, -2N, -N, 0, N, 2N, \\ldots \\\\\n",
    "0 & \\text{otherwise}\n",
    "\\end{cases},\n",
    "$$\n",
    "therefore\n",
    "$$\n",
    "I_N\\left[\\mathrm{e}^{\\mathrm{i}(k-\\ell)x}\\right] = \\frac{1}{N}\\sum_{j = 0}^{N-1} \\mathrm{e}^{\\mathrm{i}(k-\\ell)x_j} = \\begin{cases}\n",
    "1 & \\text{if } k-\\ell = \\ldots, -2N, -N, 0, N, 2N, \\ldots \\\\\n",
    "0 & \\text{otherwise}\n",
    "\\end{cases}.\n",
    "$$\n",
    "**Proof** Case 1: $k = Np$, $p \\in \\mathbb{Z}$, then\n",
    "$$\n",
    "\\sum_{j = 0}^{N-1} \\mathrm{e}^{\\mathrm{i}kx_j} = \\sum_{j = 0}^{N-1} \\mathrm{e}^{2\\pi\\mathrm{i}kj/N} = \\sum_{j = 0}^{N-1} \\mathrm{e}^{2\\pi\\mathrm{i}pj} = \\sum_{j = 0}^{N-1} 1 = N.\n",
    "$$\n",
    "Case 2: $k \\neq Np$, $p \\in \\mathbb{Z}$, then\n",
    "$$\n",
    "\\sum_{j = 0}^{N-1} \\mathrm{e}^{\\mathrm{i}kx_j} = \\sum_{j = 0}^{N-1} \\left(\\mathrm{e}^{2\\pi\\mathrm{i}k/N}\\right)^{j} = \\frac{1-\\left(\\mathrm{e}^{2\\pi\\mathrm{i}k/N}\\right)^{N}}{1-\\mathrm{e}^{2\\pi\\mathrm{i}k/N}} = 0,\n",
    "$$\n",
    "where we have used the formula\n",
    "$$\n",
    "\\sum_{j = 0}^{N-1} z^{j} = \\frac{1-z^N}{1-z},\\qquad z \\neq 1,\n",
    "$$\n",
    "and the fact that $\\mathrm{e}^{2\\pi\\mathrm{i}k/N} \\neq 1$ since $k \\neq Np$."
   ]
  },
  {
   "cell_type": "markdown",
   "metadata": {},
   "source": [
    "**Corollary** The approximate Fourier coefficients $\\widetilde{c}_k$ and the exact Fourier coefficients $c_k$ are related as follows,\n",
    "$$\n",
    "\\widetilde{c}_k = \\cdots + c_{k-2N} + c_{k-N} +  c_k +  c_{k+N} + c_{k+2N} + \\cdots\n",
    "$$\n",
    "**Proof**  We have\n",
    "\\begin{eqnarray}\n",
    "  \\widetilde{c}_k   &=&\\frac{1}{N}\\sum_{j = 0}^{N-1} f(x_j)\\mathrm{e}^{-\\mathrm{i}kx_j}   \\\\\n",
    "    & = & \\frac{1}{N}\\sum_{j = 0}^{N-1} \\sum_{\\ell=-\\infty}^{\\infty} c_{\\ell}\\mathrm{e}^{\\mathrm{i}\\ell x_j} \\mathrm{e}^{-\\mathrm{i}kx_j}  \\\\\n",
    "    &=& \\sum_{\\ell=-\\infty}^{\\infty}c_{\\ell}\\left(\\frac{1}{N}\\sum_{j = 0}^{N-1} \\mathrm{e}^{\\mathrm{i}(\\ell-k) x_j}   \\right)\n",
    "\\end{eqnarray}\n",
    "from which the result follows."
   ]
  },
  {
   "cell_type": "markdown",
   "metadata": {},
   "source": [
    "A consequence of this result is that \n",
    "$$\n",
    "\\widetilde{c}_{k+pN} = \\widetilde{c}_{k}, \\qquad p \\in \\mathbb{Z}.  \n",
    "$$"
   ]
  },
  {
   "cell_type": "markdown",
   "metadata": {},
   "source": [
    "$$\n",
    "\\widetilde{\\mathbf{c}} := \\left(\n",
    "\\begin{array}{c}\n",
    "c\n",
    "\\end{array}\n",
    "\\right)\n",
    "$$"
   ]
  },
  {
   "cell_type": "code",
   "execution_count": null,
   "metadata": {},
   "outputs": [],
   "source": []
  }
 ],
 "metadata": {
  "kernelspec": {
   "display_name": "Julia 1.8.3",
   "language": "julia",
   "name": "julia-1.8"
  },
  "language_info": {
   "file_extension": ".jl",
   "mimetype": "application/julia",
   "name": "julia",
   "version": "1.8.3"
  }
 },
 "nbformat": 4,
 "nbformat_minor": 4
}
