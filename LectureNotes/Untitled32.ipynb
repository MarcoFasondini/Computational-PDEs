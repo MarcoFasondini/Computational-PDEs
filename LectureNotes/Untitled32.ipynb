{
 "cells": [
  {
   "cell_type": "markdown",
   "metadata": {},
   "source": [
    "# Chapter 4: Exercises Part I\n",
    "\n",
    "1. Construct  $p_0(x),p_1(x),p_2(x),p_3(x)$, monic OPs\n",
    "   for the weight $\\sqrt{1-x^2}$ on $[-1,1]$.\n",
    "   \n",
    "   Hint: first compute $\\int_{-1}^1 x^k \\sqrt{1-x^2} {\\rm d} x$ for $0 ≤ k ≤ 2$\n",
    "   using a change-of-variables.\n",
    "   \n",
    "2. Let $w(x)$ be a weight function on $x \\in [-b, b]$, $b > 0$ satisfying $w(-x) = w(x)$. Show that $a_n = 0$, $n \\geq 0$ and conclude that $a_n = 0$ for the Chebyshev polynomials $\\lbrace T_n \\rbrace$ and the ultraspherical polynomials $\\lbrace C_n^{(\\lambda)}\\rbrace$.\n",
    "    \n",
    "    Hint: first show that the OPs $p_{2n}(x)$ are even and $p_{2n+1}(x)$ are odd.\n",
    "    \n",
    "3. Consider orthogonal polynomials with respect to $\\sqrt{1-x^2}$ on $[-1,1]$ with the\n",
    "   normalisation\n",
    "$$\n",
    "U_n(x) = 2^n x^n + O(x^{n-1})\n",
    "$$\n",
    "   Prove that\n",
    "$$\n",
    "U_n(\\cos θ) = {\\sin(n+1) θ \\over \\sin θ},\n",
    "$$\n",
    "   where $x = \\cos\\theta$.\n",
    "   \n",
    "4.  Show that $\\mathcal{S}_{n-1}\\cdots\\mathcal{S}_1\\mathcal{S}_0$ has bandwidths $(0,2n)$."
   ]
  },
  {
   "cell_type": "code",
   "execution_count": null,
   "metadata": {},
   "outputs": [],
   "source": []
  }
 ],
 "metadata": {
  "kernelspec": {
   "display_name": "Julia 1.8.3",
   "language": "julia",
   "name": "julia-1.8"
  },
  "language_info": {
   "file_extension": ".jl",
   "mimetype": "application/julia",
   "name": "julia",
   "version": "1.8.3"
  }
 },
 "nbformat": 4,
 "nbformat_minor": 4
}
