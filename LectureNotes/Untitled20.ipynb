{
 "cells": [
  {
   "cell_type": "markdown",
   "metadata": {},
   "source": [
    "**Problem 3.1⋆ (C)** Give explicit formulae for $f̂_k$ and $f̂_k^n$ for the following functions:\n",
    "$$\n",
    "\\cos θ, \\cos 4θ, \\sin^4θ, {3 \\over 3 - {\\rm e}^{\\rm i θ}}, {1 \\over 1 - 2{\\rm e}^{\\rm i θ}}\n",
    "$$\n",
    "Hint: You may wish to try the change of variables $z = {\\rm e}^{-{\\rm i}θ}$."
   ]
  },
  {
   "cell_type": "code",
   "execution_count": null,
   "metadata": {},
   "outputs": [],
   "source": []
  }
 ],
 "metadata": {
  "kernelspec": {
   "display_name": "Julia 1.8.3",
   "language": "julia",
   "name": "julia-1.8"
  },
  "language_info": {
   "file_extension": ".jl",
   "mimetype": "application/julia",
   "name": "julia",
   "version": "1.8.3"
  }
 },
 "nbformat": 4,
 "nbformat_minor": 4
}
