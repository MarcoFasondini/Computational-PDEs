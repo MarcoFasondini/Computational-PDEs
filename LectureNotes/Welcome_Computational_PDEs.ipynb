{
 "cells": [
  {
   "cell_type": "markdown",
   "metadata": {
    "slideshow": {
     "slide_type": "slide"
    }
   },
   "source": [
    "# Welcome to Computational methods for partial differential equations"
   ]
  },
  {
   "cell_type": "markdown",
   "metadata": {
    "slideshow": {
     "slide_type": "slide"
    }
   },
   "source": [
    "Here we\n",
    "1. Introduce the topic of computational methods for PDEs\n",
    "2. Discuss module admin: see the [Blackboard page](https://blackboard.le.ac.uk/) of this module\n",
    "3. Discuss programming / coding and the lecture notes"
   ]
  },
  {
   "cell_type": "markdown",
   "metadata": {
    "slideshow": {
     "slide_type": "slide"
    }
   },
   "source": [
    "## Computational methods for PDEs"
   ]
  },
  {
   "cell_type": "markdown",
   "metadata": {
    "slideshow": {
     "slide_type": "slide"
    }
   },
   "source": [
    "The purpose of this module is to introduce you to the analysis and implementation of computational methods for partial differential equations.  We shall study **finite difference** methods, **spectral collocation** methods, the **ultraspherical spectral** method and, time permitting, the **finite element** method.  "
   ]
  },
  {
   "cell_type": "markdown",
   "metadata": {
    "slideshow": {
     "slide_type": "slide"
    }
   },
   "source": [
    "A broader perspective: A quote from *An Applied Mathematician's Apology* by L.N. Trefethen, 2022:\n",
    "\n",
    "... the language\n",
    "of the laws of nature, partial differential equations or PDEs. When\n",
    "Maxwell discovered that light and radio waves are one, it was because\n",
    "of a PDE. When Einstein predicted gravitational waves, it was because\n",
    "    of a PDE. Chemistry is built on Schrodinger's equation, fluid mechanics\n",
    "on the Navier-Stokes equations, and civil engineering on the equations\n",
    "of elasticity."
   ]
  },
  {
   "cell_type": "markdown",
   "metadata": {
    "slideshow": {
     "slide_type": "slide"
    }
   },
   "source": [
    "A few important PDEs (there are many variations!)\n",
    "\n",
    "* Laplace equation ($f = 0$) / Poisson equation ($f \\neq 0$) \n",
    "$$\n",
    "\\nabla^2 u = f   \\qquad \\text{or} \\qquad \\Delta u = f\n",
    "$$\n",
    "An elliptic equation\n",
    "\n",
    "\n",
    "* Heat equation\n",
    "$$\n",
    " u_t - \\nabla^2 u = f \n",
    "$$\n",
    "A parabolic equation\n",
    "\n",
    "\n",
    "* Transport / Advection and Wave equation \n",
    "$$\n",
    "\\begin{align*}\n",
    "    u_t + (v \\cdot \\nabla) u &= 0 \\\\\n",
    "  u_{tt} - \\nabla^2 u &= f \n",
    "\\end{align*}\n",
    "$$\n",
    "Wave equation: a hyperbolic equation\n",
    "\n",
    "\n",
    "* Navier's equations : small-strain elasticity \n",
    "$$\n",
    "- \\mu \\nabla^2 \\mathbf{u} + (\\lambda+\\mu) \\nabla  (\\nabla\\cdot\\mathbf{u}) = \\mathbf{f}\n",
    "$$\n",
    "* Navier-Stokes equations : incompressible viscous fluids \n",
    "$$\n",
    "\\mathbf{u}_t + (\\mathbf{u} \\cdot \\nabla)\\mathbf{u} = \\nu \\nabla^2 \\mathbf{u} - \\nabla p, \\quad \\nabla \\cdot \\mathbf{u} = 0\n",
    "$$\n",
    "Numerical solutions to the (quasilinear) Navier-Stokes equations have been computed for decades (for example, these equations are used for weather prediction), however the mathematical analysis of these PDEs is still not settled (see the Wiki page on [Navier-Stokes existence and smoothness](https://en.wikipedia.org/wiki/Navier%E2%80%93Stokes_existence_and_smoothness)): the Clay Mathematics Institute in May 2000 made this problem one of its seven Millennium Prize problems in mathematics. It offered a US\\$1,000,000 prize to the first person providing a solution for a specific statement of the problem:\n",
    "\n",
    "Prove or give a counter-example of the following statement:\n",
    "\n",
    "In three space dimensions and time, given an initial velocity field, there exists a vector velocity and a scalar pressure field, which are both smooth and globally defined, that solve the Navier-Stokes equations.\n",
    "\n",
    "\n",
    "* Reaction-Diffusion systems; example, Brusselator: simple model for an autocatalytic reaction (arises also in enzymatic reactions, plasma and laser physics)\n",
    "$$\n",
    "\\begin{align*}\n",
    "u_t &= B + u^2 v - (A+1) u + \\alpha \\nabla^2 u \\\\ \n",
    "v_t &= Au  - u^2 v + \\alpha \\nabla^2 v\n",
    "\\end{align*}\n",
    "$$\n",
    "* Black-Scholes equation (mathematical finance)\n",
    "$$\n",
    "\\frac{\\partial u}{\\partial t} + \\frac{1}{2}x^2\\sigma^2 \\frac{\\partial^2 u}{\\partial x^2} + rx \\frac{\\partial u}{\\partial x} - ru = 0\n",
    "$$\n",
    "Through a change of variables, this equation can be reduced to the heat equation. [According to Nassim Taleb](https://twitter.com/nntaleb/status/1596178404675551239), this equation should be called the Fokker-Plank and / or Kolmogorov Forward Equation and he also explains [why we never use the Black-Scholes equation](https://www.youtube.com/watch?v=UoGlUZPNouM).   The use of mathematical models have resulted in mixed fortunes in finance: for example, there's the cautionary tale [When Genius Failed: The Rise and Fall of Long-Term Capital Management](https://en.wikipedia.org/wiki/When_Genius_Failed) (in which Myron Scholes was involved) and then there's the extremely successful [Renaissance Technologies](https://en.wikipedia.org/wiki/Renaissance_Technologies), a hedge fund founded by the mathematician Jim Simons, see the book *The Man who Solved the Market: How Jim Simons Launched the Quant Revolution*. \n",
    "* Maxwell's equations \n",
    "* Einstein field equations\n",
    "* Dirac equation\n",
    "* ..."
   ]
  },
  {
   "cell_type": "markdown",
   "metadata": {},
   "source": [
    "Only in very few cases are we able to solve a PDE exactly, so we use computational methods to approximate solutions to PDEs. Here are some videos of simulations produced by computing solutions to differential equations:\n",
    "* Cahn-Hilliard equation: ([phase separation of a binary fluid](https://www.youtube.com/watch?v=MovUu2DwWvI))\n",
    "$$\n",
    "c_t = \\Delta \\big( c^3 - c - \\gamma \\Delta c \\big)\n",
    "$$\n",
    "* Molecular Dynamics: (or more general Hamiltonian dynamics)\n",
    "$$\n",
    "m_n \\ddot{r_n} = - \\nabla E(r_1, \\dots, r_N)\n",
    "$$\n",
    "used [here](https://www.youtube.com/watch?v=zRUFzJrDtq0) to model water turing into ice.\n",
    "* [Nonlinear elasticity](https://www.youtube.com/watch?v=u8Kfn2o7epQ)\n",
    "* [thermal convection in earth's mantle](https://www.youtube.com/watch?v=-kDb0HlDsIM)\n",
    "* [spread of covid-19](https://www.youtube.com/watch?v=dbBmSBA7Kyw)\n",
    "* [simulating the spread of an epidemic](https://www.youtube.com/watch?v=gxAaO2rsdIs)\n",
    "* [salt crystal melting in water](https://www.youtube.com/watch?v=_0QhOCDzP4I&t)\n",
    "* [NASA climate simulations](https://www.youtube.com/watch?v=jj0WsQYtT7M)\n",
    "* [Predicting matter distribution in the universe](https://www.youtube.com/watch?v=rtBlZJ6gNiI)\n",
    "* [flow past an airfoil - high resolution](https://www.youtube.com/watch?v=hz7UjN_vYuw)\n",
    "* [Aerodynamics of Different Geometries - 2d Navier-Stokes Simulation](https://www.youtube.com/watch?v=bJX8fVsq5oQ)\n",
    "* [Another Navier-Stokes simulation](https://www.youtube.com/watch?v=vOFcHqImXJ8)"
   ]
  },
  {
   "cell_type": "markdown",
   "metadata": {},
   "source": [
    "### Reality $\\rightarrow$ Model$\\rightarrow$ Simulation $\\rightarrow$ Prediction\n",
    "\n",
    "* Mathematical models of \"real-world\" processes (physics, chemistry, life sciences, engineering, ...) more often than not take the form of a system of ordinary or partial differential equations, integral equations, or closely related models. (sometimes stochastic, on networks, etc, but this is beyond the scope of this module) \n",
    "\n",
    "* In this module we take the mathematical model as given and study how it is solved numerically.\n",
    "\n",
    "* But we should not forget what the origin of the mathematical model is so that we are appreciative of the requirements. \n",
    "  - the model is an approximation of reality, the numerical scheme / computational method is an approximation of the model.\n",
    "  - how accurate is the model, i.e. how accurate should the numerical solution be? \n",
    "  - how accurate are the model parameters? \n",
    "  - are real-time simulations required?\n",
    "  - long-time behaviour? \n",
    "  - inverse and control problems"
   ]
  },
  {
   "cell_type": "markdown",
   "metadata": {},
   "source": [
    "## Module admin\n",
    "\n",
    "See the [Blackboard page](https://blackboard.le.ac.uk/) of this module"
   ]
  },
  {
   "cell_type": "markdown",
   "metadata": {},
   "source": [
    "## Programming / coding and the lecture notes"
   ]
  },
  {
   "cell_type": "markdown",
   "metadata": {},
   "source": []
  },
  {
   "cell_type": "markdown",
   "metadata": {},
   "source": [
    "## Some Admin \n",
    "\n",
    "### Jupyter Notebooks\n",
    "\n",
    "This course will be taught via [Jupyter notebooks](https://jupyter.org). These notebooks provide a nice environment mixing web technologies, mathematical text (latex) and code. I will use Julia for this course (The \"Ju\" in Jupyter) but these notebooks can in principle also used with Python (\"Py\"), R, and other languages:  [docs](https://jupyter4edu.github.io/jupyter-edu-book/jupyter.html#language-support-kernels)\"The Jupyter system supports over 100 programming languages (called \"kernels\" in the Jupyter ecosystem) including Python, Java, R, Julia, Matlab, Octave, Scheme, Processing, Scala, and many more. \"\n",
    "\n",
    "* For today's lecture just follow along; I will say a little more about Jupyter, Julia and our eco-system in the next lecture.\n",
    "* You can try to access the Jupyter hub or install Julia/Jupyter/IJulia by yourself until then, following the [`WS01` notebook](WS01-Installing-Julia.ipynb) which can be accessed through the course github website.\n"
   ]
  },
  {
   "cell_type": "markdown",
   "metadata": {},
   "source": [
    "## Lecture notes and coding\n",
    "\n",
    "The importance of computational methods\n",
    "\n",
    "How to run Julia code"
   ]
  },
  {
   "cell_type": "markdown",
   "metadata": {},
   "source": [
    "### Sources for the lecture notes"
   ]
  },
  {
   "cell_type": "markdown",
   "metadata": {},
   "source": [
    "## Admin\n",
    "\n",
    "Blackboard and Github\n",
    "\n",
    "assessment"
   ]
  },
  {
   "cell_type": "code",
   "execution_count": null,
   "metadata": {},
   "outputs": [],
   "source": []
  }
 ],
 "metadata": {
  "kernelspec": {
   "display_name": "Julia 1.8.3",
   "language": "julia",
   "name": "julia-1.8"
  },
  "language_info": {
   "file_extension": ".jl",
   "mimetype": "application/julia",
   "name": "julia",
   "version": "1.8.3"
  }
 },
 "nbformat": 4,
 "nbformat_minor": 4
}
