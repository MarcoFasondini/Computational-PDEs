{
 "cells": [
  {
   "cell_type": "markdown",
   "metadata": {},
   "source": [
    "# Chapter 3 exercises"
   ]
  },
  {
   "cell_type": "markdown",
   "metadata": {},
   "source": [
    "Exercises \n",
    "\n",
    "1. The idea of different bases and the conditioning of different bases.  Plot the growth of the condition number of different bases\n",
    "2. Prove that the Vandermonde matrix is invertible if the points are distinct and give a hint\n",
    "3. Compute the first few Chebyshev polynomials by hand\n",
    "4. Prove that the Chebyshev points are the extrema of $T_{n+2}$\n",
    "5. Compute the Chebyshev coefficients of some functions by hand\n",
    "6. Derive the the L'Hospital formulae for differentiation at the endpoints?\n",
    "7. Show that \n",
    "8. Cases (1) and (2) of separation of variables\n",
    "9. We derived the solution to the heat equation as Fourier series, how to derive it in integral form?\n",
    "10. For the wave equation, give a simple initial condition so that they can compute the coefficients and ask them to plot the solution and ask them to compare it to the numerical solution\n",
    "11.  For the function $\\vert x \\vert^3$, there must be a constant $C$ such that\n",
    "$$\n",
    "\\left\\|\\sqrt{1-x^2}( p_{n+1}'(x) - f'(x)) \\right\\|_{\\infty} = C\\left\\|( p_{n+1}'(x) - f'(x)) \\right\\|_{\\infty}\n",
    "$$\n",
    "find this constant and conclude that $\\left\\|( p_{n+1}'(x) - f'(x)) \\right\\|_{\\infty} = \\mathcal{O}(n^{-2})$"
   ]
  },
  {
   "cell_type": "code",
   "execution_count": null,
   "metadata": {},
   "outputs": [],
   "source": []
  }
 ],
 "metadata": {
  "kernelspec": {
   "display_name": "Julia 1.8.3",
   "language": "julia",
   "name": "julia-1.8"
  },
  "language_info": {
   "file_extension": ".jl",
   "mimetype": "application/julia",
   "name": "julia",
   "version": "1.8.3"
  }
 },
 "nbformat": 4,
 "nbformat_minor": 4
}
