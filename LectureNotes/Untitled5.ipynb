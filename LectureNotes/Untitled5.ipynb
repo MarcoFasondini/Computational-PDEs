{
 "cells": [
  {
   "cell_type": "code",
   "execution_count": null,
   "metadata": {},
   "outputs": [],
   "source": [
    "f₂ = x -> abs(x)^3\n",
    "df₂ = x -> x < 0 ? -3x^2 : 3x^2\n",
    "ddf₂ = x -> x < 0 ? -6x : 6x\n",
    "n = 101\n",
    "x = cos.(π*(0:n)/n)\n",
    "norm(df₂.(x) - chebfft(f₂.(x)),Inf)\n",
    "norm(ddf₂.(x) - chebfft(chebfft(f₂.(x))),Inf)"
   ]
  },
  {
   "cell_type": "code",
   "execution_count": null,
   "metadata": {},
   "outputs": [],
   "source": [
    "f₂ = x -> exp(-200*x^2)\n",
    "df₂ = x -> -400*x*f₂(x)\n",
    "ddf₂ = x -> -400*f₂(x) + 400^2*x^2*f₂(x)\n",
    "n = 161\n",
    "x = cos.(π*(0:n)/n)\n",
    "@show norm(df₂.(x) - chebfft(f₂.(x)),Inf)\n",
    "norm(ddf₂.(x) - chebfft(chebfft(f₂.(x))),Inf)"
   ]
  },
  {
   "cell_type": "code",
   "execution_count": null,
   "metadata": {},
   "outputs": [],
   "source": [
    "n = 100\n",
    "g = θ -> abs(cos(θ)) \n",
    "θ = range(0,2π;length= 2n+2)[1:end-1] \n",
    "norm(ifft(fft(g.(θ))) - g.(θ),Inf)"
   ]
  },
  {
   "cell_type": "markdown",
   "metadata": {},
   "source": [
    "How does the rate of convergence of a Chebyshev interpolant of a periodic function compare to the rate of convergence of Fourier series?"
   ]
  },
  {
   "cell_type": "code",
   "execution_count": null,
   "metadata": {},
   "outputs": [],
   "source": [
    "n = 161\n",
    "x = cos.(π*(0:n)/n) \n",
    "τ = 1/n^2\n",
    "τ = 0.001\n",
    "u = exp.(-200*x.^2)\n",
    "uold = exp.(-200*(x .- τ).^2)\n",
    "T = 0.1\n",
    "tplot = 0.01\n",
    "plotgap = Int64(round(tplot/τ))\n",
    "τ = tplot/plotgap\n",
    "nplots = @show Int64(round(T/tplot))\n",
    "plotdata = [transpose(u);zeros(nplots,n+1)]\n",
    "tdata = [0.0]\n",
    "for i = 1:nplots\n",
    "    for n = 1:plotgap\n",
    "        d2u = chebfft(chebfft(u))\n",
    "        d2u[1] = d2u[n+1] = 0\n",
    "        unew = 2u - uold + τ^2*d2u\n",
    "        uold = u\n",
    "        u = unew\n",
    "    end\n",
    "    plotdata[i+1,:] = u\n",
    "    tdata = [tdata;τ*i*plotgap]\n",
    "end"
   ]
  },
  {
   "cell_type": "code",
   "execution_count": null,
   "metadata": {},
   "outputs": [],
   "source": [
    "surface(x,tdata,plotdata;seriescolor=:redsblues, camera=(10,50))"
   ]
  },
  {
   "cell_type": "code",
   "execution_count": null,
   "metadata": {},
   "outputs": [],
   "source": [
    "n = 201\n",
    "x = cos.(π*(0:n)/n) \n",
    "τ = 8/n^2\n",
    "u = exp.(-200*x.^2)\n",
    "uold = exp.(-200*(x .- τ).^2)\n",
    "T = 0.5\n",
    "tplot = 0.075\n",
    "plotgap = Int64(round(tplot/τ))\n",
    "τ = tplot/plotgap\n",
    "nplots = Int64(round(T/tplot))\n",
    "plotdata = [transpose(u);zeros(nplots,n+1)]\n",
    "tdata = [0.0]\n",
    "for i = 1:nplots\n",
    "    for n = 1:plotgap\n",
    "        d2u = chebfft(chebfft(u))\n",
    "        d2u[1] = d2u[n+1] = 0\n",
    "        unew = 2u - uold + τ^2*d2u\n",
    "        uold = u\n",
    "        u = unew\n",
    "    end\n",
    "    plotdata[i+1,:] = u\n",
    "    tdata = [tdata;τ*i*plotgap]\n",
    "end"
   ]
  },
  {
   "cell_type": "code",
   "execution_count": 1,
   "metadata": {},
   "outputs": [
    {
     "data": {
      "text/plain": [
       "chebfft (generic function with 1 method)"
      ]
     },
     "execution_count": 1,
     "metadata": {},
     "output_type": "execute_result"
    }
   ],
   "source": [
    "function chebfft(f)\n",
    "    n = length(f)-1\n",
    "    x = cos.((0:n)*π/n) # Chebyshev points\n",
    "    ii = 0:n-1\n",
    "    q = [f; f[n:-1:2]]      # transform x -> θ    \n",
    "    # differentiate the interpolant qₙ in coefficient space and map back to function values\n",
    "    cq = real.(fft(q))\n",
    "    dq = real.(ifft(im*[ii; 0; 1-n:-1] .*cq))\n",
    "    df = zeros(n+1,1)\n",
    "    # Compute approximations to f' at the interior points\n",
    "    df[2:n] = -dq[2:n] ./sqrt.(1 .- x[2:n].^2)    # transform θ -> x   \n",
    "    # At the boundary points\n",
    "    df[1] = sum(ii.^2 .*cq[1:n])/n + .5*n*cq[n+1]     \n",
    "    df[n+1] = sum((-1) .^(ii .+1) .* ii.^2 .*cq[1:n])/n +\n",
    "              .5*(-1)^(n+1)*n*cq[n+1]\n",
    "    df\n",
    "end"
   ]
  },
  {
   "cell_type": "code",
   "execution_count": 3,
   "metadata": {},
   "outputs": [],
   "source": [
    "using LinearAlgebra, FFTW, Plots"
   ]
  },
  {
   "cell_type": "code",
   "execution_count": 5,
   "metadata": {},
   "outputs": [
    {
     "data": {
      "text/plain": [
       "81×1 Matrix{Float64}:\n",
       " 18.814813387204527\n",
       "  1.43502310819898\n",
       " -0.3623414922289144\n",
       "  0.16372246796671705\n",
       " -0.09423656545353788\n",
       "  0.062108847303584055\n",
       " -0.044693987341527484\n",
       "  0.034233232427259515\n",
       " -0.02748620939502835\n",
       "  0.02290550068372511\n",
       " -0.01967675708965887\n",
       "  0.017338686924811633\n",
       " -0.015614564507098527\n",
       "  ⋮\n",
       "  0.01733868692472177\n",
       " -0.019676757089406503\n",
       "  0.022905500683500737\n",
       " -0.027486209394875238\n",
       "  0.03423323242725595\n",
       " -0.04469398734150329\n",
       "  0.06210884730329245\n",
       " -0.09423656545328828\n",
       "  0.16372246796641848\n",
       " -0.36234149222556905\n",
       "  1.4350231081945835\n",
       " 18.81481338718346"
      ]
     },
     "execution_count": 5,
     "metadata": {},
     "output_type": "execute_result"
    }
   ],
   "source": [
    "n = 80\n",
    "x = cos.(π*(0:n)/n) \n",
    "τ = 8/n^2\n",
    "u = exp.(-200*x.^2)\n",
    "chebfft(chebfft(u))"
   ]
  },
  {
   "cell_type": "code",
   "execution_count": 6,
   "metadata": {},
   "outputs": [
    {
     "ename": "LoadError",
     "evalue": "syntax: \"%\" is not a unary operator",
     "output_type": "error",
     "traceback": [
      "syntax: \"%\" is not a unary operator",
      "",
      "Stacktrace:",
      " [1] top-level scope",
      "   @ In[6]:1",
      " [2] eval",
      "   @ .\\boot.jl:368 [inlined]",
      " [3] include_string(mapexpr::typeof(REPL.softscope), mod::Module, code::String, filename::String)",
      "   @ Base .\\loading.jl:1428"
     ]
    }
   ],
   "source": [
    " Time-stepping by leap frog formula:% Time-stepping by leap frog formula:\n",
    "  N = 80; x = cos(pi*(0:N)/N); dt = 8/N^2;\n",
    "  v = exp(-200*x.^2); vold = exp(-200*(x-dt).^2);\n",
    "  tmax = 4; tplot = .075; \n",
    "  plotgap = round(tplot/dt); dt = tplot/plotgap;\n",
    "  nplots = round(tmax/tplot);\n",
    "  plotdata = [v; zeros(nplots,N+1)]; tdata = 0;\n",
    "  clf, drawnow, h = waitbar(0,'please wait...');\n",
    "  set(gcf,'renderer','zbuffer')\n",
    "  \n",
    "  M = 2;\n",
    "  [x, DM] = chebdif(N+1, M);\n",
    "  D2 = DM(2:N,2:N,2);\n",
    "  \n",
    "  tic\n",
    "  for i = 1:nplots, waitbar(i/nplots)\n",
    "    for n = 1:plotgap\n",
    "        % FFT\n",
    "      w = chebfft(chebfft(v))'; w(1) = 0; w(N+1) = 0;\n",
    "      vnew = 2*v - vold + dt^2*w; vold = v; v = vnew;\n",
    "      % Differentiation matrix\n",
    "      %vnew = 2*v - vold + [0, dt^2*(D2*v(2:end-1)')', 0]; vold = v; v = vnew;\n",
    "    end\n",
    "    plotdata(i+1,:) = v; tdata = [tdata; dt*i*plotgap];\n",
    "  end\n",
    "  toc\n",
    "  N = 80; x = cos(pi*(0:N)/N); dt = 8/N^2;\n",
    "  v = exp(-200*x.^2); vold = exp(-200*(x-dt).^2);\n",
    "  tmax = 4; tplot = .075; \n",
    "  plotgap = round(tplot/dt); dt = tplot/plotgap;\n",
    "  nplots = round(tmax/tplot);\n",
    "  plotdata = [v; zeros(nplots,N+1)]; tdata = 0;\n",
    "  clf, drawnow, h = waitbar(0,'please wait...');\n",
    "  set(gcf,'renderer','zbuffer')\n",
    "  \n",
    "  M = 2;\n",
    "  [x, DM] = chebdif(N+1, M);\n",
    "  D2 = DM(2:N,2:N,2);\n",
    "  \n",
    "  tic\n",
    "  for i = 1:nplots, waitbar(i/nplots)\n",
    "    for n = 1:plotgap\n",
    "        % FFT\n",
    "      w = chebfft(chebfft(v))'; w(1) = 0; w(N+1) = 0;\n",
    "      vnew = 2*v - vold + dt^2*w; vold = v; v = vnew;\n",
    "      % Differentiation matrix\n",
    "      %vnew = 2*v - vold + [0, dt^2*(D2*v(2:end-1)')', 0]; vold = v; v = vnew;\n",
    "    end\n",
    "    plotdata(i+1,:) = v; tdata = [tdata; dt*i*plotgap];\n",
    "  end\n",
    "  toc"
   ]
  },
  {
   "cell_type": "code",
   "execution_count": null,
   "metadata": {},
   "outputs": [],
   "source": [
    " Time-stepping by leap frog formula:\n",
    "  N = 80; x = cos(pi*(0:N)/N); dt = 8/N^2;\n",
    "  v = exp(-200*x.^2); vold = exp(-200*(x-dt).^2);\n",
    "  tmax = 4; tplot = .075; \n",
    "  plotgap = round(tplot/dt); dt = tplot/plotgap;\n",
    "  nplots = round(tmax/tplot);\n",
    "  plotdata = [v; zeros(nplots,N+1)]; tdata = 0;\n",
    "  clf, drawnow, h = waitbar(0,'please wait...');\n",
    "  set(gcf,'renderer','zbuffer')\n",
    "  \n",
    "  M = 2;\n",
    "  [x, DM] = chebdif(N+1, M);\n",
    "  D2 = DM(2:N,2:N,2);\n",
    "  \n",
    "  tic\n",
    "  for i = 1:nplots, waitbar(i/nplots)\n",
    "    for n = 1:plotgap\n",
    "        % FFT\n",
    "      w = chebfft(chebfft(v))'; w(1) = 0; w(N+1) = 0;\n",
    "      vnew = 2*v - vold + dt^2*w; vold = v; v = vnew;\n",
    "      % Differentiation matrix\n",
    "      %vnew = 2*v - vold + [0, dt^2*(D2*v(2:end-1)')', 0]; vold = v; v = vnew;\n",
    "    end\n",
    "    plotdata(i+1,:) = v; tdata = [tdata; dt*i*plotgap];\n",
    "  end\n",
    "  toc\n",
    "\n",
    "\n",
    "\n",
    "\n",
    "\n",
    "\n",
    "\n",
    "\n",
    "\n",
    "\n",
    "\n",
    "\n",
    "\n"
   ]
  },
  {
   "cell_type": "code",
   "execution_count": null,
   "metadata": {},
   "outputs": [],
   "source": [
    "% Time-stepping by leap frog formula:\n",
    "  N = 80; x = cos(pi*(0:N)/N); dt = 8/N^2;\n",
    "  v = exp(-200*x.^2); vold = exp(-200*(x-dt).^2);\n",
    "  tmax = 4; tplot = .075; \n",
    "  plotgap = round(tplot/dt); dt = tplot/plotgap;\n",
    "  nplots = round(tmax/tplot);\n",
    "  plotdata = [v; zeros(nplots,N+1)]; tdata = 0;\n",
    "  clf, drawnow, h = waitbar(0,'please wait...');\n",
    "  set(gcf,'renderer','zbuffer')\n",
    "  \n",
    "  M = 2;\n",
    "  [x, DM] = chebdif(N+1, M);\n",
    "  D2 = DM(2:N,2:N,2);\n",
    "  \n",
    "  tic\n",
    "  for i = 1:nplots, waitbar(i/nplots)\n",
    "    for n = 1:plotgap\n",
    "        % FFT\n",
    "      w = chebfft(chebfft(v))'; w(1) = 0; w(N+1) = 0;\n",
    "      vnew = 2*v - vold + dt^2*w; vold = v; v = vnew;\n",
    "      % Differentiation matrix\n",
    "      %vnew = 2*v - vold + [0, dt^2*(D2*v(2:end-1)')', 0]; vold = v; v = vnew;\n",
    "    end\n",
    "    plotdata(i+1,:) = v; tdata = [tdata; dt*i*plotgap];\n",
    "  end\n",
    "  toc\n",
    "\n",
    "\n",
    "\n",
    "\n",
    "\n",
    "\n",
    "\n",
    "\n",
    "\n",
    "\n",
    "\n",
    "\n",
    "\n",
    "\n",
    "\n",
    "\n"
   ]
  }
 ],
 "metadata": {
  "kernelspec": {
   "display_name": "Julia 1.8.3",
   "language": "julia",
   "name": "julia-1.8"
  },
  "language_info": {
   "file_extension": ".jl",
   "mimetype": "application/julia",
   "name": "julia",
   "version": "1.8.3"
  }
 },
 "nbformat": 4,
 "nbformat_minor": 4
}
