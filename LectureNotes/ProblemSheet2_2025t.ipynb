{
 "cells": [
  {
   "cell_type": "markdown",
   "metadata": {},
   "source": [
    "# Problem sheet 2\n",
    "\n",
    "The (well-posed) convection-diffusion equation is \n",
    "$$\n",
    "\\frac{\\partial u}{\\partial t} = \\frac{\\partial^2 u}{\\partial x^2} - b \\frac{\\partial u}{\\partial x}, \\qquad 0 \\leq x \\leq 1, \\: 0 \\leq t \\leq T, T > 0,\n",
    "$$\n",
    "where $b > 0$ is given (a constant) and the boundary conditions are $u(0,t) = \\varphi_0(t)$ and $u(1,t) = \\varphi_1(t)$ for $t \\in [0, T]$.  Let \n",
    "$$\n",
    "v'_j = \\frac{1}{h^2}\\left(v_{j-1} - 2v_j + v_{j+1}   \\right) - \\frac{b}{2h}\\left(v_{j+1}  - v_{j-1}   \\right), \\qquad j =  1, 2,  \\ldots, n_x,\n",
    "$$\n",
    "where $h = \\displaystyle{\\frac{1}{n_x + 1}}$ and $v_j = v_j(t)$ be a semi-discrete method for the convection-diffusion equation."
   ]
  }
 ],
 "metadata": {
  "kernelspec": {
   "display_name": "Julia 1.8.3",
   "language": "julia",
   "name": "julia-1.8"
  },
  "language_info": {
   "file_extension": ".jl",
   "mimetype": "application/julia",
   "name": "julia",
   "version": "1.8.3"
  }
 },
 "nbformat": 4,
 "nbformat_minor": 4
}
