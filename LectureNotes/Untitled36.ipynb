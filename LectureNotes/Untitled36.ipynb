{
 "cells": [
  {
   "cell_type": "markdown",
   "metadata": {},
   "source": [
    "# Problem sheet 2\n",
    "\n",
    "Consider the following finite difference method for the diffusion equation\n",
    "$$\n",
    "-\\frac{1}{2}\\mu u^{i+1}_{j-1} + (1 + \\mu)u^{i+1}_j -\\frac{1}{2}\\mu u^{i+1}_{j+1} = \n",
    "\\frac{1}{2}\\mu u^{i}_{j-1} + (1 - \\mu)u^{i}_j +\\frac{1}{2}\\mu u^{i}_{j+1} \n",
    "$$\n",
    "where $\\mu = \\tau/h^2$."
   ]
  },
  {
   "cell_type": "markdown",
   "metadata": {},
   "source": [
    "$$\n",
    "\\frac{u^{i+1}_j - u^i_j}{\\tau} = \\frac{1}{2}\\left( \\frac{u^{i+1}_{j+1} - 2u^{i+1}_{j} + u^{i+1}_{j-1}}{h^2} + \\frac{u^{i}_{j+1} - 2u^{i}_{j} + u^{i}_{j-1}}{h^2}   \\right)\n",
    "$$"
   ]
  },
  {
   "cell_type": "markdown",
   "metadata": {},
   "source": [
    "Using Taylor's theorem to expand the solution about $(x_j, t_{i+1/2})$, we have that as $\\tau \\to 0$,\n",
    "$$\n",
    "\\begin{eqnarray*}\n",
    "\\tilde{u}^{i+1}_j  &=& u(x_{j},t_{i+1}) \\\\\n",
    "                 &=& u(x_j,t_{i+1/2}+\\tau/2) \\\\\n",
    "                 &=& u(x_j,t_{i+1/2}) + \\frac{\\tau}{2}u_t(x_j,t_{i+1/2}) + \\frac{\\tau^2}{8}u_{tt}(x_j,t_{i+1/2}) + \\mathcal{O}(\\tau^3)\n",
    "\\end{eqnarray*}\n",
    "$$\n",
    "and similarly\n",
    "$$\n",
    "\\begin{eqnarray*}\n",
    "\\tilde{u}^{i}_j  &=& u(x_{j},t_{i})\\\\\n",
    "                 &=& u(x_j,t_{i+1/2}-\\tau/2) \\\\\n",
    "                 &=& u(x_j,t_{i+1/2}) - \\frac{\\tau}{2}u_t(x_j,t_{i+1/2}) + \\frac{\\tau^2}{8}u_{tt}(x_j,t_{i+1/2}) + \\mathcal{O}(\\tau^3)\n",
    "\\end{eqnarray*}\n",
    "$$"
   ]
  },
  {
   "cell_type": "markdown",
   "metadata": {},
   "source": [
    "$$\n",
    "\\frac{\\tilde{u}^{i+1}_j - \\tilde{u}^i_j}{\\tau} = u_t(x_j,t_{i+1/2}) + \\mathcal{O}(\\tau^2)\n",
    "$$"
   ]
  },
  {
   "cell_type": "markdown",
   "metadata": {},
   "source": [
    "$$\n",
    "\\begin{eqnarray*}\n",
    "\\frac{\\tilde{u}^{i}_{j+1} - 2\\tilde{u}^{i}_{j} + \\tilde{u}^{i}_{j-1}}{h^2} &=& u_{xx}(x_j,t_i) + \\mathcal{O}(h^2)  \\\\\n",
    "&=&  u_{xx}(x_j,t_{i+1/2}-\\tau/2) + \\mathcal{O}(h^2) \\\\\n",
    "&=&  u_{xx}(x_j,t_{i+1/2}) - \\frac{\\tau}{2}u_{txx}(x_j,t_{i+1/2}) +  \\mathcal{O}(\\tau^2) + \\mathcal{O}(h^2)\n",
    "\\end{eqnarray*}\n",
    "$$"
   ]
  },
  {
   "cell_type": "markdown",
   "metadata": {},
   "source": [
    "$$\n",
    "\\begin{eqnarray*}\n",
    "\\frac{\\tilde{u}^{i+1}_{j+1} - 2\\tilde{u}^{i+1}_{j} + \\tilde{u}^{i+1}_{j-1}}{h^2} &=& u_{xx}(x_j,t_{i+1}) + \\mathcal{O}(h^2)  \\\\\n",
    "&=&  u_{xx}(x_j,t_{i+1/2}+\\tau/2) + \\mathcal{O}(h^2) \\\\\n",
    "&=&  u_{xx}(x_j,t_{i+1/2}) + \\frac{\\tau}{2}u_{txx}(x_j,t_{i+1/2}) +  \\mathcal{O}(\\tau^2) + \\mathcal{O}(h^2)\n",
    "\\end{eqnarray*}\n",
    "$$"
   ]
  },
  {
   "cell_type": "markdown",
   "metadata": {},
   "source": [
    "$$\n",
    "\\begin{eqnarray*}\n",
    "&& \\frac{\\tilde{u}^{i+1}_j - \\tilde{u}^i_j}{\\tau} - \\frac{1}{2}\\left( \\frac{\\tilde{u}^{i+1}_{j+1} - 2\\tilde{u}^{i+1}_{j} + \\tilde{u}^{i+1}_{j-1}}{h^2} + \\frac{\\tilde{u}^{i}_{j+1} - 2\\tilde{u}^{i}_{j} + \\tilde{u}^{i}_{j-1}}{h^2}   \\right) \\\\\n",
    "&& =  u_t(x_j,t_{i+1/2}) - u_{xx}(x_j,t_{i+1/2})  +  \\mathcal{O}(\\tau^2) + \\mathcal{O}(h^2) \\\\\n",
    "&& = \\mathcal{O}(\\tau^2) + \\mathcal{O}(h^2)\n",
    "\\end{eqnarray*}\n",
    "$$"
   ]
  },
  {
   "cell_type": "markdown",
   "metadata": {},
   "source": [
    "Setting $u^{i}_j = \\lambda^i {\\rm e}^{{\\rm i}kx_j}$ in\n",
    "$$\n",
    "-\\frac{1}{2}\\mu u^{i+1}_{j-1} + (1 + \\mu)u^{i+1}_j -\\frac{1}{2}\\mu u^{i+1}_{j+1} = \n",
    "\\frac{1}{2}\\mu u^{i}_{j-1} + (1 - \\mu)u^{i}_j +\\frac{1}{2}\\mu u^{i}_{j+1} \n",
    "$$\n",
    "we find that\n",
    "$$\n",
    "\\lambda\\left[1 - \\frac{\\mu}{2}\\left({\\rm e}^{-{\\rm i}kh} - 2 +  {\\rm e}^{{\\rm i}kh} \\right)    \\right] = 1 + \\frac{\\mu}{2}\\left({\\rm e}^{-{\\rm i}kh} - 2 +  {\\rm e}^{{\\rm i}kh} \\right)  \n",
    "$$\n",
    "and since $\\left({\\rm e}^{-{\\rm i}kh} - 2 +  {\\rm e}^{{\\rm i}kh} \\right) = \\left({\\rm e}^{-{\\rm i}kh/2} -  {\\rm e}^{{\\rm i}kh/2} \\right)^2 = -4\\sin^2(kh/2)$, it follows that\n",
    "$$\n",
    "\\lambda = \\frac{1 - 2\\mu\\sin^2(kh/2)}{1 + 2\\mu\\sin^2(kh/2)}\n",
    "$$\n",
    "Since $1 - 2\\mu\\sin^2(kh/2) \\leq 1 + 2\\mu\\sin^2(kh/2)$ for $\\mu > 0$, $k \\in \\mathbb{Z}$ and $h > 0$, it follows that $\\vert \\lambda \\vert \\leq 1$ for these same parameter values and therefore the method is unconditionally stable."
   ]
  },
  {
   "cell_type": "markdown",
   "metadata": {},
   "source": [
    "$$\n",
    "\\underbrace{\\begin{bmatrix}\n",
    "1 + \\mu & -\\mu/2 & & & \\\\\n",
    "-\\mu/2  & 1+\\mu & -\\mu/2  & & \\\\\n",
    "      & \\ddots & \\ddots & \\ddots & \\\\\n",
    "      &        & -\\mu/2    & 1+ \\mu & -\\mu/2 \\\\\n",
    "      &        &        &-\\mu/2      & 1+\\mu\n",
    "\\end{bmatrix}}_{L}\n",
    "\\underbrace{\\begin{bmatrix}\n",
    "u^{i+1}_{1} \\\\\n",
    "\\vdots \\\\\n",
    "\\vdots \\\\\n",
    "\\vdots \\\\\n",
    "u^{i+1}_{n_x}\n",
    "\\end{bmatrix}}_{\\mathbf{u}^{i+1}} = \n",
    "\\underbrace{\\begin{bmatrix}\n",
    "1 - \\mu & \\mu/2 & & & \\\\\n",
    "\\mu/2  & 1-\\mu & \\mu/2  & & \\\\\n",
    "      & \\ddots & \\ddots & \\ddots & \\\\\n",
    "      &        & \\mu/2    & 1- \\mu & \\mu/2 \\\\\n",
    "      &        &        &\\mu/2      & 1-\\mu\n",
    "\\end{bmatrix}}_{R}\n",
    "\\underbrace{\\begin{bmatrix}\n",
    "u^{i}_{1} \\\\\n",
    "\\vdots \\\\\n",
    "\\vdots \\\\\n",
    "\\vdots \\\\\n",
    "u^{i}_{n_x}\n",
    "\\end{bmatrix}}_{\\mathbf{u}^i}\n",
    "+\n",
    "\\underbrace{\\begin{bmatrix}\n",
    "\\mu(\\varphi_0(t_i) + \\varphi_0(t_{i+1}))/2 \\\\\n",
    "0 \\\\\n",
    "\\vdots \\\\\n",
    "0 \\\\\n",
    "\\mu(\\varphi_1(t_i) + \\varphi_1(t_{i+1}))/2\n",
    "\\end{bmatrix}}_{\\mathbf{k}^i}\n",
    "$$"
   ]
  },
  {
   "cell_type": "markdown",
   "metadata": {},
   "source": [
    "$$\n",
    "\\lambda_j = \\alpha + 2\\beta\\cos\\left( \\frac{\\pi j}{n_x+1}  \\right), \\qquad j = 1, \\ldots, n_x.\n",
    "$$"
   ]
  },
  {
   "cell_type": "markdown",
   "metadata": {},
   "source": [
    "$$\n",
    "\\lambda_j^{L} = 1 + \\mu - \\mu \\cos\\left(\\pi x_j  \\right) =  1 + \\mu - \\mu\\left(1 - 2\\sin^2\\left(\\pi x_j /2 \\right)\\right) = 1 + 2\\mu\\sin^2(\\pi x_j/2)\n",
    "$$"
   ]
  },
  {
   "cell_type": "markdown",
   "metadata": {},
   "source": [
    "$$\n",
    "\\lambda_j^{R} = 1 - \\mu + \\mu \\cos\\left(\\pi x_j  \\right) =  1 - \\mu + \\mu\\left(1 - 2\\sin^2\\left(\\pi x_j /2 \\right)\\right) = 1 - 2\\mu\\sin^2(\\pi x_j/2)\n",
    "$$"
   ]
  },
  {
   "cell_type": "markdown",
   "metadata": {},
   "source": [
    "$$\n",
    "\\Lambda^{L} = \\begin{bmatrix}\n",
    "\\lambda_1^{L} & & & \\\\\n",
    "& \\lambda_2^{L} & & \\\\\n",
    " & & \\ddots &  \\\\\n",
    "&  & & \\lambda_{n_x}^{L}\n",
    "\\end{bmatrix}, \\qquad\n",
    "\\Lambda^{R} = \\begin{bmatrix}\n",
    "\\lambda_1^{R} & & & \\\\\n",
    "& \\lambda_2^{R} & & \\\\\n",
    " & & \\ddots &  \\\\\n",
    "&  & & \\lambda_{n_x}^{R}\n",
    "\\end{bmatrix},\n",
    "$$"
   ]
  },
  {
   "cell_type": "markdown",
   "metadata": {},
   "source": [
    "$$\n",
    "L = Q\\Lambda^{L}Q^{\\top}, \\qquad R = Q\\Lambda^{R}Q^{\\top}\n",
    "$$"
   ]
  },
  {
   "cell_type": "markdown",
   "metadata": {},
   "source": [
    "$$\n",
    "A = L^{-1}R = Q\\left( \\Lambda^{L}  \\right)^{-1}\\Lambda^{R}Q^{\\top}\n",
    "$$"
   ]
  },
  {
   "cell_type": "markdown",
   "metadata": {},
   "source": [
    "$$\n",
    "\\sigma(A) = \\left\\lbrace \\frac{\\lambda_j^{R}}{\\lambda_j^{L}}, j = 1, \\ldots, n_x    \\right\\rbrace\n",
    "$$"
   ]
  },
  {
   "cell_type": "code",
   "execution_count": 9,
   "metadata": {},
   "outputs": [],
   "source": [
    "using Plots, LinearAlgebra"
   ]
  },
  {
   "cell_type": "code",
   "execution_count": 10,
   "metadata": {},
   "outputs": [
    {
     "data": {
      "text/plain": [
       "BackwardEuler (generic function with 1 method)"
      ]
     },
     "execution_count": 10,
     "metadata": {},
     "output_type": "execute_result"
    }
   ],
   "source": [
    "function BackwardEuler(f,ϕ0,ϕ1,nx,μ,T)\n",
    "    \n",
    "    x = range(0,1,nx + 2)\n",
    "    h = 1/(nx+1)\n",
    "    τ = μ*h^2\n",
    "    t = 0:τ:T\n",
    "    nt = length(t)-1\n",
    "    B = SymTridiagonal(fill((1 + 2μ),nx),fill(-μ,nx-1))\n",
    "    u = zeros(nt+1,nx+2)\n",
    "    u[:,1] = ϕ0.(t)\n",
    "    u[:,nx+2] = ϕ1.(t)\n",
    "    u[1,2:nx+1] = f.(x[2:nx+1])\n",
    "\n",
    "    for i = 1:nt\n",
    "        b = u[i,2:nx+1] \n",
    "        b[1] += μ*ϕ0(t[i+1])\n",
    "        b[nx] += μ*ϕ1(t[i+1])\n",
    "        u[i+1,2:nx+1] = B\\b  \n",
    "    end\n",
    "    \n",
    "    u, x, t\n",
    "end"
   ]
  },
  {
   "cell_type": "code",
   "execution_count": 11,
   "metadata": {},
   "outputs": [
    {
     "data": {
      "text/plain": [
       "CrankNick (generic function with 1 method)"
      ]
     },
     "execution_count": 11,
     "metadata": {},
     "output_type": "execute_result"
    }
   ],
   "source": [
    "function CrankNick(f,ϕ0,ϕ1,nx,μ,T)\n",
    "    \n",
    "    x = range(0,1,nx + 2)\n",
    "    h = 1/(nx+1)\n",
    "    τ = μ*h^2\n",
    "    t = 0:τ:T\n",
    "    nt = length(t)-1\n",
    "    L = SymTridiagonal(fill((1 + μ),nx),fill(-μ/2,nx-1))\n",
    "    R = SymTridiagonal(fill((1 - μ),nx),fill(μ/2,nx-1))\n",
    "    u = zeros(nt+1,nx+2)\n",
    "    u[:,1] = ϕ0.(t)\n",
    "    u[:,nx+2] = ϕ1.(t)\n",
    "    u[1,2:nx+1] = f.(x[2:nx+1])\n",
    "\n",
    "    for i = 1:nt\n",
    "        b = R*u[i,2:nx+1] \n",
    "        b[1] += μ*(ϕ0(t[i]) + ϕ0(t[i+1]))/2\n",
    "        b[nx] += μ*(ϕ1(t[i]) + ϕ1(t[i+1]))/2\n",
    "        u[i+1,2:nx+1] = L\\b\n",
    "    end\n",
    "    \n",
    "    u, x, t\n",
    "end"
   ]
  },
  {
   "cell_type": "code",
   "execution_count": 27,
   "metadata": {},
   "outputs": [],
   "source": [
    "f = x -> sin(π*x/2) + 0.5*sin(2π*x)\n",
    "ϕ1 = t -> exp(-π^2*t/4)\n",
    "ϕ0 = t -> 0\n",
    "T = 1\n",
    "ue = (x,t) -> exp(-π^2*t/4)*sin(π*x/2) + 0.5*exp(-4*π^2*t)*sin(2π*x);"
   ]
  },
  {
   "cell_type": "code",
   "execution_count": 55,
   "metadata": {},
   "outputs": [
    {
     "name": "stdout",
     "output_type": "stream",
     "text": [
      "  0.000085 seconds (104 allocations: 21.062 KiB)\n",
      "  0.000050 seconds (84 allocations: 17.328 KiB)\n",
      "  0.000092 seconds (184 allocations: 66.734 KiB)\n",
      "  0.000060 seconds (148 allocations: 54.953 KiB)\n",
      "  0.000249 seconds (345 allocations: 224.609 KiB)\n",
      "  0.000178 seconds (277 allocations: 186.359 KiB)\n",
      "  0.000975 seconds (665 allocations: 831.672 KiB)\n",
      "  0.000888 seconds (533 allocations: 691.422 KiB)\n",
      "  0.006251 seconds (1.30 k allocations: 3.202 MiB)\n",
      "  0.002719 seconds (1.04 k allocations: 2.662 MiB)\n",
      "  0.010716 seconds (2.58 k allocations: 12.401 MiB)\n",
      "  0.008289 seconds (2.07 k allocations: 10.322 MiB)\n",
      "  0.038497 seconds (5.14 k allocations: 48.800 MiB)\n",
      "  0.036278 seconds (4.12 k allocations: 40.643 MiB)\n",
      "  0.161957 seconds (10.27 k allocations: 193.596 MiB)\n",
      "  0.328411 seconds (8.21 k allocations: 161.283 MiB)\n",
      "  3.633912 seconds (41.00 k allocations: 769.626 MiB, 52.33% gc time)\n",
      "  2.696711 seconds (32.80 k allocations: 641.314 MiB, 68.66% gc time)\n"
     ]
    }
   ],
   "source": [
    "cerr = []\n",
    "berr = []\n",
    "nv = 2 .^(4:12)\n",
    "for nx = nv\n",
    "    u,x,t = @time CrankNick(f,ϕ0,ϕ1,nx,Float64(nx),T)\n",
    "    nt = length(t) -1\n",
    "    xx = x' .* ones(nt+1)\n",
    "    tt = ones(nx+2)' .* t\n",
    "    error = abs.(ue.(xx,tt) - u) \n",
    "    cerr = push!(cerr,maximum(error))\n",
    "    u,~,~ = @time BackwardEuler(f,ϕ0,ϕ1,nx,Float64(nx),T)\n",
    "    error = abs.(ue.(xx,tt) - u) \n",
    "    berr = push!(berr,maximum(error))\n",
    "end"
   ]
  },
  {
   "cell_type": "code",
   "execution_count": 54,
   "metadata": {},
   "outputs": [
    {
     "data": {
      "image/svg+xml": [
       "<?xml version=\"1.0\" encoding=\"utf-8\"?>\n",
       "<svg xmlns=\"http://www.w3.org/2000/svg\" xmlns:xlink=\"http://www.w3.org/1999/xlink\" width=\"600\" height=\"400\" viewBox=\"0 0 2400 1600\">\n",
       "<defs>\n",
       "  <clipPath id=\"clip040\">\n",
       "    <rect x=\"0\" y=\"0\" width=\"2400\" height=\"1600\"/>\n",
       "  </clipPath>\n",
       "</defs>\n",
       "<path clip-path=\"url(#clip040)\" d=\"\n",
       "M0 1600 L2400 1600 L2400 0 L0 0  Z\n",
       "  \" fill=\"#ffffff\" fill-rule=\"evenodd\" fill-opacity=\"1\"/>\n",
       "<defs>\n",
       "  <clipPath id=\"clip041\">\n",
       "    <rect x=\"480\" y=\"0\" width=\"1681\" height=\"1600\"/>\n",
       "  </clipPath>\n",
       "</defs>\n",
       "<path clip-path=\"url(#clip040)\" d=\"\n",
       "M189.233 1474.16 L2352.76 1474.16 L2352.76 47.2441 L189.233 47.2441  Z\n",
       "  \" fill=\"#ffffff\" fill-rule=\"evenodd\" fill-opacity=\"1\"/>\n",
       "<defs>\n",
       "  <clipPath id=\"clip042\">\n",
       "    <rect x=\"189\" y=\"47\" width=\"2165\" height=\"1428\"/>\n",
       "  </clipPath>\n",
       "</defs>\n",
       "<polyline clip-path=\"url(#clip042)\" style=\"stroke:#000000; stroke-linecap:round; stroke-linejoin:round; stroke-width:2; stroke-opacity:0.1; fill:none\" points=\"\n",
       "  850.05,1474.16 850.05,47.2441 \n",
       "  \"/>\n",
       "<polyline clip-path=\"url(#clip042)\" style=\"stroke:#000000; stroke-linecap:round; stroke-linejoin:round; stroke-width:2; stroke-opacity:0.1; fill:none\" points=\"\n",
       "  1603.41,1474.16 1603.41,47.2441 \n",
       "  \"/>\n",
       "<polyline clip-path=\"url(#clip040)\" style=\"stroke:#000000; stroke-linecap:round; stroke-linejoin:round; stroke-width:4; stroke-opacity:1; fill:none\" points=\"\n",
       "  189.233,1474.16 2352.76,1474.16 \n",
       "  \"/>\n",
       "<polyline clip-path=\"url(#clip040)\" style=\"stroke:#000000; stroke-linecap:round; stroke-linejoin:round; stroke-width:4; stroke-opacity:1; fill:none\" points=\"\n",
       "  850.05,1474.16 850.05,1455.27 \n",
       "  \"/>\n",
       "<polyline clip-path=\"url(#clip040)\" style=\"stroke:#000000; stroke-linecap:round; stroke-linejoin:round; stroke-width:4; stroke-opacity:1; fill:none\" points=\"\n",
       "  1603.41,1474.16 1603.41,1455.27 \n",
       "  \"/>\n",
       "<path clip-path=\"url(#clip040)\" d=\"M815.823 1548.29 L823.461 1548.29 L823.461 1521.92 L815.151 1523.59 L815.151 1519.33 L823.415 1517.66 L828.091 1517.66 L828.091 1548.29 L835.73 1548.29 L835.73 1552.22 L815.823 1552.22 L815.823 1548.29 Z\" fill=\"#000000\" fill-rule=\"evenodd\" fill-opacity=\"1\" /><path clip-path=\"url(#clip040)\" d=\"M855.174 1520.74 Q851.563 1520.74 849.734 1524.31 Q847.929 1527.85 847.929 1534.98 Q847.929 1542.09 849.734 1545.65 Q851.563 1549.19 855.174 1549.19 Q858.808 1549.19 860.614 1545.65 Q862.443 1542.09 862.443 1534.98 Q862.443 1527.85 860.614 1524.31 Q858.808 1520.74 855.174 1520.74 M855.174 1517.04 Q860.984 1517.04 864.04 1521.65 Q867.119 1526.23 867.119 1534.98 Q867.119 1543.71 864.04 1548.31 Q860.984 1552.9 855.174 1552.9 Q849.364 1552.9 846.285 1548.31 Q843.23 1543.71 843.23 1534.98 Q843.23 1526.23 846.285 1521.65 Q849.364 1517.04 855.174 1517.04 Z\" fill=\"#000000\" fill-rule=\"evenodd\" fill-opacity=\"1\" /><path clip-path=\"url(#clip040)\" d=\"M871.689 1521.62 L884.948 1521.62 L884.948 1524.81 L867.119 1524.81 L867.119 1521.62 Q869.281 1519.38 873.005 1515.62 Q876.748 1511.84 877.707 1510.75 Q879.532 1508.7 880.246 1507.29 Q880.98 1505.86 880.98 1504.48 Q880.98 1502.24 879.4 1500.83 Q877.839 1499.42 875.319 1499.42 Q873.532 1499.42 871.538 1500.04 Q869.564 1500.67 867.307 1501.93 L867.307 1498.09 Q869.601 1497.17 871.595 1496.7 Q873.588 1496.23 875.244 1496.23 Q879.607 1496.23 882.202 1498.41 Q884.798 1500.59 884.798 1504.24 Q884.798 1505.97 884.14 1507.53 Q883.5 1509.07 881.789 1511.18 Q881.318 1511.72 878.798 1514.34 Q876.278 1516.93 871.689 1521.62 Z\" fill=\"#000000\" fill-rule=\"evenodd\" fill-opacity=\"1\" /><path clip-path=\"url(#clip040)\" d=\"M1568.85 1548.29 L1576.49 1548.29 L1576.49 1521.92 L1568.18 1523.59 L1568.18 1519.33 L1576.45 1517.66 L1581.12 1517.66 L1581.12 1548.29 L1588.76 1548.29 L1588.76 1552.22 L1568.85 1552.22 L1568.85 1548.29 Z\" fill=\"#000000\" fill-rule=\"evenodd\" fill-opacity=\"1\" /><path clip-path=\"url(#clip040)\" d=\"M1608.21 1520.74 Q1604.6 1520.74 1602.77 1524.31 Q1600.96 1527.85 1600.96 1534.98 Q1600.96 1542.09 1602.77 1545.65 Q1604.6 1549.19 1608.21 1549.19 Q1611.84 1549.19 1613.65 1545.65 Q1615.48 1542.09 1615.48 1534.98 Q1615.48 1527.85 1613.65 1524.31 Q1611.84 1520.74 1608.21 1520.74 M1608.21 1517.04 Q1614.02 1517.04 1617.07 1521.65 Q1620.15 1526.23 1620.15 1534.98 Q1620.15 1543.71 1617.07 1548.31 Q1614.02 1552.9 1608.21 1552.9 Q1602.4 1552.9 1599.32 1548.31 Q1596.26 1543.71 1596.26 1534.98 Q1596.26 1526.23 1599.32 1521.65 Q1602.4 1517.04 1608.21 1517.04 Z\" fill=\"#000000\" fill-rule=\"evenodd\" fill-opacity=\"1\" /><path clip-path=\"url(#clip040)\" d=\"M1632.85 1509.67 Q1635.57 1510.26 1637.1 1512.1 Q1638.64 1513.94 1638.64 1516.65 Q1638.64 1520.81 1635.78 1523.08 Q1632.92 1525.36 1627.66 1525.36 Q1625.89 1525.36 1624.01 1525 Q1622.14 1524.66 1620.15 1523.97 L1620.15 1520.3 Q1621.73 1521.22 1623.61 1521.69 Q1625.49 1522.16 1627.54 1522.16 Q1631.12 1522.16 1632.98 1520.75 Q1634.86 1519.34 1634.86 1516.65 Q1634.86 1514.17 1633.11 1512.78 Q1631.38 1511.37 1628.28 1511.37 L1625 1511.37 L1625 1508.24 L1628.43 1508.24 Q1631.23 1508.24 1632.71 1507.13 Q1634.2 1506.01 1634.2 1503.9 Q1634.2 1501.74 1632.66 1500.59 Q1631.13 1499.42 1628.28 1499.42 Q1626.71 1499.42 1624.93 1499.76 Q1623.14 1500.1 1621 1500.82 L1621 1497.43 Q1623.16 1496.83 1625.04 1496.53 Q1626.94 1496.23 1628.61 1496.23 Q1632.94 1496.23 1635.46 1498.2 Q1637.98 1500.16 1637.98 1503.51 Q1637.98 1505.84 1636.65 1507.45 Q1635.31 1509.05 1632.85 1509.67 Z\" fill=\"#000000\" fill-rule=\"evenodd\" fill-opacity=\"1\" /><polyline clip-path=\"url(#clip042)\" style=\"stroke:#000000; stroke-linecap:round; stroke-linejoin:round; stroke-width:2; stroke-opacity:0.1; fill:none\" points=\"\n",
       "  189.233,1320.8 2352.76,1320.8 \n",
       "  \"/>\n",
       "<polyline clip-path=\"url(#clip042)\" style=\"stroke:#000000; stroke-linecap:round; stroke-linejoin:round; stroke-width:2; stroke-opacity:0.1; fill:none\" points=\"\n",
       "  189.233,583.426 2352.76,583.426 \n",
       "  \"/>\n",
       "<polyline clip-path=\"url(#clip040)\" style=\"stroke:#000000; stroke-linecap:round; stroke-linejoin:round; stroke-width:4; stroke-opacity:1; fill:none\" points=\"\n",
       "  189.233,1474.16 189.233,47.2441 \n",
       "  \"/>\n",
       "<polyline clip-path=\"url(#clip040)\" style=\"stroke:#000000; stroke-linecap:round; stroke-linejoin:round; stroke-width:4; stroke-opacity:1; fill:none\" points=\"\n",
       "  189.233,1320.8 208.13,1320.8 \n",
       "  \"/>\n",
       "<polyline clip-path=\"url(#clip040)\" style=\"stroke:#000000; stroke-linecap:round; stroke-linejoin:round; stroke-width:4; stroke-opacity:1; fill:none\" points=\"\n",
       "  189.233,583.426 208.13,583.426 \n",
       "  \"/>\n",
       "<path clip-path=\"url(#clip040)\" d=\"M51.6634 1340.6 L59.3023 1340.6 L59.3023 1314.23 L50.9921 1315.9 L50.9921 1311.64 L59.256 1309.97 L63.9319 1309.97 L63.9319 1340.6 L71.5707 1340.6 L71.5707 1344.53 L51.6634 1344.53 L51.6634 1340.6 Z\" fill=\"#000000\" fill-rule=\"evenodd\" fill-opacity=\"1\" /><path clip-path=\"url(#clip040)\" d=\"M91.0151 1313.05 Q87.404 1313.05 85.5753 1316.61 Q83.7697 1320.16 83.7697 1327.28 Q83.7697 1334.39 85.5753 1337.96 Q87.404 1341.5 91.0151 1341.5 Q94.6493 1341.5 96.4548 1337.96 Q98.2835 1334.39 98.2835 1327.28 Q98.2835 1320.16 96.4548 1316.61 Q94.6493 1313.05 91.0151 1313.05 M91.0151 1309.35 Q96.8252 1309.35 99.8808 1313.95 Q102.959 1318.53 102.959 1327.28 Q102.959 1336.01 99.8808 1340.62 Q96.8252 1345.2 91.0151 1345.2 Q85.2049 1345.2 82.1262 1340.62 Q79.0707 1336.01 79.0707 1327.28 Q79.0707 1318.53 82.1262 1313.95 Q85.2049 1309.35 91.0151 1309.35 Z\" fill=\"#000000\" fill-rule=\"evenodd\" fill-opacity=\"1\" /><path clip-path=\"url(#clip040)\" d=\"M102.959 1303.45 L127.071 1303.45 L127.071 1306.64 L102.959 1306.64 L102.959 1303.45 Z\" fill=\"#000000\" fill-rule=\"evenodd\" fill-opacity=\"1\" /><path clip-path=\"url(#clip040)\" d=\"M143.866 1301.57 Q141.308 1301.57 139.804 1303.31 Q138.318 1305.06 138.318 1308.11 Q138.318 1311.14 139.804 1312.91 Q141.308 1314.66 143.866 1314.66 Q146.424 1314.66 147.91 1312.91 Q149.415 1311.14 149.415 1308.11 Q149.415 1305.06 147.91 1303.31 Q146.424 1301.57 143.866 1301.57 M151.408 1289.66 L151.408 1293.12 Q149.979 1292.44 148.512 1292.09 Q147.064 1291.73 145.634 1291.73 Q141.873 1291.73 139.879 1294.27 Q137.904 1296.81 137.622 1301.94 Q138.732 1300.31 140.406 1299.44 Q142.08 1298.56 144.092 1298.56 Q148.324 1298.56 150.769 1301.13 Q153.233 1303.69 153.233 1308.11 Q153.233 1312.44 150.675 1315.05 Q148.117 1317.67 143.866 1317.67 Q138.995 1317.67 136.418 1313.94 Q133.842 1310.2 133.842 1303.11 Q133.842 1296.45 137.002 1292.5 Q140.161 1288.53 145.484 1288.53 Q146.913 1288.53 148.361 1288.81 Q149.828 1289.1 151.408 1289.66 Z\" fill=\"#000000\" fill-rule=\"evenodd\" fill-opacity=\"1\" /><path clip-path=\"url(#clip040)\" d=\"M52.3217 603.219 L59.9605 603.219 L59.9605 576.853 L51.6504 578.52 L51.6504 574.261 L59.9142 572.594 L64.5901 572.594 L64.5901 603.219 L72.229 603.219 L72.229 607.154 L52.3217 607.154 L52.3217 603.219 Z\" fill=\"#000000\" fill-rule=\"evenodd\" fill-opacity=\"1\" /><path clip-path=\"url(#clip040)\" d=\"M91.6733 575.673 Q88.0622 575.673 86.2335 579.238 Q84.428 582.779 84.428 589.909 Q84.428 597.015 86.2335 600.58 Q88.0622 604.122 91.6733 604.122 Q95.3076 604.122 97.1131 600.58 Q98.9418 597.015 98.9418 589.909 Q98.9418 582.779 97.1131 579.238 Q95.3076 575.673 91.6733 575.673 M91.6733 571.969 Q97.4835 571.969 100.539 576.575 Q103.618 581.159 103.618 589.909 Q103.618 598.636 100.539 603.242 Q97.4835 607.825 91.6733 607.825 Q85.8632 607.825 82.7845 603.242 Q79.729 598.636 79.729 589.909 Q79.729 581.159 82.7845 576.575 Q85.8632 571.969 91.6733 571.969 Z\" fill=\"#000000\" fill-rule=\"evenodd\" fill-opacity=\"1\" /><path clip-path=\"url(#clip040)\" d=\"M103.618 566.07 L127.729 566.07 L127.729 569.268 L103.618 569.268 L103.618 566.07 Z\" fill=\"#000000\" fill-rule=\"evenodd\" fill-opacity=\"1\" /><path clip-path=\"url(#clip040)\" d=\"M147.44 564.603 Q150.167 565.186 151.69 567.03 Q153.233 568.873 153.233 571.581 Q153.233 575.738 150.374 578.013 Q147.515 580.289 142.249 580.289 Q140.481 580.289 138.6 579.932 Q136.738 579.593 134.745 578.897 L134.745 575.23 Q136.324 576.151 138.205 576.622 Q140.086 577.092 142.136 577.092 Q145.71 577.092 147.571 575.681 Q149.452 574.271 149.452 571.581 Q149.452 569.098 147.703 567.707 Q145.973 566.296 142.87 566.296 L139.597 566.296 L139.597 563.174 L143.02 563.174 Q145.822 563.174 147.308 562.064 Q148.794 560.936 148.794 558.829 Q148.794 556.666 147.252 555.519 Q145.728 554.353 142.87 554.353 Q141.308 554.353 139.522 554.692 Q137.735 555.03 135.591 555.745 L135.591 552.36 Q137.754 551.758 139.635 551.457 Q141.534 551.156 143.208 551.156 Q147.534 551.156 150.054 553.131 Q152.574 555.087 152.574 558.434 Q152.574 560.767 151.239 562.384 Q149.904 563.983 147.44 564.603 Z\" fill=\"#000000\" fill-rule=\"evenodd\" fill-opacity=\"1\" /><circle clip-path=\"url(#clip042)\" cx=\"250.464\" cy=\"122.198\" r=\"14.4\" fill=\"#009af9\" fill-rule=\"evenodd\" fill-opacity=\"1\" stroke=\"#000000\" stroke-opacity=\"1\" stroke-width=\"3.2\"/>\n",
       "<circle clip-path=\"url(#clip042)\" cx=\"477.249\" cy=\"248.203\" r=\"14.4\" fill=\"#009af9\" fill-rule=\"evenodd\" fill-opacity=\"1\" stroke=\"#000000\" stroke-opacity=\"1\" stroke-width=\"3.2\"/>\n",
       "<circle clip-path=\"url(#clip042)\" cx=\"704.033\" cy=\"402.556\" r=\"14.4\" fill=\"#009af9\" fill-rule=\"evenodd\" fill-opacity=\"1\" stroke=\"#000000\" stroke-opacity=\"1\" stroke-width=\"3.2\"/>\n",
       "<circle clip-path=\"url(#clip042)\" cx=\"930.818\" cy=\"548.607\" r=\"14.4\" fill=\"#009af9\" fill-rule=\"evenodd\" fill-opacity=\"1\" stroke=\"#000000\" stroke-opacity=\"1\" stroke-width=\"3.2\"/>\n",
       "<circle clip-path=\"url(#clip042)\" cx=\"1157.6\" cy=\"695.541\" r=\"14.4\" fill=\"#009af9\" fill-rule=\"evenodd\" fill-opacity=\"1\" stroke=\"#000000\" stroke-opacity=\"1\" stroke-width=\"3.2\"/>\n",
       "<circle clip-path=\"url(#clip042)\" cx=\"1384.39\" cy=\"842.616\" r=\"14.4\" fill=\"#009af9\" fill-rule=\"evenodd\" fill-opacity=\"1\" stroke=\"#000000\" stroke-opacity=\"1\" stroke-width=\"3.2\"/>\n",
       "<circle clip-path=\"url(#clip042)\" cx=\"1611.17\" cy=\"990.225\" r=\"14.4\" fill=\"#009af9\" fill-rule=\"evenodd\" fill-opacity=\"1\" stroke=\"#000000\" stroke-opacity=\"1\" stroke-width=\"3.2\"/>\n",
       "<circle clip-path=\"url(#clip042)\" cx=\"1837.96\" cy=\"1138.01\" r=\"14.4\" fill=\"#009af9\" fill-rule=\"evenodd\" fill-opacity=\"1\" stroke=\"#000000\" stroke-opacity=\"1\" stroke-width=\"3.2\"/>\n",
       "<circle clip-path=\"url(#clip042)\" cx=\"2064.74\" cy=\"1285.89\" r=\"14.4\" fill=\"#009af9\" fill-rule=\"evenodd\" fill-opacity=\"1\" stroke=\"#000000\" stroke-opacity=\"1\" stroke-width=\"3.2\"/>\n",
       "<circle clip-path=\"url(#clip042)\" cx=\"2291.52\" cy=\"1433.78\" r=\"14.4\" fill=\"#009af9\" fill-rule=\"evenodd\" fill-opacity=\"1\" stroke=\"#000000\" stroke-opacity=\"1\" stroke-width=\"3.2\"/>\n",
       "<circle clip-path=\"url(#clip042)\" cx=\"250.464\" cy=\"87.6286\" r=\"14.4\" fill=\"#e26f46\" fill-rule=\"evenodd\" fill-opacity=\"1\" stroke=\"#000000\" stroke-opacity=\"1\" stroke-width=\"3.2\"/>\n",
       "<circle clip-path=\"url(#clip042)\" cx=\"477.249\" cy=\"121.309\" r=\"14.4\" fill=\"#e26f46\" fill-rule=\"evenodd\" fill-opacity=\"1\" stroke=\"#000000\" stroke-opacity=\"1\" stroke-width=\"3.2\"/>\n",
       "<circle clip-path=\"url(#clip042)\" cx=\"704.033\" cy=\"176.667\" r=\"14.4\" fill=\"#e26f46\" fill-rule=\"evenodd\" fill-opacity=\"1\" stroke=\"#000000\" stroke-opacity=\"1\" stroke-width=\"3.2\"/>\n",
       "<circle clip-path=\"url(#clip042)\" cx=\"930.818\" cy=\"239.922\" r=\"14.4\" fill=\"#e26f46\" fill-rule=\"evenodd\" fill-opacity=\"1\" stroke=\"#000000\" stroke-opacity=\"1\" stroke-width=\"3.2\"/>\n",
       "<circle clip-path=\"url(#clip042)\" cx=\"1157.6\" cy=\"306.701\" r=\"14.4\" fill=\"#e26f46\" fill-rule=\"evenodd\" fill-opacity=\"1\" stroke=\"#000000\" stroke-opacity=\"1\" stroke-width=\"3.2\"/>\n",
       "<circle clip-path=\"url(#clip042)\" cx=\"1384.39\" cy=\"377.217\" r=\"14.4\" fill=\"#e26f46\" fill-rule=\"evenodd\" fill-opacity=\"1\" stroke=\"#000000\" stroke-opacity=\"1\" stroke-width=\"3.2\"/>\n",
       "<circle clip-path=\"url(#clip042)\" cx=\"1611.17\" cy=\"449.372\" r=\"14.4\" fill=\"#e26f46\" fill-rule=\"evenodd\" fill-opacity=\"1\" stroke=\"#000000\" stroke-opacity=\"1\" stroke-width=\"3.2\"/>\n",
       "<circle clip-path=\"url(#clip042)\" cx=\"1837.96\" cy=\"522.429\" r=\"14.4\" fill=\"#e26f46\" fill-rule=\"evenodd\" fill-opacity=\"1\" stroke=\"#000000\" stroke-opacity=\"1\" stroke-width=\"3.2\"/>\n",
       "<circle clip-path=\"url(#clip042)\" cx=\"2064.74\" cy=\"595.95\" r=\"14.4\" fill=\"#e26f46\" fill-rule=\"evenodd\" fill-opacity=\"1\" stroke=\"#000000\" stroke-opacity=\"1\" stroke-width=\"3.2\"/>\n",
       "<circle clip-path=\"url(#clip042)\" cx=\"2291.52\" cy=\"669.706\" r=\"14.4\" fill=\"#e26f46\" fill-rule=\"evenodd\" fill-opacity=\"1\" stroke=\"#000000\" stroke-opacity=\"1\" stroke-width=\"3.2\"/>\n",
       "<path clip-path=\"url(#clip040)\" d=\"\n",
       "M2011.86 250.328 L2280.64 250.328 L2280.64 94.8081 L2011.86 94.8081  Z\n",
       "  \" fill=\"#ffffff\" fill-rule=\"evenodd\" fill-opacity=\"1\"/>\n",
       "<polyline clip-path=\"url(#clip040)\" style=\"stroke:#000000; stroke-linecap:round; stroke-linejoin:round; stroke-width:4; stroke-opacity:1; fill:none\" points=\"\n",
       "  2011.86,250.328 2280.64,250.328 2280.64,94.8081 2011.86,94.8081 2011.86,250.328 \n",
       "  \"/>\n",
       "<circle clip-path=\"url(#clip040)\" cx=\"2108.01\" cy=\"146.648\" r=\"23.04\" fill=\"#009af9\" fill-rule=\"evenodd\" fill-opacity=\"1\" stroke=\"#000000\" stroke-opacity=\"1\" stroke-width=\"5.12\"/>\n",
       "<path clip-path=\"url(#clip040)\" d=\"M2218.01 166.336 Q2216.21 170.965 2214.49 172.377 Q2212.78 173.789 2209.91 173.789 L2206.51 173.789 L2206.51 170.224 L2209.01 170.224 Q2210.77 170.224 2211.74 169.391 Q2212.71 168.558 2213.89 165.456 L2214.66 163.511 L2204.17 138.002 L2208.68 138.002 L2216.78 158.28 L2224.89 138.002 L2229.4 138.002 L2218.01 166.336 Z\" fill=\"#000000\" fill-rule=\"evenodd\" fill-opacity=\"1\" /><path clip-path=\"url(#clip040)\" d=\"M2236.69 159.993 L2244.33 159.993 L2244.33 133.627 L2236.02 135.294 L2236.02 131.035 L2244.28 129.368 L2248.96 129.368 L2248.96 159.993 L2256.6 159.993 L2256.6 163.928 L2236.69 163.928 L2236.69 159.993 Z\" fill=\"#000000\" fill-rule=\"evenodd\" fill-opacity=\"1\" /><circle clip-path=\"url(#clip040)\" cx=\"2108.01\" cy=\"198.488\" r=\"23.04\" fill=\"#e26f46\" fill-rule=\"evenodd\" fill-opacity=\"1\" stroke=\"#000000\" stroke-opacity=\"1\" stroke-width=\"5.12\"/>\n",
       "<path clip-path=\"url(#clip040)\" d=\"M2218.01 218.176 Q2216.21 222.805 2214.49 224.217 Q2212.78 225.629 2209.91 225.629 L2206.51 225.629 L2206.51 222.064 L2209.01 222.064 Q2210.77 222.064 2211.74 221.231 Q2212.71 220.398 2213.89 217.296 L2214.66 215.351 L2204.17 189.842 L2208.68 189.842 L2216.78 210.12 L2224.89 189.842 L2229.4 189.842 L2218.01 218.176 Z\" fill=\"#000000\" fill-rule=\"evenodd\" fill-opacity=\"1\" /><path clip-path=\"url(#clip040)\" d=\"M2239.91 211.833 L2256.23 211.833 L2256.23 215.768 L2234.28 215.768 L2234.28 211.833 Q2236.95 209.078 2241.53 204.449 Q2246.14 199.796 2247.32 198.453 Q2249.56 195.93 2250.44 194.194 Q2251.34 192.435 2251.34 190.745 Q2251.34 187.99 2249.4 186.254 Q2247.48 184.518 2244.38 184.518 Q2242.18 184.518 2239.72 185.282 Q2237.29 186.046 2234.52 187.597 L2234.52 182.875 Q2237.34 181.741 2239.79 181.162 Q2242.25 180.583 2244.28 180.583 Q2249.65 180.583 2252.85 183.268 Q2256.04 185.953 2256.04 190.444 Q2256.04 192.574 2255.23 194.495 Q2254.45 196.393 2252.34 198.986 Q2251.76 199.657 2248.66 202.875 Q2245.56 206.069 2239.91 211.833 Z\" fill=\"#000000\" fill-rule=\"evenodd\" fill-opacity=\"1\" /></svg>\n"
      ]
     },
     "execution_count": 54,
     "metadata": {},
     "output_type": "execute_result"
    }
   ],
   "source": [
    "scatter(nv,cerr;yscale=:log10,xscale=:log10)\n",
    "scatter!(nv,berr;yscale=:log10,xscale=:log10)"
   ]
  },
  {
   "cell_type": "code",
   "execution_count": 56,
   "metadata": {},
   "outputs": [
    {
     "data": {
      "text/plain": [
       "-1.9946564796544979"
      ]
     },
     "execution_count": 56,
     "metadata": {},
     "output_type": "execute_result"
    }
   ],
   "source": [
    "log(cerr[end]/cerr[end-4])/log(nv[end]/nv[end-4])"
   ]
  },
  {
   "cell_type": "code",
   "execution_count": 58,
   "metadata": {},
   "outputs": [
    {
     "data": {
      "text/plain": [
       "-0.9854061549915227"
      ]
     },
     "execution_count": 58,
     "metadata": {},
     "output_type": "execute_result"
    }
   ],
   "source": [
    "log(berr[end]/berr[end-3])/log(nv[end]/nv[end-3])"
   ]
  },
  {
   "cell_type": "code",
   "execution_count": 49,
   "metadata": {},
   "outputs": [
    {
     "data": {
      "text/plain": [
       "9×2 Matrix{Float64}:\n",
       " 0.0752486    0.104026\n",
       " 0.0231127    0.0758778\n",
       " 0.00544339   0.0451745\n",
       " 0.00138568   0.0249771\n",
       " 0.000349837  0.0133614\n",
       " 8.82053e-5   0.00690177\n",
       " 2.21283e-5   0.00351073\n",
       " 5.54237e-6   0.00177079\n",
       " 1.38695e-6   0.000889303"
      ]
     },
     "execution_count": 49,
     "metadata": {},
     "output_type": "execute_result"
    }
   ],
   "source": [
    "[cerr berr]"
   ]
  },
  {
   "cell_type": "code",
   "execution_count": 41,
   "metadata": {},
   "outputs": [
    {
     "name": "stdout",
     "output_type": "stream",
     "text": [
      "  0.000039 seconds (104 allocations: 21.062 KiB)\n",
      "  0.000065 seconds (184 allocations: 66.734 KiB)\n",
      "  0.000182 seconds (345 allocations: 224.609 KiB)\n",
      "  0.000760 seconds (665 allocations: 831.672 KiB)\n",
      "  0.002636 seconds (1.30 k allocations: 3.202 MiB)\n",
      "  0.010010 seconds (2.59 k allocations: 12.401 MiB)\n",
      "  0.039634 seconds (5.15 k allocations: 48.800 MiB)\n",
      "  0.164827 seconds (10.27 k allocations: 193.596 MiB)\n",
      "  1.324730 seconds (41.00 k allocations: 769.626 MiB, 35.12% gc time)\n"
     ]
    },
    {
     "data": {
      "text/plain": [
       "9-element Vector{Float64}:\n",
       " 0.07524858151462704\n",
       " 0.023112665031878254\n",
       " 0.005443389150161959\n",
       " 0.0013856827192409993\n",
       " 0.00034983725472614857\n",
       " 8.82052643798037e-5\n",
       " 2.2128291491618768e-5\n",
       " 5.542372916389482e-6\n",
       " 1.3869484853934466e-6"
      ]
     },
     "execution_count": 41,
     "metadata": {},
     "output_type": "execute_result"
    }
   ],
   "source": [
    "nv = 2 .^(4:12)\n",
    "cerrors = [( (u,x,t) = @time CrankNick(f,ϕ0,ϕ1,nx,Float64(nx),T);\n",
    "             nt = length(t) -1;\n",
    "             xx = x' .* ones(nt+1);\n",
    "             tt = ones(nx+2)' .* t;\n",
    "             error = abs.(ue.(xx,tt) - u); \n",
    "             maximum(error)) for nx = nv]"
   ]
  },
  {
   "cell_type": "code",
   "execution_count": 42,
   "metadata": {},
   "outputs": [
    {
     "data": {
      "text/plain": [
       "9-element Vector{Int64}:\n",
       "   16\n",
       "   32\n",
       "   64\n",
       "  128\n",
       "  256\n",
       "  512\n",
       " 1024\n",
       " 2048\n",
       " 4096"
      ]
     },
     "execution_count": 42,
     "metadata": {},
     "output_type": "execute_result"
    }
   ],
   "source": [
    "nv"
   ]
  },
  {
   "cell_type": "code",
   "execution_count": 24,
   "metadata": {},
   "outputs": [
    {
     "data": {
      "text/plain": [
       "7-element Vector{Int64}:\n",
       "   16\n",
       "   32\n",
       "   64\n",
       "  128\n",
       "  256\n",
       "  512\n",
       " 1024"
      ]
     },
     "execution_count": 24,
     "metadata": {},
     "output_type": "execute_result"
    }
   ],
   "source": [
    "nv = 2 .^(4:10)\n",
    "error = [(a = 1; \n",
    "  n) for n = nv]\n",
    "error"
   ]
  },
  {
   "cell_type": "code",
   "execution_count": 44,
   "metadata": {},
   "outputs": [
    {
     "data": {
      "image/svg+xml": [
       "<?xml version=\"1.0\" encoding=\"utf-8\"?>\n",
       "<svg xmlns=\"http://www.w3.org/2000/svg\" xmlns:xlink=\"http://www.w3.org/1999/xlink\" width=\"600\" height=\"400\" viewBox=\"0 0 2400 1600\">\n",
       "<defs>\n",
       "  <clipPath id=\"clip920\">\n",
       "    <rect x=\"0\" y=\"0\" width=\"2400\" height=\"1600\"/>\n",
       "  </clipPath>\n",
       "</defs>\n",
       "<path clip-path=\"url(#clip920)\" d=\"\n",
       "M0 1600 L2400 1600 L2400 0 L0 0  Z\n",
       "  \" fill=\"#ffffff\" fill-rule=\"evenodd\" fill-opacity=\"1\"/>\n",
       "<defs>\n",
       "  <clipPath id=\"clip921\">\n",
       "    <rect x=\"480\" y=\"0\" width=\"1681\" height=\"1600\"/>\n",
       "  </clipPath>\n",
       "</defs>\n",
       "<path clip-path=\"url(#clip920)\" d=\"\n",
       "M112.177 1486.45 L2352.76 1486.45 L2352.76 47.2441 L112.177 47.2441  Z\n",
       "  \" fill=\"#ffffff\" fill-rule=\"evenodd\" fill-opacity=\"1\"/>\n",
       "<defs>\n",
       "  <clipPath id=\"clip922\">\n",
       "    <rect x=\"112\" y=\"47\" width=\"2242\" height=\"1440\"/>\n",
       "  </clipPath>\n",
       "</defs>\n",
       "<polyline clip-path=\"url(#clip922)\" style=\"stroke:#000000; stroke-linecap:round; stroke-linejoin:round; stroke-width:2; stroke-opacity:0.1; fill:none\" points=\"\n",
       "  175.59,1486.45 175.59,47.2441 \n",
       "  \"/>\n",
       "<polyline clip-path=\"url(#clip922)\" style=\"stroke:#000000; stroke-linecap:round; stroke-linejoin:round; stroke-width:2; stroke-opacity:0.1; fill:none\" points=\"\n",
       "  704.028,1486.45 704.028,47.2441 \n",
       "  \"/>\n",
       "<polyline clip-path=\"url(#clip922)\" style=\"stroke:#000000; stroke-linecap:round; stroke-linejoin:round; stroke-width:2; stroke-opacity:0.1; fill:none\" points=\"\n",
       "  1232.47,1486.45 1232.47,47.2441 \n",
       "  \"/>\n",
       "<polyline clip-path=\"url(#clip922)\" style=\"stroke:#000000; stroke-linecap:round; stroke-linejoin:round; stroke-width:2; stroke-opacity:0.1; fill:none\" points=\"\n",
       "  1760.9,1486.45 1760.9,47.2441 \n",
       "  \"/>\n",
       "<polyline clip-path=\"url(#clip922)\" style=\"stroke:#000000; stroke-linecap:round; stroke-linejoin:round; stroke-width:2; stroke-opacity:0.1; fill:none\" points=\"\n",
       "  2289.34,1486.45 2289.34,47.2441 \n",
       "  \"/>\n",
       "<polyline clip-path=\"url(#clip920)\" style=\"stroke:#000000; stroke-linecap:round; stroke-linejoin:round; stroke-width:4; stroke-opacity:1; fill:none\" points=\"\n",
       "  112.177,1486.45 2352.76,1486.45 \n",
       "  \"/>\n",
       "<polyline clip-path=\"url(#clip920)\" style=\"stroke:#000000; stroke-linecap:round; stroke-linejoin:round; stroke-width:4; stroke-opacity:1; fill:none\" points=\"\n",
       "  175.59,1486.45 175.59,1467.55 \n",
       "  \"/>\n",
       "<polyline clip-path=\"url(#clip920)\" style=\"stroke:#000000; stroke-linecap:round; stroke-linejoin:round; stroke-width:4; stroke-opacity:1; fill:none\" points=\"\n",
       "  704.028,1486.45 704.028,1467.55 \n",
       "  \"/>\n",
       "<polyline clip-path=\"url(#clip920)\" style=\"stroke:#000000; stroke-linecap:round; stroke-linejoin:round; stroke-width:4; stroke-opacity:1; fill:none\" points=\"\n",
       "  1232.47,1486.45 1232.47,1467.55 \n",
       "  \"/>\n",
       "<polyline clip-path=\"url(#clip920)\" style=\"stroke:#000000; stroke-linecap:round; stroke-linejoin:round; stroke-width:4; stroke-opacity:1; fill:none\" points=\"\n",
       "  1760.9,1486.45 1760.9,1467.55 \n",
       "  \"/>\n",
       "<polyline clip-path=\"url(#clip920)\" style=\"stroke:#000000; stroke-linecap:round; stroke-linejoin:round; stroke-width:4; stroke-opacity:1; fill:none\" points=\"\n",
       "  2289.34,1486.45 2289.34,1467.55 \n",
       "  \"/>\n",
       "<path clip-path=\"url(#clip920)\" d=\"M165.972 1544.91 L173.611 1544.91 L173.611 1518.55 L165.3 1520.21 L165.3 1515.95 L173.564 1514.29 L178.24 1514.29 L178.24 1544.91 L185.879 1544.91 L185.879 1548.85 L165.972 1548.85 L165.972 1544.91 Z\" fill=\"#000000\" fill-rule=\"evenodd\" fill-opacity=\"1\" /><path clip-path=\"url(#clip920)\" d=\"M698.681 1544.91 L715 1544.91 L715 1548.85 L693.056 1548.85 L693.056 1544.91 Q695.718 1542.16 700.301 1537.53 Q704.908 1532.88 706.088 1531.53 Q708.334 1529.01 709.213 1527.27 Q710.116 1525.51 710.116 1523.82 Q710.116 1521.07 708.172 1519.33 Q706.25 1517.6 703.149 1517.6 Q700.949 1517.6 698.496 1518.36 Q696.065 1519.13 693.287 1520.68 L693.287 1515.95 Q696.112 1514.82 698.565 1514.24 Q701.019 1513.66 703.056 1513.66 Q708.426 1513.66 711.621 1516.35 Q714.815 1519.03 714.815 1523.52 Q714.815 1525.65 714.005 1527.57 Q713.218 1529.47 711.111 1532.07 Q710.533 1532.74 707.431 1535.95 Q704.329 1539.15 698.681 1544.91 Z\" fill=\"#000000\" fill-rule=\"evenodd\" fill-opacity=\"1\" /><path clip-path=\"url(#clip920)\" d=\"M1236.71 1530.21 Q1240.07 1530.93 1241.95 1533.2 Q1243.84 1535.47 1243.84 1538.8 Q1243.84 1543.92 1240.33 1546.72 Q1236.81 1549.52 1230.33 1549.52 Q1228.15 1549.52 1225.83 1549.08 Q1223.54 1548.66 1221.09 1547.81 L1221.09 1543.29 Q1223.03 1544.43 1225.35 1545.01 Q1227.66 1545.58 1230.19 1545.58 Q1234.58 1545.58 1236.88 1543.85 Q1239.19 1542.11 1239.19 1538.8 Q1239.19 1535.75 1237.04 1534.03 Q1234.91 1532.3 1231.09 1532.3 L1227.06 1532.3 L1227.06 1528.45 L1231.27 1528.45 Q1234.72 1528.45 1236.55 1527.09 Q1238.38 1525.7 1238.38 1523.11 Q1238.38 1520.45 1236.48 1519.03 Q1234.61 1517.6 1231.09 1517.6 Q1229.17 1517.6 1226.97 1518.01 Q1224.77 1518.43 1222.13 1519.31 L1222.13 1515.14 Q1224.79 1514.4 1227.11 1514.03 Q1229.45 1513.66 1231.51 1513.66 Q1236.83 1513.66 1239.93 1516.09 Q1243.03 1518.5 1243.03 1522.62 Q1243.03 1525.49 1241.39 1527.48 Q1239.75 1529.45 1236.71 1530.21 Z\" fill=\"#000000\" fill-rule=\"evenodd\" fill-opacity=\"1\" /><path clip-path=\"url(#clip920)\" d=\"M1763.91 1518.36 L1752.11 1536.81 L1763.91 1536.81 L1763.91 1518.36 M1762.69 1514.29 L1768.57 1514.29 L1768.57 1536.81 L1773.5 1536.81 L1773.5 1540.7 L1768.57 1540.7 L1768.57 1548.85 L1763.91 1548.85 L1763.91 1540.7 L1748.31 1540.7 L1748.31 1536.19 L1762.69 1514.29 Z\" fill=\"#000000\" fill-rule=\"evenodd\" fill-opacity=\"1\" /><path clip-path=\"url(#clip920)\" d=\"M2279.62 1514.29 L2297.98 1514.29 L2297.98 1518.22 L2283.9 1518.22 L2283.9 1526.7 Q2284.92 1526.35 2285.94 1526.19 Q2286.96 1526 2287.98 1526 Q2293.76 1526 2297.14 1529.17 Q2300.52 1532.34 2300.52 1537.76 Q2300.52 1543.34 2297.05 1546.44 Q2293.58 1549.52 2287.26 1549.52 Q2285.08 1549.52 2282.82 1549.15 Q2280.57 1548.78 2278.16 1548.04 L2278.16 1543.34 Q2280.25 1544.47 2282.47 1545.03 Q2284.69 1545.58 2287.17 1545.58 Q2291.17 1545.58 2293.51 1543.48 Q2295.85 1541.37 2295.85 1537.76 Q2295.85 1534.15 2293.51 1532.04 Q2291.17 1529.94 2287.17 1529.94 Q2285.29 1529.94 2283.42 1530.35 Q2281.57 1530.77 2279.62 1531.65 L2279.62 1514.29 Z\" fill=\"#000000\" fill-rule=\"evenodd\" fill-opacity=\"1\" /><polyline clip-path=\"url(#clip922)\" style=\"stroke:#000000; stroke-linecap:round; stroke-linejoin:round; stroke-width:2; stroke-opacity:0.1; fill:none\" points=\"\n",
       "  112.177,1445.72 2352.76,1445.72 \n",
       "  \"/>\n",
       "<polyline clip-path=\"url(#clip922)\" style=\"stroke:#000000; stroke-linecap:round; stroke-linejoin:round; stroke-width:2; stroke-opacity:0.1; fill:none\" points=\"\n",
       "  112.177,1106.28 2352.76,1106.28 \n",
       "  \"/>\n",
       "<polyline clip-path=\"url(#clip922)\" style=\"stroke:#000000; stroke-linecap:round; stroke-linejoin:round; stroke-width:2; stroke-opacity:0.1; fill:none\" points=\"\n",
       "  112.177,766.846 2352.76,766.846 \n",
       "  \"/>\n",
       "<polyline clip-path=\"url(#clip922)\" style=\"stroke:#000000; stroke-linecap:round; stroke-linejoin:round; stroke-width:2; stroke-opacity:0.1; fill:none\" points=\"\n",
       "  112.177,427.411 2352.76,427.411 \n",
       "  \"/>\n",
       "<polyline clip-path=\"url(#clip922)\" style=\"stroke:#000000; stroke-linecap:round; stroke-linejoin:round; stroke-width:2; stroke-opacity:0.1; fill:none\" points=\"\n",
       "  112.177,87.9763 2352.76,87.9763 \n",
       "  \"/>\n",
       "<polyline clip-path=\"url(#clip920)\" style=\"stroke:#000000; stroke-linecap:round; stroke-linejoin:round; stroke-width:4; stroke-opacity:1; fill:none\" points=\"\n",
       "  112.177,1486.45 112.177,47.2441 \n",
       "  \"/>\n",
       "<polyline clip-path=\"url(#clip920)\" style=\"stroke:#000000; stroke-linecap:round; stroke-linejoin:round; stroke-width:4; stroke-opacity:1; fill:none\" points=\"\n",
       "  112.177,1445.72 131.075,1445.72 \n",
       "  \"/>\n",
       "<polyline clip-path=\"url(#clip920)\" style=\"stroke:#000000; stroke-linecap:round; stroke-linejoin:round; stroke-width:4; stroke-opacity:1; fill:none\" points=\"\n",
       "  112.177,1106.28 131.075,1106.28 \n",
       "  \"/>\n",
       "<polyline clip-path=\"url(#clip920)\" style=\"stroke:#000000; stroke-linecap:round; stroke-linejoin:round; stroke-width:4; stroke-opacity:1; fill:none\" points=\"\n",
       "  112.177,766.846 131.075,766.846 \n",
       "  \"/>\n",
       "<polyline clip-path=\"url(#clip920)\" style=\"stroke:#000000; stroke-linecap:round; stroke-linejoin:round; stroke-width:4; stroke-opacity:1; fill:none\" points=\"\n",
       "  112.177,427.411 131.075,427.411 \n",
       "  \"/>\n",
       "<polyline clip-path=\"url(#clip920)\" style=\"stroke:#000000; stroke-linecap:round; stroke-linejoin:round; stroke-width:4; stroke-opacity:1; fill:none\" points=\"\n",
       "  112.177,87.9763 131.075,87.9763 \n",
       "  \"/>\n",
       "<path clip-path=\"url(#clip920)\" d=\"M56.2699 1459.06 L63.9087 1459.06 L63.9087 1432.69 L55.5986 1434.36 L55.5986 1430.1 L63.8624 1428.44 L68.5383 1428.44 L68.5383 1459.06 L76.1772 1459.06 L76.1772 1463 L56.2699 1463 L56.2699 1459.06 Z\" fill=\"#000000\" fill-rule=\"evenodd\" fill-opacity=\"1\" /><path clip-path=\"url(#clip920)\" d=\"M59.8578 1119.63 L76.1772 1119.63 L76.1772 1123.56 L54.2328 1123.56 L54.2328 1119.63 Q56.8949 1116.87 61.4782 1112.24 Q66.0846 1107.59 67.2652 1106.25 Q69.5105 1103.72 70.3902 1101.99 Q71.2929 1100.23 71.2929 1098.54 Q71.2929 1095.78 69.3485 1094.05 Q67.4272 1092.31 64.3254 1092.31 Q62.1263 1092.31 59.6726 1093.07 Q57.2421 1093.84 54.4643 1095.39 L54.4643 1090.67 Q57.2884 1089.53 59.7421 1088.95 Q62.1958 1088.38 64.2328 1088.38 Q69.6031 1088.38 72.7976 1091.06 Q75.992 1093.75 75.992 1098.24 Q75.992 1100.37 75.1818 1102.29 Q74.3948 1104.19 72.2883 1106.78 Q71.7096 1107.45 68.6078 1110.67 Q65.5059 1113.86 59.8578 1119.63 Z\" fill=\"#000000\" fill-rule=\"evenodd\" fill-opacity=\"1\" /><path clip-path=\"url(#clip920)\" d=\"M69.0476 765.492 Q72.404 766.209 74.279 768.478 Q76.1772 770.746 76.1772 774.08 Q76.1772 779.195 72.6587 781.996 Q69.1402 784.797 62.6587 784.797 Q60.4828 784.797 58.168 784.357 Q55.8764 783.941 53.4227 783.084 L53.4227 778.57 Q55.3671 779.705 57.6819 780.283 Q59.9967 780.862 62.5198 780.862 Q66.918 780.862 69.2096 779.126 Q71.5244 777.39 71.5244 774.08 Q71.5244 771.024 69.3717 769.311 Q67.242 767.575 63.4226 767.575 L59.3949 767.575 L59.3949 763.733 L63.6078 763.733 Q67.0569 763.733 68.8855 762.367 Q70.7142 760.978 70.7142 758.385 Q70.7142 755.723 68.8161 754.311 Q66.9411 752.876 63.4226 752.876 Q61.5013 752.876 59.3023 753.293 Q57.1032 753.709 54.4643 754.589 L54.4643 750.422 Q57.1264 749.682 59.4412 749.311 Q61.7791 748.941 63.8393 748.941 Q69.1633 748.941 72.2652 751.372 Q75.367 753.779 75.367 757.899 Q75.367 760.77 73.7235 762.76 Q72.08 764.728 69.0476 765.492 Z\" fill=\"#000000\" fill-rule=\"evenodd\" fill-opacity=\"1\" /><path clip-path=\"url(#clip920)\" d=\"M66.5939 414.205 L54.7884 432.654 L66.5939 432.654 L66.5939 414.205 M65.367 410.131 L71.2466 410.131 L71.2466 432.654 L76.1772 432.654 L76.1772 436.543 L71.2466 436.543 L71.2466 444.691 L66.5939 444.691 L66.5939 436.543 L50.9921 436.543 L50.9921 432.029 L65.367 410.131 Z\" fill=\"#000000\" fill-rule=\"evenodd\" fill-opacity=\"1\" /><path clip-path=\"url(#clip920)\" d=\"M55.2745 70.6963 L73.6309 70.6963 L73.6309 74.6314 L59.5569 74.6314 L59.5569 83.1036 Q60.5754 82.7564 61.5939 82.5944 Q62.6124 82.4092 63.6309 82.4092 Q69.418 82.4092 72.7976 85.5805 Q76.1772 88.7517 76.1772 94.1684 Q76.1772 99.747 72.705 102.849 Q69.2328 105.928 62.9134 105.928 Q60.7374 105.928 58.4689 105.557 Q56.2236 105.187 53.8162 104.446 L53.8162 99.747 Q55.8995 100.881 58.1217 101.437 Q60.3439 101.992 62.8208 101.992 Q66.8254 101.992 69.1633 99.8859 Q71.5013 97.7795 71.5013 94.1684 Q71.5013 90.5573 69.1633 88.4508 Q66.8254 86.3443 62.8208 86.3443 Q60.9458 86.3443 59.0708 86.761 Q57.2189 87.1777 55.2745 88.0573 L55.2745 70.6963 Z\" fill=\"#000000\" fill-rule=\"evenodd\" fill-opacity=\"1\" /><polyline clip-path=\"url(#clip922)\" style=\"stroke:#009af9; stroke-linecap:round; stroke-linejoin:round; stroke-width:4; stroke-opacity:1; fill:none\" points=\"\n",
       "  175.59,1445.72 704.028,1106.28 1232.47,766.846 1760.9,427.411 2289.34,87.9763 \n",
       "  \"/>\n",
       "<path clip-path=\"url(#clip920)\" d=\"\n",
       "M186.863 198.898 L463.351 198.898 L463.351 95.2176 L186.863 95.2176  Z\n",
       "  \" fill=\"#ffffff\" fill-rule=\"evenodd\" fill-opacity=\"1\"/>\n",
       "<polyline clip-path=\"url(#clip920)\" style=\"stroke:#000000; stroke-linecap:round; stroke-linejoin:round; stroke-width:4; stroke-opacity:1; fill:none\" points=\"\n",
       "  186.863,198.898 463.351,198.898 463.351,95.2176 186.863,95.2176 186.863,198.898 \n",
       "  \"/>\n",
       "<polyline clip-path=\"url(#clip920)\" style=\"stroke:#009af9; stroke-linecap:round; stroke-linejoin:round; stroke-width:4; stroke-opacity:1; fill:none\" points=\"\n",
       "  211.758,147.058 361.13,147.058 \n",
       "  \"/>\n",
       "<path clip-path=\"url(#clip920)\" d=\"M399.868 166.745 Q398.063 171.375 396.35 172.787 Q394.637 174.199 391.766 174.199 L388.364 174.199 L388.364 170.634 L390.864 170.634 Q392.623 170.634 393.595 169.8 Q394.567 168.967 395.748 165.865 L396.512 163.921 L386.026 138.412 L390.54 138.412 L398.641 158.689 L406.743 138.412 L411.257 138.412 L399.868 166.745 Z\" fill=\"#000000\" fill-rule=\"evenodd\" fill-opacity=\"1\" /><path clip-path=\"url(#clip920)\" d=\"M418.549 160.402 L426.188 160.402 L426.188 134.037 L417.877 135.703 L417.877 131.444 L426.141 129.778 L430.817 129.778 L430.817 160.402 L438.456 160.402 L438.456 164.338 L418.549 164.338 L418.549 160.402 Z\" fill=\"#000000\" fill-rule=\"evenodd\" fill-opacity=\"1\" /></svg>\n"
      ]
     },
     "execution_count": 44,
     "metadata": {},
     "output_type": "execute_result"
    }
   ],
   "source": [
    "err = []\n",
    "for k = 1:5\n",
    "    err = push!(err,k)\n",
    "end\n",
    "err\n",
    "plot(err,err)"
   ]
  },
  {
   "cell_type": "code",
   "execution_count": 12,
   "metadata": {},
   "outputs": [
    {
     "data": {
      "text/plain": [
       "5202"
      ]
     },
     "execution_count": 12,
     "metadata": {},
     "output_type": "execute_result"
    }
   ],
   "source": [
    "f = x -> sin(π*x/2) + 0.5*sin(2π*x)\n",
    "ϕ1 = t -> exp(-π^2*t/4)\n",
    "ϕ0 = t -> 0\n",
    "nx = 50\n",
    "μ = 0.50\n",
    "T = 1\n",
    "u,x,t = BackwardEuler(f,ϕ0,ϕ1,nx,μ,T)\n",
    "nt = length(t) -1"
   ]
  },
  {
   "cell_type": "code",
   "execution_count": null,
   "metadata": {},
   "outputs": [],
   "source": []
  },
  {
   "cell_type": "code",
   "execution_count": 13,
   "metadata": {},
   "outputs": [
    {
     "data": {
      "text/plain": [
       "0.00091223286366926"
      ]
     },
     "execution_count": 13,
     "metadata": {},
     "output_type": "execute_result"
    }
   ],
   "source": [
    "ue = (x,t) -> exp(-π^2*t/4)*sin(π*x/2) + 0.5*exp(-4*π^2*t)*sin(2π*x)\n",
    "xx = x' .* ones(nt+1)\n",
    "tt = ones(nx+2)' .* t\n",
    "error = ue.(xx,tt) - u \n",
    "e1 = maximum(error)"
   ]
  },
  {
   "cell_type": "code",
   "execution_count": 14,
   "metadata": {},
   "outputs": [],
   "source": [
    "u,x,t = CrankNick(f,ϕ0,ϕ1,nx,μ,T);"
   ]
  },
  {
   "cell_type": "code",
   "execution_count": 15,
   "metadata": {},
   "outputs": [
    {
     "data": {
      "text/plain": [
       "0.00022797041432642828"
      ]
     },
     "execution_count": 15,
     "metadata": {},
     "output_type": "execute_result"
    }
   ],
   "source": [
    "error = ue.(xx,tt) - u \n",
    "e1 = maximum(error)"
   ]
  },
  {
   "cell_type": "code",
   "execution_count": 16,
   "metadata": {},
   "outputs": [
    {
     "data": {
      "text/plain": [
       "104"
      ]
     },
     "execution_count": 16,
     "metadata": {},
     "output_type": "execute_result"
    }
   ],
   "source": [
    "μ = 0.50*nx\n",
    "T = 1\n",
    "u,x,t = BackwardEuler(f,ϕ0,ϕ1,nx,μ,T)\n",
    "nt = length(t) -1"
   ]
  },
  {
   "cell_type": "code",
   "execution_count": 17,
   "metadata": {},
   "outputs": [
    {
     "data": {
      "text/plain": [
       "0.029907965385205237"
      ]
     },
     "execution_count": 17,
     "metadata": {},
     "output_type": "execute_result"
    }
   ],
   "source": [
    "xx = x' .* ones(nt+1)\n",
    "tt = ones(nx+2)' .* t\n",
    "error = ue.(xx,tt) - u \n",
    "e1 = maximum(error)"
   ]
  },
  {
   "cell_type": "code",
   "execution_count": 18,
   "metadata": {},
   "outputs": [],
   "source": [
    "u,x,t = CrankNick(f,ϕ0,ϕ1,nx,μ,T);"
   ]
  },
  {
   "cell_type": "code",
   "execution_count": 19,
   "metadata": {},
   "outputs": [
    {
     "data": {
      "text/plain": [
       "0.0019830064463116637"
      ]
     },
     "execution_count": 19,
     "metadata": {},
     "output_type": "execute_result"
    }
   ],
   "source": [
    "error = ue.(xx,tt) - u \n",
    "e1 = maximum(error)"
   ]
  },
  {
   "cell_type": "code",
   "execution_count": null,
   "metadata": {},
   "outputs": [],
   "source": []
  }
 ],
 "metadata": {
  "kernelspec": {
   "display_name": "Julia 1.8.3",
   "language": "julia",
   "name": "julia-1.8"
  },
  "language_info": {
   "file_extension": ".jl",
   "mimetype": "application/julia",
   "name": "julia",
   "version": "1.8.3"
  }
 },
 "nbformat": 4,
 "nbformat_minor": 4
}
