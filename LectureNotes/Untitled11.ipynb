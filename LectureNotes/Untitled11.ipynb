{
 "cells": [
  {
   "cell_type": "markdown",
   "metadata": {},
   "source": [
    "# Julia"
   ]
  },
  {
   "cell_type": "markdown",
   "metadata": {},
   "source": [
    "I assume everybody here is comfortable with either Matlab or Python. It will then take you no time to pick up (basic) Julia as well. A lot of resources can be found at [https://julialang.org/learning/](https://julialang.org/learning/). I particularly recommend\n",
    "\n",
    "* [Introduction to Julia](https://juliaacademy.com/p/intro-to-julia). If you don't like videos very much then jump straight to the [notebooks](https://github.com/JuliaAcademy/JuliaTutorials/tree/master/introductory-tutorials/intro-to-julia).\n",
    "* A more rapid introduction suitable for experience programmers can be found [here](https://learnxinyminutes.com/docs/julia/)\n",
    "\n",
    "But I cannot teach you programming (in whichever langauage) from scratch. \n",
    "* If you have no programming background at all, this module is doable but will be hard. \n",
    "* If you have only minimal background, then please ask questions during lectures, or come to office hours."
   ]
  },
  {
   "cell_type": "markdown",
   "metadata": {},
   "source": [
    "## Some Admin \n",
    "\n",
    "### Jupyter Notebooks\n",
    "\n",
    "This course will be taught via [Jupyter notebooks](https://jupyter.org). These notebooks provide a nice environment mixing web technologies, mathematical text (latex) and code. I will use Julia for this course (The \"Ju\" in Jupyter) but these notebooks can in principle also used with Python (\"Py\"), R, and other languages:  [docs](https://jupyter4edu.github.io/jupyter-edu-book/jupyter.html#language-support-kernels)\"The Jupyter system supports over 100 programming languages (called \"kernels\" in the Jupyter ecosystem) including Python, Java, R, Julia, Matlab, Octave, Scheme, Processing, Scala, and many more. \"\n",
    "\n",
    "* For today's lecture just follow along; I will say a little more about Jupyter, Julia and our eco-system in the next lecture.\n",
    "* You can try to access the Jupyter hub or install Julia/Jupyter/IJulia by yourself until then, following the [`WS01` notebook](WS01-Installing-Julia.ipynb) which can be accessed through the course github website.\n"
   ]
  },
  {
   "cell_type": "markdown",
   "metadata": {},
   "source": [
    "RISE\n",
    "Weave\n"
   ]
  },
  {
   "cell_type": "code",
   "execution_count": null,
   "metadata": {},
   "outputs": [],
   "source": []
  }
 ],
 "metadata": {
  "kernelspec": {
   "display_name": "Julia 1.8.3",
   "language": "julia",
   "name": "julia-1.8"
  },
  "language_info": {
   "file_extension": ".jl",
   "mimetype": "application/julia",
   "name": "julia",
   "version": "1.8.3"
  }
 },
 "nbformat": 4,
 "nbformat_minor": 4
}
