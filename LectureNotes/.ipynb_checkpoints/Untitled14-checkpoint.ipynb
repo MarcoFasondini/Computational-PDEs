{
 "cells": [
  {
   "cell_type": "markdown",
   "metadata": {},
   "source": [
    "# Chapter 3 exercises"
   ]
  },
  {
   "cell_type": "markdown",
   "metadata": {},
   "source": [
    "Exercises \n",
    "\n",
    "1. The idea of different bases and the conditioning of different bases.  Plot the growth of the condition number of different bases\n",
    "2. Prove that the Vandermonde matrix is invertible if the points are distinct and give a hint\n",
    "3. Compute the first few Chebyshev polynomials by hand\n",
    "4. Prove that the Chebyshev points are the extrema of $T_{n+2}$\n",
    "5. Compute the Chebyshev coefficients of some functions by hand\n",
    "6. Derive the the L'Hospital formulae for differentiation at the endpoints?\n",
    "7. Show that "
   ]
  },
  {
   "cell_type": "code",
   "execution_count": null,
   "metadata": {},
   "outputs": [],
   "source": []
  }
 ],
 "metadata": {
  "kernelspec": {
   "display_name": "Julia 1.8.3",
   "language": "julia",
   "name": "julia-1.8"
  },
  "language_info": {
   "file_extension": ".jl",
   "mimetype": "application/julia",
   "name": "julia",
   "version": "1.8.3"
  }
 },
 "nbformat": 4,
 "nbformat_minor": 4
}
