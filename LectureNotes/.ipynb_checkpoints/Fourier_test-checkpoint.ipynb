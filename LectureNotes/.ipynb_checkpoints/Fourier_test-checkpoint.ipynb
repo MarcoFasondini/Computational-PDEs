{
 "cells": [
  {
   "cell_type": "markdown",
   "metadata": {},
   "source": [
    "# Fourier methods for periodic functions"
   ]
  },
  {
   "cell_type": "markdown",
   "metadata": {},
   "source": [
    "We assume that $f$ is $2\\pi$-periodic and its Fourier series converges on $x \\in [0, 2\\pi)$, i.e.,\n",
    "$$\n",
    "f(x) = \\sum_{k=-\\infty}^{\\infty} c_k \\mathrm{e}^{\\mathrm{i} k x}\n",
    "$$\n",
    "where the Fourier coeffients are defined as\n",
    "$$\n",
    "%c_k = \\frac{1}{2\\pi}\\int_{-\\pi}^{\\pi} f(x) \\mathrm{e}^{-\\mathrm{i}k x} \\mathrm{d} x.\n",
    "c_k = \\frac{1}{2\\pi}\\int_{0}^{2\\pi} f(x) \\mathrm{e}^{-\\mathrm{i}k x} \\mathrm{d} x.\n",
    "$$\n",
    "Suppose we only know the values of $f(x)$ at the $n$ equally spaced points $x_{j} = jh = \\frac{2\\pi j}{n}$ for $j = 0, \\ldots, n-1$, can we somehow use Fourier series to approximate $f$ and its derivatives?\n",
    "\n",
    "The idea is to use a truncated Fourier series and approximate Fourier coefficients $\\widetilde{c}_k$ to approximate $f$ with\n",
    "$$\n",
    "f(x) \\approx \\sum_{k=-(n-1)/2}^{(n-1)/2} \\widetilde{c}_k \\mathrm{e}^{\\mathrm{i} k x},\n",
    "$$\n",
    "assuming $n$ is odd."
   ]
  },
  {
   "cell_type": "code",
   "execution_count": null,
   "metadata": {},
   "outputs": [],
   "source": []
  }
 ],
 "metadata": {
  "kernelspec": {
   "display_name": "Julia 1.8.3",
   "language": "julia",
   "name": "julia-1.8"
  },
  "language_info": {
   "file_extension": ".jl",
   "mimetype": "application/julia",
   "name": "julia",
   "version": "1.8.3"
  }
 },
 "nbformat": 4,
 "nbformat_minor": 4
}
