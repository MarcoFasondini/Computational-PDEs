{
 "cells": [
  {
   "cell_type": "markdown",
   "metadata": {},
   "source": [
    "## Exercises\n",
    "\n",
    "1. \n",
    "\n",
    "1. Numerical experiment on the accuracy of the trapezoidal method\n",
    "2. **(Uniqueness of trigonometric interpolants)** Prove uniqueness of trigonometric interpolants\n",
    "3. Experiment with PDE code\n",
    "4. Derive formula of periodic delta function\n",
    "5. Derive entries of the differentiation matrix\n",
    "6. An exercise on automatic differentiation. Explain the background: we've been approximating derivatives by using interpolants, there's another way: dual numbers, mention automatic differentiation as an aside\n",
    "7. The entries of the differentiation matrix\n",
    "8. Uniqueness of trigonometric interpolants, show that the value space and coefficient space interpolants are the same\n",
    "9. Prove the following: $p_n(x) = \\sum \\tilde{c}_k {\\rm e}^{{\\rm i}kx} = \\sum$\n",
    "10. Ask a question about the exact solution to the variable coefficient PDE\n",
    "11. Using the fact that ${\\rm e}^{{\\rm i}kx} = $, give the Fourier coefficients of ....\n",
    "12. In the notes, we look at decay of coefficients, do numerical experiment on the accuracy of the interpolant\n",
    "13. Test the upper bounds on the coefficients\n",
    "14. Questions on the parity of $f$ and properties of the Fourier coefficients and its relevance to the numerical experiments\n",
    "15. Use least squares to find the rate of decay of the coefficients\n",
    "16. As questions about the numerial results on the decay of the coefficients\n",
    "17. Here or in the next chapter, talk about changing the interval on which the equation is considered, this might be nice when comparing Chebyshev and Fourier, for example\n",
    "19. Prove that trigonometric interpolants are exact for trigonometric functions\n",
    "\n",
    "See Sheehan's problem sheets\n",
    "Matlab code\n",
    "the case of even $n$\n",
    "Here we have learnt the approximation technology that Chebfun and ApproxFun use for periodic functions, comment on this...\n"
   ]
  },
  {
   "cell_type": "code",
   "execution_count": null,
   "metadata": {},
   "outputs": [],
   "source": []
  },
  {
   "cell_type": "code",
   "execution_count": null,
   "metadata": {},
   "outputs": [],
   "source": []
  }
 ],
 "metadata": {
  "kernelspec": {
   "display_name": "Julia 1.8.3",
   "language": "julia",
   "name": "julia-1.8"
  },
  "language_info": {
   "file_extension": ".jl",
   "mimetype": "application/julia",
   "name": "julia",
   "version": "1.8.3"
  }
 },
 "nbformat": 4,
 "nbformat_minor": 4
}
