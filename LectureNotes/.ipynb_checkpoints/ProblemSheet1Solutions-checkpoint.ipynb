{
 "cells": [
  {
   "cell_type": "markdown",
   "metadata": {},
   "source": [
    "# Problem Sheet 1 Solutions"
   ]
  },
  {
   "cell_type": "markdown",
   "metadata": {},
   "source": [
    "1. **[5 marks]** What are the Fourier coefficients $c_k$ of $\\sin^4 x$?"
   ]
  },
  {
   "cell_type": "markdown",
   "metadata": {},
   "source": [
    "$$\n",
    "\\begin{eqnarray*}\n",
    "(\\sin x)^4 &=& \\left({\\exp({\\rm i} x) - \\exp(-{\\rm i} x) \\over 2 {\\rm i}}\\right)^4 \\\\\n",
    "&=& \\left({\\exp(2{\\rm i} x) -2 + \\exp(-2{\\rm i} x) \\over -4}\\right)^2 \\\\\n",
    "&=& {\\exp(4{\\rm i} x) -4\\exp(2{\\rm i} x) +6 -4 \\exp(-2{\\rm i} x)+\\exp(-4{\\rm i} x) \\over 16}\n",
    "\\end{eqnarray*}\n",
    "$$\n",
    "hence, $c_{-4} = c_{4} = 1/16$, $c_{-2} = c_2 = -1/4$, $c_0 = 3/8$ and $c_k = 0$ otherwise."
   ]
  },
  {
   "cell_type": "markdown",
   "metadata": {},
   "source": [
    "2. **[5 marks]** Show for $0 \\leq k,\\ell \\leq n-1$\n",
    "$$\n",
    "{1 \\over n} \\sum_{j=1}^n \\cos k \\theta_j \\cos \\ell \\theta_j = \\begin{cases} 1 & k = \\ell = 0 \\\\\n",
    "                                                  1/2 & k = \\ell \\\\\n",
    "                                                  0 & \\hbox{otherwise}\n",
    "                                                  \\end{cases}\n",
    "$$\n",
    "   for $\\theta_j = \\pi (j-1/2)/n$. Hint: \n",
    "   You may consider replacing $\\cos$ with \n",
    "   complex exponentials:\n",
    "$$\n",
    "\\cos \\theta = {{\\rm e}^{{\\rm i}\\theta} + {\\rm e}^{-{\\rm i}\\theta} \\over 2}.\n",
    "$$\n",
    "\n",
    "\n",
    "We have,\n",
    "\n",
    "$$\n",
    "\\begin{align*}\n",
    "\\frac{1}{n}\\sum_{j=1}^n \\cos(k\\theta_j)\\cos(l\\theta_j) &= \\frac{1}{4n}\\sum_{j=1}^n\\left( e^{i(k+l)\\theta_j} + e^{-i(k+l)\\theta_j} + e^{i(k-l)\\theta_j} + e^{-i(k-l)\\theta_j}\\right) \\\\\n",
    "&=\t\\frac{1}{4n}\\sum_{j=1}^n \\left( e^{ia_{kl}\\theta_j} + e^{-ia_{kl}\\theta_j} + e^{ib_{kl}\\theta_j} + e^{-ib_{kl}\\theta_j}\\right),\n",
    "\\end{align*}\n",
    "$$\n",
    "where we have defined $a_{kl} = k+l$ and $b_{kl} = k-l$. Now consider, for $a \\in \\mathbb{Z}$, a $\\neq 2kn$ for some $k \\in \\mathbb{Z}$,\n",
    "$$\n",
    "\\begin{align*}\n",
    "\t\\sum_{j=1}^n e^{ia\\theta_j} &=\\sum_{j=1}^n e^{ia\\pi(j-\\frac{1}{2})/n} \\\\\n",
    "\t&=e^{-ia\\pi/2n}\\sum_{j=1}^n e^{iaj\\pi/n} \\\\\n",
    "\t&=e^{-ia\\pi/2n}\\sum_{j=1}^n (e^{ia\\pi/n})^j \\\\\n",
    "\t&=e^{-ia\\pi/2n} e^{ia\\pi/n}\\frac{(e^{ia\\pi /n})^n - 1}{e^{ia\\pi/n} - 1} \\\\\n",
    "\t&= e^{ia\\pi/2n} \\frac{e^{ia\\pi} - 1 }{e^{ia\\pi / n} - 1},\n",
    "\\end{align*}\n",
    "$$\n",
    "where our assumptions on $a$ ensure that we are not dividing by $0$. Then we have, for $a$ as above,\n",
    "$$\n",
    "\\begin{align*}\n",
    "\t\\sum_{j=1}^n \\left(e^{ia\\theta_j} + e^{-ia\\theta_j}\\right) &= e^{ia\\pi/2n} \\frac{e^{ia\\pi} - 1 }{e^{ia\\pi / n} - 1} + e^{-ia\\pi/2n} \\frac{e^{-ia\\pi} - 1 }{e^{-ia\\pi / n} - 1} \\\\\n",
    "\t&= e^{ia\\pi/2n} \\frac{e^{ia\\pi} - 1 }{e^{ia\\pi / n} - 1} + e^{-ia\\pi/2n} \\cdot\\frac{e^{ia\\pi/n}}{e^{ia\\pi/n}}\\cdot \\frac{e^{-ia\\pi} - 1 }{e^{-ia\\pi / n} - 1} \\\\\n",
    "\t&= e^{ia\\pi/2n} \\frac{e^{ia\\pi} - 1 }{e^{ia\\pi / n} - 1} + e^{ia\\pi/2n}\\frac{e^{-ia\\pi} - 1}{1 - e^{ia\\pi/n}} \\\\\n",
    "\t&=e^{ia\\pi/2n} \\frac{e^{ia\\pi} - 1 }{e^{ia\\pi / n} - 1} - e^{ia\\pi/2n}\\frac{e^{-ia\\pi} - 1}{e^{ia\\pi/n} - 1} \\\\\n",
    "\t&= \\frac{e^{ia\\pi/2n}}{e^{ia\\pi/n-1}}\\left(e^{ia\\pi} - 1 - e^{-ia\\pi} + 1 \\right) \\\\\n",
    "\t&= \\frac{e^{ia\\pi/2n}}{e^{ia\\pi/n-1}}\\frac{1}{2i}\\sin(a\\pi),\n",
    "\\end{align*}\n",
    "$$\n",
    "which is $0$ for $a$ an integer.\n",
    "\n",
    "Now, when $k = l = 0$, we have $a_{kl} = b_{kl} = 0$, and,\n",
    "$$\n",
    "\\frac{1}{n}\\sum_{j=1}^n \\cos(k\\theta_j)\\cos(l\\theta_j) = \\frac{1}{4n}\\sum_{j=1}^n (1 + 1 + 1 + 1) = 1.\n",
    "$$\n",
    "When $k = l \\neq 0$, we have $0 < a_{kl} = 2k < 2n$, and $b_{kl} = 0$. Hence,\n",
    "$$\n",
    "\\begin{align*}\n",
    "\t\\frac{1}{n}\\sum_{j=1}^n \\cos(k\\theta_j)\\cos(l\\theta_j) &= \\frac{1}{4n}\\sum_{j=1}^n (e^{ia_{kl}\\theta_j} + e^{-ia_{kl}\\theta_j} + 1 + 1) \\\\\n",
    "\t&= \\frac{1}{4n}\\left[ \\sum_{j=1}^n\\left( e^{ia_{kl}\\theta_j} + e^{-ia_{kl}\\theta_j}\\right) +2n\\right] \\\\\n",
    "\t&= \\frac{1}{2},\n",
    "\\end{align*}\n",
    "$$\n",
    "since $a_{kl}$ meets the conditions for the sum considered above.\n",
    "\n",
    "When $k \\neq l$, we have, $-2n < a_{kl}, b_{kl} <  2n$ and $a_{kl}, b_{kl} \\neq 0$, hence,\n",
    "$$\n",
    "\\begin{align*}\n",
    "\t\\frac{1}{n}\\sum_{j=1}^n \\cos(k\\theta_j)\\cos(l\\theta_j) &= \\frac{1}{4n}\\sum_{j=1}^n (e^{ia_{kl}\\theta_j} + e^{-ia_{kl}\\theta_j} + e^{ib_{kl}\\theta_j} + e^{-ib_{kl}\\theta_j}) \\\\\n",
    "\t&= \\frac{1}{4n} \\left[\\sum_{j=1}^n (e^{ia_{kl}\\theta_j} + e^{-ia_{kl}\\theta_j})  + \\sum_{j=1}^n (e^{ib_{kl}\\theta_j} + e^{-ib_{kl}\\theta_j} )\\right] \\\\\n",
    "\t&= 0.\n",
    "\\end{align*}\n",
    "$$\n",
    "\n"
   ]
  },
  {
   "cell_type": "markdown",
   "metadata": {},
   "source": [
    "3. **[5 marks]** Consider the Discrete Cosine Transform (DCT)\n",
    "$$\n",
    "C_n := \\begin{bmatrix}\n",
    "\\sqrt{1/n} \\\\\n",
    " & \\sqrt{2/n} \\\\ \n",
    " && \\ddots \\\\\n",
    " &&& \\sqrt{2/n}\n",
    " \\end{bmatrix}\n",
    "\\begin{bmatrix}\n",
    "    1 & \\cdots & 1\\\\\n",
    "    \\cos \\theta_1 & \\cdots & \\cos \\theta_n \\\\\n",
    "    \\vdots & \\ddots & \\vdots \\\\\n",
    "    \\cos (n-1)\\theta_1 & \\cdots & \\cos (n-1)\\theta_n\n",
    "\\end{bmatrix}\n",
    "$$\n",
    "for $\\theta_j = \\pi(j-1/2)/n$. Prove that $C_n$ is orthogonal: $C_n^{\\top} C_n = C_n C_n^{\\top} = I$.\n",
    "Hint: $C_n C_n^{\\top} = I$ might be easier to show than $C_n^{\\top} C_n = I$ using the previous problem.\n",
    "\n",
    "\n",
    "The components of $C$ without the diagonal matrix, which we may call $\\hat{C}$ are\n",
    "$$\n",
    "\\hat{C}_{ij} = \\cos((j-1)θ_{i-1}),\n",
    "$$\n",
    "where $θ_j = π(j-1/2)/n$. Recalling that the elements of matrix multiplication are given by\n",
    "$$\n",
    "(ab)_{ij} := \\sum_{k=1}^n a_{ik} b_{kj}\n",
    "$$\n",
    "we find that\n",
    "$$\n",
    "(\\hat{C}_n \\hat{C}_n^⊤)_{ij} = \\sum_{k=1}^n \\cos((i-1)θ_{k-1}) \\cos((k-1)θ_{j-1}).\n",
    "$$\n",
    "\n",
    "By using the previous problem and the terms on the diagonal matrices which ensure that the $1/2$ terms become $1$ we know how to compute all of these entries and find that it is the identity.\n",
    "\n",
    "Here is a computer-based demonstration:"
   ]
  },
  {
   "cell_type": "code",
   "execution_count": 49,
   "metadata": {},
   "outputs": [
    {
     "data": {
      "text/plain": [
       "5×5 Matrix{Float64}:\n",
       "  1.0          -4.85266e-18  -2.82901e-17   1.68455e-17   3.95658e-17\n",
       " -4.85266e-18   1.0           4.68569e-17  -6.18283e-17   4.0019e-17\n",
       " -2.82901e-17   4.68569e-17   1.0           6.05122e-18  -1.76076e-16\n",
       "  1.68455e-17  -6.18283e-17   6.05122e-18   1.0           1.03351e-16\n",
       "  3.95658e-17   4.0019e-17   -1.76076e-16   1.03351e-16   1.0"
      ]
     },
     "execution_count": 49,
     "metadata": {},
     "output_type": "execute_result"
    }
   ],
   "source": [
    "using LinearAlgebra, Plots, FFTW\n",
    "n = 5\n",
    "θ = range(π/(2n); step=π/n, length=n) # n evenly spaced points starting at π/(2n) with step size π/n\n",
    "C = Diagonal([1/sqrt(n); fill(sqrt(2/n), n-1)]) * [cos((k-1)*θ[j]) for k=1:n, j=1:n]\n",
    "C'C"
   ]
  },
  {
   "cell_type": "markdown",
   "metadata": {},
   "source": [
    "4. **[10 marks]**  Consider the variable-coefficient advection equation\n",
    "$$\n",
    "   u_t + c(x)u_x = 0, \\qquad c(x) = \\frac{1}{5} + \\sin^2(x-1), \\qquad x \\in [0, 2\\pi), \\qquad t \\in [0, T],\n",
    "$$\n",
    "   with $u(x,0) = f(x) = {\\rm e}^{-100(x-1)^2}$, which we approximate with the leapfrog method\n",
    "$$\n",
    "\\mathbf{u}^{i+1} = \\mathbf{u}^{i-1} - 2\\tau \\mathcal{F}^{-1}\\left\\lbrace {\\rm i}(-m\\!:\\!m)\\cdot\\mathcal{F}\\lbrace \\mathbf{u}^{i} \\rbrace\\right\\rbrace, \\qquad i = 0, \\ldots, n_t-1.\n",
    "$$\n",
    "   Note that one needs $\\mathbf{u}^{-1}$ to initialise the leapfrog method.  Let the entries of $\\mathbf{u}^{-1}$ be $u^{-1}_j = f(x_j + \\tau/5)$, $j = 0, \\ldots, n_x-1$.  The exact solution is periodic in time, i.e.,\n",
    "$$\n",
    "   u(x,t+T) = u(x,t)\n",
    "$$\n",
    "   where\n",
    "$$\n",
    "   T = \\int_{0}^{2\\pi}\\frac{1}{c(x)}{\\rm d}x = 12.8254983016186\\ldots\n",
    "$$\n",
    "   Compute $T$ using the Trapezoidal rule and confirm that you get the value stated above.  Then compute\n",
    "$$\n",
    "   e(n_x) = \\max_{j = 0, \\ldots, n_x-1} \\vert u^{0}_j - u^{n_t}_{j} \\vert\n",
    "$$\n",
    "where $n_t = 8n_x$ and $\\tau n_t = T$  and plot $e(n_x)$ for $n_x = 2^k + 1$, with $k = 5, 6, \\ldots, 10$.  Comment on the behaviour of $e(n_x)$."
   ]
  },
  {
   "cell_type": "markdown",
   "metadata": {},
   "source": [
    "As discussed in the notes, the trapezoidal rule approximation to an integral is\n",
    "$$\n",
    "\\int_{a}^{b} g(x)\\,{\\rm d}x \\approx \\frac{h}{2}\\left(g(x_0) + 2g(x_1) + 2g(x_2) + \\cdots + 2g(x_{n-1}) + g(x_{n})    \\right).\n",
    "$$\n",
    "To compute $T$, we set $a = 0$, $b = 2\\pi$ and $g(x) = 1/c(x)$ and note that since $c(x)$ is $2\\pi$-periodic, $g(x_0) = g(x_n)$, hence\n",
    "$$\n",
    "\\int_0^{2\\pi}\\frac{1}{c(x)}\\,{\\rm d}x \\approx \\frac{2\\pi}{n}\\sum_{j=0}^{n-1}\\frac{1}{c(x_j)}\n",
    "$$"
   ]
  },
  {
   "cell_type": "code",
   "execution_count": 51,
   "metadata": {},
   "outputs": [
    {
     "data": {
      "text/plain": [
       "12.825498301618637"
      ]
     },
     "execution_count": 51,
     "metadata": {},
     "output_type": "execute_result"
    }
   ],
   "source": [
    "c = x -> 0.2 + sin(x - 1)^2\n",
    "n = 80\n",
    "xx = range(0,2π;length=n+1)[1:end-1]\n",
    "T = 2π/n*sum(1 ./c.(xx))"
   ]
  },
  {
   "cell_type": "code",
   "execution_count": 67,
   "metadata": {},
   "outputs": [
    {
     "name": "stdout",
     "output_type": "stream",
     "text": [
      "  0.133264 seconds (187.07 k allocations: 10.773 MiB, 69.57% compilation time)\n",
      "  0.105935 seconds (37.98 k allocations: 6.903 MiB)\n",
      "  0.149982 seconds (76.38 k allocations: 22.613 MiB)\n",
      "  0.884505 seconds (153.18 k allocations: 79.952 MiB, 21.62% gc time)\n",
      "  1.573836 seconds (306.78 k allocations: 295.874 MiB, 3.46% gc time)\n",
      "  4.088102 seconds (671.38 k allocations: 1.105 GiB, 2.62% gc time)\n"
     ]
    }
   ],
   "source": [
    "c = x -> 0.2 + sin(x - 1)^2\n",
    "f = x -> exp(-100*(x-1)^2)\n",
    "nxv = 2 .^(5:10) .+ 1\n",
    "maxerr = []\n",
    "for nₓ = nxv \n",
    "    m = (nₓ-1)÷2\n",
    "    h = 2π/nₓ\n",
    "    x = h*(0:nₓ-1)\n",
    "    tv = range(0,T;length=8nₓ+1)\n",
    "    τ = tv[2]-tv[1]\n",
    "    u = f.(x)\n",
    "    uold = f.(x .+ 0.2τ)\n",
    "    @time begin\n",
    "    for n = 1:8nₓ\n",
    "        unew = real.(uold - 2τ*c.(x).*ifft(ifftshift(im*(-m:m)).*fft(u)))\n",
    "        uold = u\n",
    "        u = unew\n",
    "    end\n",
    "    end\n",
    "    global maxerr\n",
    "    maxerr = [maxerr;norm(u-f.(x),Inf)]\n",
    "end"
   ]
  },
  {
   "cell_type": "code",
   "execution_count": 68,
   "metadata": {},
   "outputs": [
    {
     "data": {
      "image/svg+xml": [
       "<?xml version=\"1.0\" encoding=\"utf-8\"?>\n",
       "<svg xmlns=\"http://www.w3.org/2000/svg\" xmlns:xlink=\"http://www.w3.org/1999/xlink\" width=\"600\" height=\"400\" viewBox=\"0 0 2400 1600\">\n",
       "<defs>\n",
       "  <clipPath id=\"clip520\">\n",
       "    <rect x=\"0\" y=\"0\" width=\"2400\" height=\"1600\"/>\n",
       "  </clipPath>\n",
       "</defs>\n",
       "<path clip-path=\"url(#clip520)\" d=\"\n",
       "M0 1600 L2400 1600 L2400 0 L0 0  Z\n",
       "  \" fill=\"#ffffff\" fill-rule=\"evenodd\" fill-opacity=\"1\"/>\n",
       "<defs>\n",
       "  <clipPath id=\"clip521\">\n",
       "    <rect x=\"480\" y=\"0\" width=\"1681\" height=\"1600\"/>\n",
       "  </clipPath>\n",
       "</defs>\n",
       "<path clip-path=\"url(#clip520)\" d=\"\n",
       "M251.842 1410.9 L2352.76 1410.9 L2352.76 47.2441 L251.842 47.2441  Z\n",
       "  \" fill=\"#ffffff\" fill-rule=\"evenodd\" fill-opacity=\"1\"/>\n",
       "<defs>\n",
       "  <clipPath id=\"clip522\">\n",
       "    <rect x=\"251\" y=\"47\" width=\"2102\" height=\"1365\"/>\n",
       "  </clipPath>\n",
       "</defs>\n",
       "<polyline clip-path=\"url(#clip522)\" style=\"stroke:#000000; stroke-linecap:round; stroke-linejoin:round; stroke-width:2; stroke-opacity:0.1; fill:none\" points=\"\n",
       "  950.825,1410.9 950.825,47.2441 \n",
       "  \"/>\n",
       "<polyline clip-path=\"url(#clip522)\" style=\"stroke:#000000; stroke-linecap:round; stroke-linejoin:round; stroke-width:2; stroke-opacity:0.1; fill:none\" points=\"\n",
       "  2279.05,1410.9 2279.05,47.2441 \n",
       "  \"/>\n",
       "<polyline clip-path=\"url(#clip520)\" style=\"stroke:#000000; stroke-linecap:round; stroke-linejoin:round; stroke-width:4; stroke-opacity:1; fill:none\" points=\"\n",
       "  251.842,1410.9 2352.76,1410.9 \n",
       "  \"/>\n",
       "<polyline clip-path=\"url(#clip520)\" style=\"stroke:#000000; stroke-linecap:round; stroke-linejoin:round; stroke-width:4; stroke-opacity:1; fill:none\" points=\"\n",
       "  950.825,1410.9 950.825,1392 \n",
       "  \"/>\n",
       "<polyline clip-path=\"url(#clip520)\" style=\"stroke:#000000; stroke-linecap:round; stroke-linejoin:round; stroke-width:4; stroke-opacity:1; fill:none\" points=\"\n",
       "  2279.05,1410.9 2279.05,1392 \n",
       "  \"/>\n",
       "<path clip-path=\"url(#clip520)\" d=\"M916.598 1485.02 L924.237 1485.02 L924.237 1458.66 L915.927 1460.32 L915.927 1456.06 L924.19 1454.4 L928.866 1454.4 L928.866 1485.02 L936.505 1485.02 L936.505 1488.96 L916.598 1488.96 L916.598 1485.02 Z\" fill=\"#000000\" fill-rule=\"evenodd\" fill-opacity=\"1\" /><path clip-path=\"url(#clip520)\" d=\"M955.949 1457.48 Q952.338 1457.48 950.51 1461.04 Q948.704 1464.58 948.704 1471.71 Q948.704 1478.82 950.51 1482.38 Q952.338 1485.92 955.949 1485.92 Q959.584 1485.92 961.389 1482.38 Q963.218 1478.82 963.218 1471.71 Q963.218 1464.58 961.389 1461.04 Q959.584 1457.48 955.949 1457.48 M955.949 1453.77 Q961.76 1453.77 964.815 1458.38 Q967.894 1462.96 967.894 1471.71 Q967.894 1480.44 964.815 1485.04 Q961.76 1489.63 955.949 1489.63 Q950.139 1489.63 947.061 1485.04 Q944.005 1480.44 944.005 1471.71 Q944.005 1462.96 947.061 1458.38 Q950.139 1453.77 955.949 1453.77 Z\" fill=\"#000000\" fill-rule=\"evenodd\" fill-opacity=\"1\" /><path clip-path=\"url(#clip520)\" d=\"M972.464 1458.35 L985.724 1458.35 L985.724 1461.55 L967.894 1461.55 L967.894 1458.35 Q970.057 1456.11 973.781 1452.35 Q977.523 1448.57 978.483 1447.48 Q980.307 1445.43 981.022 1444.02 Q981.755 1442.59 981.755 1441.22 Q981.755 1438.98 980.175 1437.57 Q978.614 1436.16 976.094 1436.16 Q974.307 1436.16 972.314 1436.78 Q970.339 1437.4 968.082 1438.66 L968.082 1434.82 Q970.376 1433.9 972.37 1433.43 Q974.364 1432.96 976.019 1432.96 Q980.382 1432.96 982.978 1435.14 Q985.573 1437.32 985.573 1440.97 Q985.573 1442.7 984.915 1444.26 Q984.275 1445.8 982.564 1447.91 Q982.094 1448.46 979.573 1451.07 Q977.053 1453.67 972.464 1458.35 Z\" fill=\"#000000\" fill-rule=\"evenodd\" fill-opacity=\"1\" /><path clip-path=\"url(#clip520)\" d=\"M2244.5 1485.02 L2252.13 1485.02 L2252.13 1458.66 L2243.82 1460.32 L2243.82 1456.06 L2252.09 1454.4 L2256.76 1454.4 L2256.76 1485.02 L2264.4 1485.02 L2264.4 1488.96 L2244.5 1488.96 L2244.5 1485.02 Z\" fill=\"#000000\" fill-rule=\"evenodd\" fill-opacity=\"1\" /><path clip-path=\"url(#clip520)\" d=\"M2283.85 1457.48 Q2280.24 1457.48 2278.41 1461.04 Q2276.6 1464.58 2276.6 1471.71 Q2276.6 1478.82 2278.41 1482.38 Q2280.24 1485.92 2283.85 1485.92 Q2287.48 1485.92 2289.29 1482.38 Q2291.12 1478.82 2291.12 1471.71 Q2291.12 1464.58 2289.29 1461.04 Q2287.48 1457.48 2283.85 1457.48 M2283.85 1453.77 Q2289.66 1453.77 2292.71 1458.38 Q2295.79 1462.96 2295.79 1471.71 Q2295.79 1480.44 2292.71 1485.04 Q2289.66 1489.63 2283.85 1489.63 Q2278.04 1489.63 2274.96 1485.04 Q2271.9 1480.44 2271.9 1471.71 Q2271.9 1462.96 2274.96 1458.38 Q2278.04 1453.77 2283.85 1453.77 Z\" fill=\"#000000\" fill-rule=\"evenodd\" fill-opacity=\"1\" /><path clip-path=\"url(#clip520)\" d=\"M2308.49 1446.41 Q2311.21 1446.99 2312.74 1448.83 Q2314.28 1450.68 2314.28 1453.38 Q2314.28 1457.54 2311.42 1459.82 Q2308.56 1462.09 2303.3 1462.09 Q2301.53 1462.09 2299.65 1461.73 Q2297.79 1461.4 2295.79 1460.7 L2295.79 1457.03 Q2297.37 1457.95 2299.25 1458.42 Q2301.13 1458.89 2303.18 1458.89 Q2306.76 1458.89 2308.62 1457.48 Q2310.5 1456.07 2310.5 1453.38 Q2310.5 1450.9 2308.75 1449.51 Q2307.02 1448.1 2303.92 1448.1 L2300.64 1448.1 L2300.64 1444.98 L2304.07 1444.98 Q2306.87 1444.98 2308.36 1443.87 Q2309.84 1442.74 2309.84 1440.63 Q2309.84 1438.47 2308.3 1437.32 Q2306.78 1436.16 2303.92 1436.16 Q2302.36 1436.16 2300.57 1436.49 Q2298.78 1436.83 2296.64 1437.55 L2296.64 1434.16 Q2298.8 1433.56 2300.68 1433.26 Q2302.58 1432.96 2304.26 1432.96 Q2308.58 1432.96 2311.1 1434.93 Q2313.62 1436.89 2313.62 1440.24 Q2313.62 1442.57 2312.29 1444.19 Q2310.95 1445.79 2308.49 1446.41 Z\" fill=\"#000000\" fill-rule=\"evenodd\" fill-opacity=\"1\" /><path clip-path=\"url(#clip520)\" d=\"M1301.71 1552.67 L1301.71 1574.19 L1295.85 1574.19 L1295.85 1552.86 Q1295.85 1547.8 1293.88 1545.29 Q1291.91 1542.77 1287.96 1542.77 Q1283.22 1542.77 1280.48 1545.79 Q1277.74 1548.82 1277.74 1554.04 L1277.74 1574.19 L1271.86 1574.19 L1271.86 1538.54 L1277.74 1538.54 L1277.74 1544.08 Q1279.84 1540.86 1282.68 1539.27 Q1285.54 1537.68 1289.27 1537.68 Q1295.41 1537.68 1298.56 1541.5 Q1301.71 1545.29 1301.71 1552.67 Z\" fill=\"#000000\" fill-rule=\"evenodd\" fill-opacity=\"1\" /><path clip-path=\"url(#clip520)\" d=\"M1332.33 1554.23 L1324.21 1563.94 L1332.74 1574.19 L1328.38 1574.19 L1321.86 1566.36 L1315.33 1574.19 L1310.97 1574.19 L1319.69 1563.75 L1311.7 1554.23 L1316.06 1554.23 L1322.02 1561.33 L1327.97 1554.23 L1332.33 1554.23 Z\" fill=\"#000000\" fill-rule=\"evenodd\" fill-opacity=\"1\" /><polyline clip-path=\"url(#clip522)\" style=\"stroke:#000000; stroke-linecap:round; stroke-linejoin:round; stroke-width:2; stroke-opacity:0.1; fill:none\" points=\"\n",
       "  251.842,1061.5 2352.76,1061.5 \n",
       "  \"/>\n",
       "<polyline clip-path=\"url(#clip522)\" style=\"stroke:#000000; stroke-linecap:round; stroke-linejoin:round; stroke-width:2; stroke-opacity:0.1; fill:none\" points=\"\n",
       "  251.842,668.568 2352.76,668.568 \n",
       "  \"/>\n",
       "<polyline clip-path=\"url(#clip522)\" style=\"stroke:#000000; stroke-linecap:round; stroke-linejoin:round; stroke-width:2; stroke-opacity:0.1; fill:none\" points=\"\n",
       "  251.842,275.64 2352.76,275.64 \n",
       "  \"/>\n",
       "<polyline clip-path=\"url(#clip520)\" style=\"stroke:#000000; stroke-linecap:round; stroke-linejoin:round; stroke-width:4; stroke-opacity:1; fill:none\" points=\"\n",
       "  251.842,1410.9 251.842,47.2441 \n",
       "  \"/>\n",
       "<polyline clip-path=\"url(#clip520)\" style=\"stroke:#000000; stroke-linecap:round; stroke-linejoin:round; stroke-width:4; stroke-opacity:1; fill:none\" points=\"\n",
       "  251.842,1061.5 270.74,1061.5 \n",
       "  \"/>\n",
       "<polyline clip-path=\"url(#clip520)\" style=\"stroke:#000000; stroke-linecap:round; stroke-linejoin:round; stroke-width:4; stroke-opacity:1; fill:none\" points=\"\n",
       "  251.842,668.568 270.74,668.568 \n",
       "  \"/>\n",
       "<polyline clip-path=\"url(#clip520)\" style=\"stroke:#000000; stroke-linecap:round; stroke-linejoin:round; stroke-width:4; stroke-opacity:1; fill:none\" points=\"\n",
       "  251.842,275.64 270.74,275.64 \n",
       "  \"/>\n",
       "<path clip-path=\"url(#clip520)\" d=\"M114.931 1081.29 L122.57 1081.29 L122.57 1054.92 L114.26 1056.59 L114.26 1052.33 L122.524 1050.66 L127.2 1050.66 L127.2 1081.29 L134.839 1081.29 L134.839 1085.22 L114.931 1085.22 L114.931 1081.29 Z\" fill=\"#000000\" fill-rule=\"evenodd\" fill-opacity=\"1\" /><path clip-path=\"url(#clip520)\" d=\"M154.283 1053.74 Q150.672 1053.74 148.843 1057.31 Q147.038 1060.85 147.038 1067.98 Q147.038 1075.09 148.843 1078.65 Q150.672 1082.19 154.283 1082.19 Q157.917 1082.19 159.723 1078.65 Q161.552 1075.09 161.552 1067.98 Q161.552 1060.85 159.723 1057.31 Q157.917 1053.74 154.283 1053.74 M154.283 1050.04 Q160.093 1050.04 163.149 1054.65 Q166.227 1059.23 166.227 1067.98 Q166.227 1076.71 163.149 1081.31 Q160.093 1085.9 154.283 1085.9 Q148.473 1085.9 145.394 1081.31 Q142.339 1076.71 142.339 1067.98 Q142.339 1059.23 145.394 1054.65 Q148.473 1050.04 154.283 1050.04 Z\" fill=\"#000000\" fill-rule=\"evenodd\" fill-opacity=\"1\" /><path clip-path=\"url(#clip520)\" d=\"M166.227 1044.14 L190.339 1044.14 L190.339 1047.34 L166.227 1047.34 L166.227 1044.14 Z\" fill=\"#000000\" fill-rule=\"evenodd\" fill-opacity=\"1\" /><path clip-path=\"url(#clip520)\" d=\"M210.05 1042.67 Q212.777 1043.26 214.3 1045.1 Q215.842 1046.94 215.842 1049.65 Q215.842 1053.81 212.984 1056.08 Q210.125 1058.36 204.859 1058.36 Q203.091 1058.36 201.21 1058 Q199.348 1057.66 197.354 1056.97 L197.354 1053.3 Q198.934 1054.22 200.815 1054.69 Q202.696 1055.16 204.746 1055.16 Q208.319 1055.16 210.181 1053.75 Q212.062 1052.34 212.062 1049.65 Q212.062 1047.17 210.313 1045.78 Q208.583 1044.37 205.479 1044.37 L202.207 1044.37 L202.207 1041.24 L205.63 1041.24 Q208.432 1041.24 209.918 1040.13 Q211.404 1039.01 211.404 1036.9 Q211.404 1034.74 209.861 1033.59 Q208.338 1032.42 205.479 1032.42 Q203.918 1032.42 202.132 1032.76 Q200.345 1033.1 198.201 1033.82 L198.201 1030.43 Q200.364 1029.83 202.244 1029.53 Q204.144 1029.23 205.818 1029.23 Q210.144 1029.23 212.664 1031.2 Q215.184 1033.16 215.184 1036.5 Q215.184 1038.84 213.849 1040.45 Q212.513 1042.05 210.05 1042.67 Z\" fill=\"#000000\" fill-rule=\"evenodd\" fill-opacity=\"1\" /><path clip-path=\"url(#clip520)\" d=\"M115.703 688.361 L123.341 688.361 L123.341 661.995 L115.031 663.662 L115.031 659.403 L123.295 657.736 L127.971 657.736 L127.971 688.361 L135.61 688.361 L135.61 692.296 L115.703 692.296 L115.703 688.361 Z\" fill=\"#000000\" fill-rule=\"evenodd\" fill-opacity=\"1\" /><path clip-path=\"url(#clip520)\" d=\"M155.054 660.815 Q151.443 660.815 149.614 664.379 Q147.809 667.921 147.809 675.051 Q147.809 682.157 149.614 685.722 Q151.443 689.264 155.054 689.264 Q158.688 689.264 160.494 685.722 Q162.323 682.157 162.323 675.051 Q162.323 667.921 160.494 664.379 Q158.688 660.815 155.054 660.815 M155.054 657.111 Q160.864 657.111 163.92 661.717 Q166.999 666.301 166.999 675.051 Q166.999 683.778 163.92 688.384 Q160.864 692.967 155.054 692.967 Q149.244 692.967 146.165 688.384 Q143.11 683.778 143.11 675.051 Q143.11 666.301 146.165 661.717 Q149.244 657.111 155.054 657.111 Z\" fill=\"#000000\" fill-rule=\"evenodd\" fill-opacity=\"1\" /><path clip-path=\"url(#clip520)\" d=\"M166.999 651.212 L191.11 651.212 L191.11 654.41 L166.999 654.41 L166.999 651.212 Z\" fill=\"#000000\" fill-rule=\"evenodd\" fill-opacity=\"1\" /><path clip-path=\"url(#clip520)\" d=\"M202.583 661.688 L215.842 661.688 L215.842 664.886 L198.013 664.886 L198.013 661.688 Q200.175 659.45 203.899 655.689 Q207.642 651.908 208.601 650.817 Q210.426 648.767 211.14 647.357 Q211.874 645.927 211.874 644.554 Q211.874 642.316 210.294 640.906 Q208.733 639.495 206.213 639.495 Q204.426 639.495 202.432 640.116 Q200.458 640.736 198.201 641.997 L198.201 638.16 Q200.495 637.238 202.489 636.768 Q204.482 636.298 206.138 636.298 Q210.501 636.298 213.096 638.479 Q215.692 640.661 215.692 644.31 Q215.692 646.04 215.034 647.601 Q214.394 649.143 212.683 651.25 Q212.212 651.795 209.692 654.41 Q207.172 657.005 202.583 661.688 Z\" fill=\"#000000\" fill-rule=\"evenodd\" fill-opacity=\"1\" /><path clip-path=\"url(#clip520)\" d=\"M115.402 295.432 L123.04 295.432 L123.04 269.067 L114.73 270.733 L114.73 266.474 L122.994 264.808 L127.67 264.808 L127.67 295.432 L135.309 295.432 L135.309 299.368 L115.402 299.368 L115.402 295.432 Z\" fill=\"#000000\" fill-rule=\"evenodd\" fill-opacity=\"1\" /><path clip-path=\"url(#clip520)\" d=\"M154.753 267.886 Q151.142 267.886 149.313 271.451 Q147.508 274.993 147.508 282.122 Q147.508 289.229 149.313 292.794 Q151.142 296.335 154.753 296.335 Q158.388 296.335 160.193 292.794 Q162.022 289.229 162.022 282.122 Q162.022 274.993 160.193 271.451 Q158.388 267.886 154.753 267.886 M154.753 264.183 Q160.563 264.183 163.619 268.789 Q166.698 273.372 166.698 282.122 Q166.698 290.849 163.619 295.456 Q160.563 300.039 154.753 300.039 Q148.943 300.039 145.864 295.456 Q142.809 290.849 142.809 282.122 Q142.809 273.372 145.864 268.789 Q148.943 264.183 154.753 264.183 Z\" fill=\"#000000\" fill-rule=\"evenodd\" fill-opacity=\"1\" /><path clip-path=\"url(#clip520)\" d=\"M166.698 258.284 L190.809 258.284 L190.809 261.481 L166.698 261.481 L166.698 258.284 Z\" fill=\"#000000\" fill-rule=\"evenodd\" fill-opacity=\"1\" /><path clip-path=\"url(#clip520)\" d=\"M199.668 268.76 L205.874 268.76 L205.874 247.338 L199.122 248.692 L199.122 245.231 L205.837 243.877 L209.636 243.877 L209.636 268.76 L215.842 268.76 L215.842 271.957 L199.668 271.957 L199.668 268.76 Z\" fill=\"#000000\" fill-rule=\"evenodd\" fill-opacity=\"1\" /><path clip-path=\"url(#clip520)\" d=\"M44.7161 772.039 L47.5806 772.039 L47.5806 798.966 Q53.6281 798.584 56.8109 795.337 Q59.9619 792.059 59.9619 786.234 Q59.9619 782.861 59.1344 779.71 Q58.3069 776.527 56.6518 773.408 L62.1899 773.408 Q63.5267 776.559 64.227 779.869 Q64.9272 783.179 64.9272 786.585 Q64.9272 795.115 59.9619 800.112 Q54.9967 805.077 46.5303 805.077 Q37.7774 805.077 32.6531 800.366 Q27.4968 795.624 27.4968 787.603 Q27.4968 780.41 32.1438 776.24 Q36.7589 772.039 44.7161 772.039 M42.9973 777.895 Q38.1912 777.959 35.3266 780.601 Q32.4621 783.211 32.4621 787.539 Q32.4621 792.441 35.2312 795.401 Q38.0002 798.329 43.0292 798.775 L42.9973 777.895 Z\" fill=\"#000000\" fill-rule=\"evenodd\" fill-opacity=\"1\" /><path clip-path=\"url(#clip520)\" d=\"M14.5426 748.358 Q21.8632 752.623 29.0246 754.692 Q36.186 756.761 43.5384 756.761 Q50.8908 756.761 58.1159 754.692 Q65.3091 752.592 72.5979 748.358 L72.5979 753.451 Q65.1182 758.225 57.8931 760.612 Q50.668 762.968 43.5384 762.968 Q36.4406 762.968 29.2474 760.612 Q22.0542 758.257 14.5426 753.451 L14.5426 748.358 Z\" fill=\"#000000\" fill-rule=\"evenodd\" fill-opacity=\"1\" /><path clip-path=\"url(#clip520)\" d=\"M42.4881 707.363 L64.0042 707.363 L64.0042 713.22 L42.679 713.22 Q37.6183 713.22 35.1038 715.193 Q32.5894 717.166 32.5894 721.113 Q32.5894 725.856 35.6131 728.593 Q38.6368 731.33 43.8567 731.33 L64.0042 731.33 L64.0042 737.218 L28.3562 737.218 L28.3562 731.33 L33.8944 731.33 Q30.6797 729.23 29.0883 726.397 Q27.4968 723.532 27.4968 719.808 Q27.4968 713.665 31.3163 710.514 Q35.1038 707.363 42.4881 707.363 Z\" fill=\"#000000\" fill-rule=\"evenodd\" fill-opacity=\"1\" /><path clip-path=\"url(#clip520)\" d=\"M44.0477 676.744 L53.7554 684.861 L64.0042 676.33 L64.0042 680.691 L56.1743 687.216 L64.0042 693.741 L64.0042 698.101 L53.5644 689.38 L44.0477 697.369 L44.0477 693.009 L51.1454 687.057 L44.0477 681.105 L44.0477 676.744 Z\" fill=\"#000000\" fill-rule=\"evenodd\" fill-opacity=\"1\" /><path clip-path=\"url(#clip520)\" d=\"M14.5426 667.673 L14.5426 662.581 Q22.0542 657.806 29.2474 655.451 Q36.4406 653.064 43.5384 653.064 Q50.668 653.064 57.8931 655.451 Q65.1182 657.806 72.5979 662.581 L72.5979 667.673 Q65.3091 663.44 58.1159 661.371 Q50.8908 659.27 43.5384 659.27 Q36.186 659.27 29.0246 661.371 Q21.8632 663.44 14.5426 667.673 Z\" fill=\"#000000\" fill-rule=\"evenodd\" fill-opacity=\"1\" /><circle clip-path=\"url(#clip522)\" cx=\"311.302\" cy=\"85.838\" r=\"14.4\" fill=\"#009af9\" fill-rule=\"evenodd\" fill-opacity=\"1\" stroke=\"#000000\" stroke-opacity=\"1\" stroke-width=\"3.2\"/>\n",
       "<circle clip-path=\"url(#clip522)\" cx=\"702.332\" cy=\"362.228\" r=\"14.4\" fill=\"#009af9\" fill-rule=\"evenodd\" fill-opacity=\"1\" stroke=\"#000000\" stroke-opacity=\"1\" stroke-width=\"3.2\"/>\n",
       "<circle clip-path=\"url(#clip522)\" cx=\"1097.71\" cy=\"675.574\" r=\"14.4\" fill=\"#009af9\" fill-rule=\"evenodd\" fill-opacity=\"1\" stroke=\"#000000\" stroke-opacity=\"1\" stroke-width=\"3.2\"/>\n",
       "<circle clip-path=\"url(#clip522)\" cx=\"1495.31\" cy=\"900.555\" r=\"14.4\" fill=\"#009af9\" fill-rule=\"evenodd\" fill-opacity=\"1\" stroke=\"#000000\" stroke-opacity=\"1\" stroke-width=\"3.2\"/>\n",
       "<circle clip-path=\"url(#clip522)\" cx=\"1894.02\" cy=\"1135.14\" r=\"14.4\" fill=\"#009af9\" fill-rule=\"evenodd\" fill-opacity=\"1\" stroke=\"#000000\" stroke-opacity=\"1\" stroke-width=\"3.2\"/>\n",
       "<circle clip-path=\"url(#clip522)\" cx=\"2293.3\" cy=\"1371.32\" r=\"14.4\" fill=\"#009af9\" fill-rule=\"evenodd\" fill-opacity=\"1\" stroke=\"#000000\" stroke-opacity=\"1\" stroke-width=\"3.2\"/>\n",
       "<polyline clip-path=\"url(#clip522)\" style=\"stroke:#e26f46; stroke-linecap:round; stroke-linejoin:round; stroke-width:4; stroke-opacity:1; fill:none\" points=\"\n",
       "  311.302,199.639 702.332,430.995 1097.71,664.926 1495.31,900.167 1894.02,1136.07 2293.3,1372.3 \n",
       "  \"/>\n",
       "</svg>\n"
      ]
     },
     "execution_count": 68,
     "metadata": {},
     "output_type": "execute_result"
    }
   ],
   "source": [
    "scatter(nxv,maxerr;yscale=:log10,xscale=:log10,legend=false,\n",
    "xlabel=\"nₓ\",ylabel=\"e(nₓ)\")\n",
    "plot!(nxv,170 ./nxv.^2)"
   ]
  },
  {
   "cell_type": "markdown",
   "metadata": {},
   "source": [
    "The plot indicates that $e(n_x) = \\mathcal{O}(n_x^{-2})$, $n_x \\to \\infty$."
   ]
  }
 ],
 "metadata": {
  "kernelspec": {
   "display_name": "Julia 1.8.3",
   "language": "julia",
   "name": "julia-1.8"
  },
  "language_info": {
   "file_extension": ".jl",
   "mimetype": "application/julia",
   "name": "julia",
   "version": "1.8.3"
  }
 },
 "nbformat": 4,
 "nbformat_minor": 4
}
