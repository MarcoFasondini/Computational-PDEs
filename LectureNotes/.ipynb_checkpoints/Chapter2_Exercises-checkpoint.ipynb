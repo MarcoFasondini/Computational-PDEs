{
 "cells": [
  {
   "cell_type": "markdown",
   "metadata": {},
   "source": [
    "# Chapter 2: Exercises"
   ]
  },
  {
   "cell_type": "markdown",
   "metadata": {},
   "source": [
    "1. Give explicit formulae for the Fourier coefficients $c_k$ and approximate Fourier coefficients $\\tilde{c}_k^n$ for the following functions:\n",
    "$$\n",
    "\\cos x,  {3 \\over 3 - {\\rm e}^{{\\rm i }x}}\n",
    "$$\n",
    "Hint: You may wish to try the change of variables $z = {\\rm e}^{{\\rm i}x}$.\n",
    "\n",
    "2. Show that the DFT $Q_n$ is symmetric ($Q_n = Q_n^{\\top}$) but not Hermitian ($Q_n ≠ Q_n^*$).\n",
    "\n",
    "3. Show that \n",
    "$$\n",
    " \\sum_{k=-m}^{m} {\\rm e}^{{\\rm i}kx} = \\begin{cases}\n",
    " \\frac{\\sin((m+1/2)x)}{\\sin(x/2)} & \\text{if } x \\neq 0 \\\\\n",
    " 2m + 1 & \\text{if } x = 0\n",
    " \\end{cases}\n",
    "$$\n",
    "\n",
    "4. Prove that the trigonometric interpolant $p_n(x)$ that interpolates $f$ at $x = x_j = jh$, $j  = 0, \\ldots, n-1$ with $h = 2\\pi/n$ and $n = 2m + 1$ is unique.\n",
    "\n",
    "5. Consider the advection equation\n",
    "$$\n",
    "   u_t + u_x = 0, \\qquad x \\in [0, 2\\pi), \\qquad t \\in [0, T],\n",
    "$$\n",
    "   with $u(x,0) = f(x) = {\\rm e}^{-100(x-1)^2}$ and exact solution $u(x,t) = f(x - t)$; also consider (i) the forward-difference-Fourier    method \n",
    "$$\n",
    "\\mathbf{u}^{i+1} = \\mathbf{u}^{i} - \\tau \\mathcal{F}^{-1}\\left\\lbrace {\\rm i}(-m\\!:\\!m)\\cdot\\mathcal{F}\\lbrace \\mathbf{u}^{i} \\rbrace\\right\\rbrace, \\qquad i = 0, \\ldots, n_t-1\n",
    "$$\n",
    "   and (ii) the central-difference-Fourier method (aka the leapfrog method)\n",
    "$$\n",
    "\\mathbf{u}^{i+1} = \\mathbf{u}^{i-1} - 2\\tau \\mathcal{F}^{-1}\\left\\lbrace {\\rm i}(-m\\!:\\!m)\\cdot\\mathcal{F}\\lbrace \\mathbf{u}^{i} \\rbrace\\right\\rbrace, \\qquad i = 1, \\ldots, n_t-1.\n",
    "$$\n",
    "   For the leapfrog method, set $u^{1}_{j} = f(x_j - \\tau)$. \n",
    "   For both methods, set $n_x = 401$, $n_t = 500$ and $T = 1.05$ and plot the maximum error for each time step, i.e., plot\n",
    "$$\n",
    "   e_i := \\max_{j = 0, \\ldots, n_x-1} \\vert u(x_j,t_i) - u^i_j \\vert\n",
    "$$\n",
    "   for $i = 1, \\ldots, n_t$.  Describe the behaviour of $e_i$ for each method."
   ]
  }
 ],
 "metadata": {
  "kernelspec": {
   "display_name": "Julia 1.8.3",
   "language": "julia",
   "name": "julia-1.8"
  },
  "language_info": {
   "file_extension": ".jl",
   "mimetype": "application/julia",
   "name": "julia",
   "version": "1.8.3"
  }
 },
 "nbformat": 4,
 "nbformat_minor": 4
}
