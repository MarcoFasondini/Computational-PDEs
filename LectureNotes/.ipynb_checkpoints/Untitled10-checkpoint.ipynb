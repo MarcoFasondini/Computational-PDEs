{
 "cells": [
  {
   "cell_type": "markdown",
   "metadata": {},
   "source": [
    "# Welcome to Computational methods for partial differential equations"
   ]
  },
  {
   "cell_type": "markdown",
   "metadata": {},
   "source": [
    "The purpose of this module is to introduce you to the analysis and implementation of computational methods for partial differential equations.  We shall study **finite difference** methods, **spectral collocation** methods, the **ultraspherical spectral** method and, time permitting, the **finite element** method.  "
   ]
  },
  {
   "cell_type": "markdown",
   "metadata": {},
   "source": [
    "A broader perspective: A quote from *An Applied Mathematician's Apology* by L.N. Trefethen, 2022:\n",
    "\n",
    "... the language\n",
    "of the laws of nature, partial differential equations or PDEs. When\n",
    "Maxwell discovered that light and radio waves are one, it was because\n",
    "of a PDE. When Einstein predicted gravitational waves, it was because\n",
    "    of a PDE. Chemistry is built on Schrodinger’s equation, fluid mechanics\n",
    "on the Navier-Stokes equations, and civil engineering on the equations\n",
    "of elasticity."
   ]
  },
  {
   "cell_type": "markdown",
   "metadata": {},
   "source": [
    "A few important PDEs (there are many variations!)\n",
    "\n",
    "* Laplace equation \n",
    "$$\n",
    " - \\Delta u = f \n",
    "$$\n",
    "* Heat equation \n",
    "$$\n",
    " u_t - \\Delta u = f \n",
    "$$\n",
    "* Transport and Wave equation \n",
    "$$\\begin{aligned}\n",
    "    u_t + v \\cdot \\nabla u &= 0 \\\\\n",
    "  u_{tt} - \\Delta u &= f \n",
    "\\end{aligned}$$\n",
    "* Navier's equations : small-strain elasticity \n",
    "$$ \n",
    "  - \\mu \\Delta u + (\\lambda+\\mu) \\nabla {\\rm Div} u = f \n",
    "$$\n",
    "* Nonlinear elastodynamics \n",
    "$$ \n",
    "   u_{tt} = {\\rm div} \\Sigma(\\nabla u) + f \n",
    "$$\n",
    "* Navier-Stokes equations : incompressible viscous fluids \n",
    "$$ \n",
    "   u_t + (u \\cdot \\nabla)u = \\nu \\Delta u - \\nabla p, \\quad {\\rm Div} u = 0 \n",
    "$$\n",
    "* Reaction-Diffusion systems \n",
    "* Maxwell equation \n",
    "* Einstein\n",
    "* ..."
   ]
  },
  {
   "cell_type": "markdown",
   "metadata": {},
   "source": [
    "Usually we don't know the exact solution, so we approximate and compute, approximation via discretisation and computation"
   ]
  },
  {
   "cell_type": "markdown",
   "metadata": {},
   "source": [
    "Black-Scholes equation\n",
    "Cautionary tale, LTCM\n",
    "Weather prediction"
   ]
  }
 ],
 "metadata": {
  "kernelspec": {
   "display_name": "Julia 1.8.3",
   "language": "julia",
   "name": "julia-1.8"
  },
  "language_info": {
   "file_extension": ".jl",
   "mimetype": "application/julia",
   "name": "julia",
   "version": "1.8.3"
  }
 },
 "nbformat": 4,
 "nbformat_minor": 4
}
