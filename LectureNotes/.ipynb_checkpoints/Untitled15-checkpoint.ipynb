{
 "cells": [
  {
   "cell_type": "markdown",
   "metadata": {},
   "source": [
    "# Chapter 1: Solutions to Exercises\n",
    "\n",
    "1. **(Second-order central difference approximation to the second derivative)** Show that if $f \\in C^{4}[x_{j-1}, x_{j+1}]$, then\n",
    "$$\n",
    "f''(x_j) = \\frac{f(x_{j+1}) -  2f(x_{j}) + f(x_{j-1})}{h^2} + \\mathcal{O}(h^2), \\qquad h \\to 0.\n",
    "$$\n",
    "\n",
    "It follows from Taylor's theorem that there exists an $\\xi_1 \\in [x_{j},x_{j+1}]$ such that\n",
    "$$\n",
    "f(x_{j+1}) = f(x_{j}) + hf'(x_j) + \\frac{h^2}{2}f''(x_j) +  \\frac{h^3}{6}f'''(x_j)  +  \\frac{h^4}{24}f^{(4)}(\\xi_1)\n",
    "$$\n",
    "where we used the fact that  $x_{j+1} - x_j = h$. Similarly, there exists an $\\xi_2 \\in [x_{j-1},x_{j}]$ such that\n",
    "$$\n",
    "f(x_{j-1}) = f(x_{j}) - hf'(x_j) + \\frac{h^2}{2}f''(x_j) -  \\frac{h^3}{6}f'''(x_j)  +  \\frac{h^4}{24}f^{(4)}(\\xi_2)\n",
    "$$\n",
    "Adding these two equations and solving for $f''(x_j)$, we have that\n",
    "$$\n",
    "f''(x_j) = \\frac{f(x_{j+1}) -  2f(x_{j}) + f(x_{j-1})}{h^2} + \\frac{h^2}{24}\\left(f^{(4)}(\\xi_1) + f^{(4)}(\\xi_2)\\right)\n",
    "$$\n",
    "Since $f \\in C^{4}[x_{j-1}, x_{j+1}]$, there exists an $M < \\infty$ such that \n",
    "$$\n",
    "M = \\sup_{x \\in [x_{j-1}, x_{j+1}]} \\vert f^{(4)}(x)\\vert\n",
    "$$\n",
    "and therefore\n",
    "$$\n",
    "\\left\\vert f''(x_j) - \\frac{f(x_{j+1}) -  2f(x_{j}) + f(x_{j-1})}{h^2}\\right\\vert  \\leq \\frac{ M}{12}h^2\n",
    "$$\n",
    "and therefore the result follows."
   ]
  },
  {
   "cell_type": "markdown",
   "metadata": {},
   "source": [
    "2. Run the Julia code and / or the Matlab code for this chapter (see the Blackboard page of this module) on your own machine.  To run the Julia code, see the document titled Julia on Blackboard.  To run the Matlab code, you'll need to use Chebfun (see the instructions for how to do this [here](https://www.chebfun.org/download/)). \n",
    "\n",
    "3. Construct, by hand, a polynomial that interpolates $f(x) = {\\rm e}^{x}$ at $x = 0, 1, 2$."
   ]
  },
  {
   "cell_type": "markdown",
   "metadata": {},
   "source": [
    "Using the formula for the Lagrange interpolating polynomial, we have that\n",
    "$$\n",
    "p_3(x) = \\frac{(x-1)(x-2)}{2}{\\rm e}^0 - (x-0)(x-2){\\rm e}^1 + \\frac{(x-0)(x-1)}{2}{\\rm e}^2\n",
    "$$"
   ]
  },
  {
   "cell_type": "markdown",
   "metadata": {},
   "source": [
    "4. **(Second-order backward difference approximation)** Construct a Lagrange interpolating polynomial $p_3(x)$ that interpolates $f(x)$ at $x_{j-2}$, $x_{j-1}$ and $x_{j}$, where $x_{j}-x_{j-1} = x_{j-1}-x_{j-2} = h$, and derive the following one-sided finite difference approximation:  \n",
    "$$\n",
    "f'(x_j) \\approx p_3'(x_j) = \\frac{3f(x_j) - 4f(x_{j-1}) + f(x_{j-2})}{2h}\n",
    "$$\n",
    "Using the formula for the Lagrange interpolating polynomial, it follows that\n",
    "$$\n",
    "p_3(x) = \\frac{(x-x_{j-1})(x-x_{j})}{2h^2} f(x_{j-2}) - \\frac{(x-x_{j-2})(x-x_{j})}{h^2} f(x_{j-1}) +  \\frac{(x-x_{j-2})(x-x_{j-1})}{2h^2} f(x_{j}).\n",
    "$$\n",
    "Since\n",
    "$$\n",
    "p_3'(x) = \\frac{(x-x_{j-1}) + (x-x_{j})}{2h^2} f(x_{j-2}) - \\frac{(x-x_{j-2})+ (x-x_{j})}{h^2} f(x_{j-1}) +  \\frac{(x-x_{j-2}) + (x-x_{j-1})}{2h^2} f(x_{j})\n",
    "$$\n",
    "we have that\n",
    "$$\n",
    "p_3'(x_j) = \\frac{h}{2h^2} f(x_{j-2}) - \\frac{2h}{h^2} f(x_{j-1}) +  \\frac{2h + h}{2h^2} f(x_{j})\n",
    "$$\n",
    "and the result follows."
   ]
  },
  {
   "cell_type": "markdown",
   "metadata": {},
   "source": [
    "5. In Julia or Matlab, compute the maximum error of the finite difference approximation \n",
    "$$\n",
    "f'(x_j) \\approx \\frac{f(x_{j-2}) -8 f(x_{j-1}) + 8 f(x_{j+1}) - f(x_{j-2})}{12h},\n",
    "$$\n",
    "at the points $x_j = jh$ with $j = 0, \\ldots, n-1$ and $h = 2\\pi/n$ for the function $f(x) = 1/(2 + \\cos(x))$ for various values of $n$.  Then plot the errors on a log-log plot. Comment on your results."
   ]
  },
  {
   "cell_type": "code",
   "execution_count": null,
   "metadata": {},
   "outputs": [],
   "source": []
  }
 ],
 "metadata": {
  "kernelspec": {
   "display_name": "Julia 1.8.3",
   "language": "julia",
   "name": "julia-1.8"
  },
  "language_info": {
   "file_extension": ".jl",
   "mimetype": "application/julia",
   "name": "julia",
   "version": "1.8.3"
  }
 },
 "nbformat": 4,
 "nbformat_minor": 4
}
