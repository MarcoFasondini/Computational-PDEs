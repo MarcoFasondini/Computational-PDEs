{
 "cells": [
  {
   "cell_type": "markdown",
   "metadata": {},
   "source": [
    "__Applied Complex Analysis (2021)__\n",
    "\n",
    "# Lecture 19: Classical orthogonal polynomials\n",
    "\n",
    "\n",
    "We will also investigate the properties of _classical_ OPs.\n",
    "A good reference is  [Digital Library of Mathematical Functions, Chapter 18](http://dlmf.nist.gov/18).\n",
    "\n",
    "This lecture we discuss\n",
    "1. Hermite, Laguerre, and Jacobi polynomials\n",
    "2. Legendre, Chebyshev, and ultraspherical polynomials\n",
    "3. Explicit construction for Chebyshev polynomials\n",
    "\n",
    "\n",
    "## Definition of classical orthogonal polynomials\n",
    "\n",
    "Classical orthogonal polynomials are orthogonal with respect to the following three weights:\n",
    "\n",
    "\n",
    "| Name        |  $(a,b)$ |  $w(x)$      | Notation   |  $k_n$ |\n",
    "|:-------------|:------------- |:----------------------|:-----|:-----|\n",
    "| Hermite     |$(-\\infty,\\infty)$ | $\\E^{-x^2}$             | $H_n(x)$ | $2^n$ |\n",
    "| Laguerre    | $(0,\\infty)$ | $x^\\alpha \\E^{-x}$      |   $L_n^{(\\alpha)}(x)$ | [Table 18.3.1](http://dlmf.nist.gov/18.3) |\n",
    "| Jacobi      | $(-1,1)$ | $(1-x)^{\\alpha} (1+x)^\\beta$      |    $P_n^{(\\alpha,\\beta)}(x)$ | [Table 18.3.1](http://dlmf.nist.gov/18.3) |\n",
    "\n",
    "\n",
    "Note out of convention the parameters for Jacobi polynomials are right-to-left order.\n",
    "\n",
    "We can actually construct these polynomials in Julia, first consider Hermite:"
   ]
  },
  {
   "cell_type": "code",
   "execution_count": null,
   "metadata": {},
   "outputs": [],
   "source": [
    "using ApproxFun, Plots, LinearAlgebra, ComplexPhasePortrait\n",
    "H₀ = Fun(Hermite(), [1])\n",
    "H₁ = Fun(Hermite(), [0,1])\n",
    "H₂ = Fun(Hermite(), [0,0,1])\n",
    "H₃ = Fun(Hermite(), [0,0,0,1])\n",
    "H₄ = Fun(Hermite(), [0,0,0,0,1])\n",
    "H₅ = Fun(Hermite(), [0,0,0,0,0,1])\n",
    "\n",
    "xx = -4:0.01:4\n",
    "plot(xx, H₀.(xx); label=\"H_0\", ylims=(-400,400))\n",
    "plot!(xx, H₁.(xx); label=\"H_1\", ylims=(-400,400))\n",
    "plot!(xx, H₂.(xx); label=\"H_2\", ylims=(-400,400))\n",
    "plot!(xx, H₃.(xx); label=\"H_3\", ylims=(-400,400))\n",
    "plot!(xx, H₄.(xx); label=\"H_4\", ylims=(-400,400))\n",
    "plot!(xx, H₅.(xx); label=\"H_5\")"
   ]
  },
  {
   "cell_type": "markdown",
   "metadata": {},
   "source": [
    "We verify their orthogonality:"
   ]
  },
  {
   "cell_type": "code",
   "execution_count": null,
   "metadata": {},
   "outputs": [],
   "source": [
    "w = Fun(GaussWeight(), [1.0])\n",
    "\n",
    "@show sum(H₂*H₅*w)  # means integrate\n",
    "@show sum(H₅*H₅*w);"
   ]
  },
  {
   "cell_type": "markdown",
   "metadata": {},
   "source": [
    "Now Jacobi:"
   ]
  },
  {
   "cell_type": "code",
   "execution_count": null,
   "metadata": {},
   "outputs": [],
   "source": [
    "α,β = 0.1,0.2\n",
    "P₀ = Fun(Jacobi(β,α), [1])\n",
    "P₁ = Fun(Jacobi(β,α), [0,1])\n",
    "P₂ = Fun(Jacobi(β,α), [0,0,1])\n",
    "P₃ = Fun(Jacobi(β,α), [0,0,0,1])\n",
    "P₄ = Fun(Jacobi(β,α), [0,0,0,0,1])\n",
    "P₅ = Fun(Jacobi(β,α), [0,0,0,0,0,1])\n",
    "\n",
    "xx = -1:0.01:1\n",
    "plot( xx, P₀.(xx); label=\"P_0^($α,$β)\", ylims=(-2,2))\n",
    "plot!(xx, P₁.(xx); label=\"P_1^($α,$β)\")\n",
    "plot!(xx, P₂.(xx); label=\"P_2^($α,$β)\")\n",
    "plot!(xx, P₃.(xx); label=\"P_3^($α,$β)\")\n",
    "plot!(xx, P₄.(xx); label=\"P_4^($α,$β)\")\n",
    "plot!(xx, P₅.(xx); label=\"P_5^($α,$β)\")"
   ]
  },
  {
   "cell_type": "code",
   "execution_count": null,
   "metadata": {},
   "outputs": [],
   "source": [
    "w = Fun(JacobiWeight(β,α), [1.0])\n",
    "@show sum(P₂*P₅*w)  # means integrate\n",
    "@show sum(P₅*P₅*w);"
   ]
  },
  {
   "cell_type": "markdown",
   "metadata": {},
   "source": [
    "## Legendre, Chebyshev, and ultraspherical polynomials\n",
    "\n",
    "There are special families of Jacobi weights with their own name.\n",
    "\n",
    "| Name        | Jacobi parameters  |  $w(x)$      | Notation   |  $k_n$ |\n",
    "|:-------------|:------------- |:----------------------|:-----|:------|\n",
    "| Jacobi      | $\\alpha,\\beta$ | $(1-x)^{\\alpha} (1+x)^\\beta$      |    $P_n^{(\\alpha,\\beta)}(x)$ | [Table 18.3.1](http://dlmf.nist.gov/18.3) |\n",
    "| Legendre      | $0,0$ | $1$      |    $P_n(x)$ | $2^n(1/2)_n/n!$ |\n",
    "| Chebyshev (1st)      | $-{1 \\over 2},-{1 \\over 2}$ | $1 \\over \\sqrt{1-x^2}$ | $T_n(x)$ | $1 (n=0), 2^{n-1} (n \\neq 0)$ |\n",
    "| Chebyshev (2nd)      | ${1 \\over 2},{1 \\over 2}$ | $\\sqrt{1-x^2}$      |    $U_n(x)$ | $2^n$\n",
    "| Ultraspherical      | $\\lambda-{1 \\over 2},\\lambda-{1 \\over 2}$ | $(1-x^2)^{\\lambda - 1/2}, \\lambda \\neq 0$      |    $C_n^{(\\lambda)}(x)$ | $2^n(\\lambda)_n/n!$ |\n",
    "\n",
    "Note that other than Legendre, these polynomials have a different normalization than $P_n^{(\\alpha,\\beta)}$:"
   ]
  },
  {
   "cell_type": "code",
   "execution_count": null,
   "metadata": {},
   "outputs": [],
   "source": [
    "T₂ = Fun(Chebyshev(), [0.0,0,1])\n",
    "P₂ = Fun(Jacobi(-1/2,-1/2), [0.0,0,1])\n",
    "plot(T₂; label=\"T_2\", title=\"T_2 is C*P_2 for some C\")\n",
    "plot!(P₂; label=\"P_2\")"
   ]
  },
  {
   "cell_type": "markdown",
   "metadata": {},
   "source": [
    "But because they are orthogonal w.r.t. the same weight, they must be a constant multiple of each-other,\n",
    "as discussed last lecture.\n",
    "\n",
    "### Explicit construction of Chebyshev polynomials (first kind and second kind)\n",
    "\n",
    "Chebyshev polynomials are pretty much the only OPs with _simple_ closed form expressions.\n",
    "\n",
    "**Proposition (Chebyshev first kind formula)**\n",
    "$$T_n(x) = \\cos n \\acos x$$\n",
    "or in other words,\n",
    "$$\n",
    "T_n(\\cos \\theta) = \\cos n \\theta\n",
    "$$\n",
    "\n",
    "**Proof** We first show that they are orthogonal w.r.t. $1/\\sqrt{1-x^2}$. Too easy: do $x = \\cos \\theta$, $\\dx = -\\sin \\theta$ to get (for $n \\neq m$)\n",
    "$$\n",
    "\\begin{align*}\n",
    "    \\int_{-1}^1 {\\cos n \\acos x \\cos m \\acos x \\dx \\over \\sqrt{1-x^2}} &= -\\int_\\pi^0  \\cos n \\theta \\cos m \\theta \\D \\theta \\ccr\n",
    "    =  \\int_0^\\pi  {\\E^{\\I (-n-m)\\theta} + \\E^{\\I (n-m)\\theta} + \\E^{\\I (m-n)\\theta} + \\E^{\\I (n+m)\\theta}    \\over 4} \\D \\theta =0\n",
    "\\end{align*}\n",
    "$$\n",
    "\n",
    "We then need to show it has the right highest order term $k_n$. Note that $k_0 = k_1 = 1$.  Using $z = \\E^{\\I \\theta}$ we see that $\\cos n \\theta$ has a simple recurrence for $n=2,3,\\ldots$:\n",
    "$$\n",
    "\\cos n \\theta = {z^n + z^{-n} \\over 2} = 2 {z + z^{-1} \\over 2} {z^{n-1} + z^{1-n} \\over 2}- {z^{n-2} + z^{2-n} \\over 2} =\n",
    "2 \\cos \\theta \\cos (n-1)\\theta - \\cos(n-2)\\theta\n",
    "$$\n",
    "thus\n",
    "$$\n",
    "\\cos n \\acos x = 2 x \\cos(n-1) \\acos x - \\cos(n-2) \\acos x\n",
    "$$\n",
    "It follows that\n",
    "$$\n",
    "k_n = 2  k_{n-1} = 2^{n-1} k_1 = 2^{n-1}\n",
    "$$\n",
    "By uniqueness we have $T_n(x) = \\cos n \\acos x$.\n",
    "\n",
    "■\n",
    "\n",
    "\n",
    "**Proposition (Chebyshev second kind formula)**\n",
    "$$U_n(x) = {\\sin (n+1) \\acos x \\over \\sin \\acos x}$$\n",
    "or in other words,\n",
    "$$\n",
    "U_n(\\cos \\theta) = {\\sin (n+1) \\theta \\over \\sin \\theta}\n",
    "$$\n",
    "\n",
    "\n",
    "\n",
    "*Example* For the case of Chebyshev polynomials, we have\n",
    "$$\n",
    "J = \\begin{pmatrix}\n",
    "0 & 1 \\cr\n",
    "\\half & 0 & \\half \\cr\n",
    "& \\half & 0 & \\half \\cr\n",
    "&& \\half & 0 & \\ddots \\cr\n",
    "&&&\\ddots & \\ddots\n",
    "\\end{pmatrix}\n",
    "$$\n",
    "Therefore, the Chebyshev coefficients of $x f(x)$ are given by\n",
    "$$\n",
    "J^\\top \\vc f = \\begin{pmatrix}\n",
    "0 & \\half \\cr\n",
    "1 & 0 & \\half \\cr\n",
    "& \\half & 0 & \\half \\cr\n",
    "&& \\half & 0 & \\ddots \\cr\n",
    "&&&\\ddots & \\ddots\n",
    "\\end{pmatrix} \\begin{pmatrix} f_0\\\\ f_1\\\\f_2\\\\f_3\\\\\\vdots\\end{pmatrix}\n",
    "$$\n",
    "\n",
    "### Demonstration\n",
    "In the case where $f$ is a degree $n-1$  polynomial, we can represent $J^\\top$ as an $n+1 \\times n$ matrix (this makes sense as $x f(x)$ is one more degree than $f$):"
   ]
  },
  {
   "cell_type": "code",
   "execution_count": null,
   "metadata": {},
   "outputs": [],
   "source": [
    "f = Fun(exp, Chebyshev())\n",
    "n = ncoefficients(f) # number of coefficients\n",
    "@show n\n",
    "J = zeros(n,n+1)\n",
    "J[1,2] = 1\n",
    "for k=2:n\n",
    "    J[k,k-1] = J[k,k+1] = 1/2\n",
    "end\n",
    "J'"
   ]
  },
  {
   "cell_type": "code",
   "execution_count": null,
   "metadata": {},
   "outputs": [],
   "source": [
    "cfs = J'*f.coefficients # coefficients of x*f\n",
    "xf = Fun(Chebyshev(), cfs)\n",
    "\n",
    "xf(0.1) - 0.1*f(0.1)"
   ]
  },
  {
   "cell_type": "markdown",
   "metadata": {},
   "source": [
    "We can construct $T_0(x),\\ldots,T_{n-1}(x)$ via\n",
    "$$\n",
    "\\begin{align*}\n",
    "    T_0(x) &= 1\\\\\n",
    "    T_1(x) &= x T_0(x) \\\\\n",
    "    T_{k+1}(x) &= 2x  T_k(x) -  T_{k-1}(x), \\qquad 1 \\leq k \\leq n-2\n",
    "\\end{align*}\n",
    "$$\n",
    "Believe it or not, this is much faster than using $\\cos k \\acos x$:"
   ]
  },
  {
   "cell_type": "code",
   "execution_count": null,
   "metadata": {},
   "outputs": [],
   "source": [
    "function recurrence_Chebyshev(n,x)\n",
    "    T = zeros(n)\n",
    "    T[1] = 1.0\n",
    "    T[2] = x*T[1]\n",
    "    for k = 2:n-1\n",
    "        T[k+1] = 2x*T[k] - T[k-1]\n",
    "    end\n",
    "    T\n",
    "end\n",
    "\n",
    "trig_Chebyshev(n,x) = [cos(k*acos(x)) for k=0:n-1]\n",
    "\n",
    "n = 10\n",
    "recurrence_Chebyshev(n, 0.1) - trig_Chebyshev(n,0.1) |>norm"
   ]
  },
  {
   "cell_type": "code",
   "execution_count": null,
   "metadata": {},
   "outputs": [],
   "source": [
    "n = 10000\n",
    "@time recurrence_Chebyshev(n, 0.1)\n",
    "@time trig_Chebyshev(n,0.1);"
   ]
  },
  {
   "cell_type": "markdown",
   "metadata": {},
   "source": [
    "We can also demonstrate Clenshaw's algorithm for evaluating polynomials. To evaluate an expansion in Chebyshev polynomials,\n",
    "$$\n",
    "\\sum_{k = 0}^{n-1}f_kT_k(x)\n",
    "$$\n",
    " we want to solve the system\n",
    "$$\n",
    "\\underbrace{\\begin{pmatrix}\n",
    "1 & -x & \\half \\\\\n",
    "& 1 & -x & \\half  \\\\\n",
    "& & \\half & -x & \\ddots  \\\\\n",
    "& &     & \\half & \\ddots & \\half \\\\\n",
    "&&&&\\ddots & -x \\\\\n",
    "&&&&& \\half\n",
    "\\end{pmatrix}}_{L_x^\\top} \\begin{pmatrix} \\gamma_0 \\\\\\vdots\\\\ \\gamma_{n-1} \\end{pmatrix}\n",
    "$$\n",
    "via\n",
    "$$\n",
    "\\begin{align*}\n",
    "\\gamma_{n-1} &= 2f_{n-1} \\\\\n",
    "\\gamma_{n-2} &= 2f_{n-2} + 2x \\gamma_{n-1} \\\\\n",
    "\\gamma_{n-3} &= 2 f_{n-3} + 2x \\gamma_{n-2} - \\gamma_{n-1} \\\\\n",
    "& \\vdots \\\\\n",
    "\\gamma_1 &= f_1 + x \\gamma_2 - \\half \\gamma_3 \\\\\n",
    "\\gamma_0 &= f_0 + x \\gamma_1 - \\half \\gamma_2\n",
    "\\end{align*}\n",
    "$$\n",
    "then $f(x) = \\gamma_0$."
   ]
  },
  {
   "cell_type": "code",
   "execution_count": null,
   "metadata": {},
   "outputs": [],
   "source": [
    "function clenshaw_Chebyshev(f,x)\n",
    "    n = length(f)\n",
    "    γ = zeros(n)\n",
    "    γ[n] = 2f[n]\n",
    "    γ[n-1] = 2f[n-1] +2x*f[n]\n",
    "    for k = n-2:-1:1\n",
    "        γ[k] = 2f[k] + 2x*γ[k+1] - γ[k+2]\n",
    "    end\n",
    "    γ[2] = f[2] + x*γ[3] - γ[4]/2\n",
    "    γ[1] = f[1] + x*γ[2] - γ[3]/2\n",
    "    γ[1]\n",
    "end\n",
    "\n",
    "f = Fun(exp, Chebyshev())\n",
    "clenshaw_Chebyshev(f.coefficients, 0.1) - exp(0.1)"
   ]
  },
  {
   "cell_type": "markdown",
   "metadata": {},
   "source": [
    "With some high performance computing tweaks, this can be made more accurate.\n",
    "This is the algorithm used for evaluating functions in ApproxFun:"
   ]
  },
  {
   "cell_type": "code",
   "execution_count": null,
   "metadata": {},
   "outputs": [],
   "source": [
    "f(0.1) - exp(0.1)"
   ]
  },
  {
   "cell_type": "markdown",
   "metadata": {},
   "source": [
    "## Approximation with Chebyshev polynomials\n",
    "\n",
    "Previously, we used the formula, derived via trigonometric manipulations,\n",
    "$$\n",
    "T_1(x) = x T_0(x), \\qquad\n",
    "T_{n+1}(x) = 2x T_n(x) - T_{n-1}(x)\n",
    "$$\n",
    "Rearranging, this becomes\n",
    "$$\n",
    " x T_0(x) = T_1(x), \\qquad\n",
    "x T_n(x)  =  {T_{n-1}(x) \\over 2} + {T_{n+1}(x) \\over 2}\n",
    "$$\n",
    "This tells us that we have the three-term recurrence with $a_n = 0$, $b_0 = 1$, $c_n = b_n = {1 \\over 2}$ for $n > 0$.\n",
    "\n",
    "This can be extended to function approximation. Provided the sum converges absolutely and uniformly in $x$, we can write\n",
    "$$\n",
    "f(x) = \\sum_{k=0}^\\infty f_k T_k(x).\n",
    "$$\n",
    "In practice, we can approximate smooth functions by a finite truncation:\n",
    "$$\n",
    "f(x) \\approx \\sum_{k=0}^{n-1} f_k T_k(x)\n",
    "$$\n",
    "\n",
    "Here we see that $\\E^x$ can be approximated by a Chebyshev approximation using 14 coefficients and is accurate to 16 digits:"
   ]
  },
  {
   "cell_type": "code",
   "execution_count": null,
   "metadata": {},
   "outputs": [],
   "source": [
    "f = Fun(x -> exp(x), Chebyshev())\n",
    "scatter(0:ncoefficients(f)-1,abs.(f.coefficients);yscale=:log10,label=\"Chebyshev coefficients, fₖ\",xlabel=\"k\")"
   ]
  },
  {
   "cell_type": "code",
   "execution_count": null,
   "metadata": {},
   "outputs": [],
   "source": [
    "@show ncoefficients(f)\n",
    "@show f(0.1) # equivalent to f.coefficients'*[cos(k*acos(x)) for k=0:ncoefficients(f)-1]\n",
    "@show exp(0.1);"
   ]
  },
  {
   "cell_type": "markdown",
   "metadata": {},
   "source": [
    "The accuracy of this approximation is typically dictated by the smoothness of $f$: the more times we can differentiate, the faster it converges.\n",
    "For analytic functions, it's dictated by the domain of analyticity, just like Laurent/Fourier series. In the case above, $\\E^x$ is entire hence we get faster than exponential convergence.\n",
    "\n",
    "\n",
    "Chebyshev expansions work even when Taylor series do not. For example, the following function has poles at $\\pm {\\I \\over 5}$, which means the radius of convergence for the Taylor series is $|x| < {1 \\over 5}$,\n",
    "but Chebyshev polynomials continue to work on $[-1,1]$:"
   ]
  },
  {
   "cell_type": "code",
   "execution_count": null,
   "metadata": {},
   "outputs": [],
   "source": [
    "f = Fun( x -> 1/(25x^2 + 1), Chebyshev())\n",
    "@show ncoefficients(f)\n",
    "plot(f;label=false)"
   ]
  },
  {
   "cell_type": "markdown",
   "metadata": {},
   "source": [
    "This can be explained for Chebyshev expansion by noting that it is the cosine expansion / Fourier expansion of an even function:\n",
    "$$\n",
    "f(x) = \\sum_{k=0}^\\infty f_k T_k(x) \\Leftrightarrow f(\\cos \\theta) = \\sum_{k=0}^\\infty f_k \\cos k \\theta\n",
    "$$\n",
    "\n",
    "### Exponential decay of Fourier coefficients of periodic, analytic functions revisited\n",
    "\n",
    "Before we get to the decay of Chebyshev coefficients, we revisit the proof of the exponential decay of _Fourier_ coefficients in Lecture 6. Suppose $f(\\theta)$ is $2\\pi$-periodic and analytic on $\\theta \\in [-\\pi, \\pi)$, then\n",
    "$$\n",
    "    f(\\theta) = \\sum_{k=-\\infty}^\\infty \\hat f_k \\E^{i k \\theta}\n",
    "$$\n",
    "where\n",
    "$$\n",
    "\\hat f_k = {1\\over 2 \\pi} \\int_{-\\pi}^\\pi f(\\theta) \\E^{-i k \\theta} d \\theta.\n",
    "$$\n",
    "Recall in Lecture 6 we set $z = \\E^{\\I \\theta}$ in which case the Fourier series of $f$ becomes a Laurent series of a function $g(z)$:\n",
    "$$\n",
    "f(\\theta) = \\sum_{k=-\\infty}^\\infty \\hat f_k \\E^{i k \\theta} = \\sum_{k=-\\infty}^\\infty g_k z^k =: g(z),\n",
    "$$\n",
    "with $g_k = \\hat f_k$. We proved that if $g(z)$ is analytic on the closed annulus $A_{r,R} = \\lbrace z : r \\leq \\vert z \\vert \\leq R \\rbrace$, $0 < r <1$, $R > 1$ then for all $k \\in \\mathbb{Z}$, $$|g_k | \\leq M\\min\\left\\{{1 \\over R^k} , {1 \\over r^k}\\right\\}$$\n",
    "where $M = \\sup_{z \\in  A_{r,R}} |g(z)|$. This result implies the exponential decay of the Fourier coefficients of $f$.\n",
    "\n",
    "An annulus in the $z$-plane corresponds to a strip of width $2\\pi$ in the (complex) $\\theta$-plane under the transformation $z = \\E^{\\I \\theta}$, $\\Re \\theta \\in [-\\pi, \\pi)$:\n",
    "$$\n",
    "\\begin{align*}\n",
    "& z \\in A_{r,R} = \\lbrace z : r \\leq \\vert z \\vert \\leq R \\rbrace \\qquad \\underbrace{\\Longleftrightarrow}_{z = \\E^{\\I \\theta}} \\\\\n",
    "& \\theta \\in  S_{r,R} =   \\lbrace \\theta : -\\pi \\leq \\Re  \\theta < \\pi,  -\\log(R) \\leq \\Im \\theta \\leq \\log(1/r) \\rbrace.\n",
    "\\end{align*}\n",
    "$$\n",
    "\n",
    "Suppose $f(\\theta)$ is real-valued on $[-\\pi, \\pi)$, then $\\overline{f(\\theta)} = f(\\overline{\\theta})$. Hence if the closest singularity to the real $\\theta$-axis is at $\\theta = \\theta_x + \\I \\theta_y$, with $\\theta_x \\in [-\\pi, \\pi)$ and $\\theta_y > 0$, then $f$ also has a singularity at  $\\theta_x - \\I \\theta_y$. Thus $f$ is analytic in the strip\n",
    "$$\n",
    "S_{r,R} = \\theta \\in    \\lbrace \\theta : -\\pi \\leq \\Re  \\theta < \\pi,  -\\log(R) \\leq \\Im \\theta \\leq \\log(1/r) \\rbrace\n",
    "$$\n",
    "with\n",
    "$$\n",
    "{1 \\over r} = R < \\E^{\\theta_y}\n",
    "$$\n",
    "and the Fourier coefficients are bounded by\n",
    "$$\n",
    "|f_k | = |g_k |  \\leq M\\min\\left\\{{1 \\over R^k} , {1 \\over r^k}\\right\\} = M r^{|k|} = M R^{-|k|}, \\qquad k \\in \\mathbb{Z},\n",
    "$$\n",
    "where $M = \\sup_{z \\in  A_{r,R}} |g(z)| = \\sup_{\\theta \\in  S_{r,R}} |f(\\theta)|$. The larger the strip of analyticity, the larger we can make $R$ and the faster the Fourier coefficients of $f$ decay as $\\vert k \\vert \\to \\infty$ (hence the faster the truncated Fourier expansion $\\sum_{k=-n}^{n}\\hat f_k \\E^{i k \\theta}$ of $f$ converges to $f$ as $n \\to \\infty$).\n",
    "\n",
    "_Example (see also Lecture 6)_ The function\n",
    "$$\n",
    " f(\\theta) = {1 \\over 2 - \\cos\\theta},\n",
    "$$\n",
    "has poles at $\\theta = \\pm \\I \\log (2 + \\sqrt{3})$; it is analytic in the strip $S_{r,R}$ with $R = 1/r < 2 + \\sqrt{3}$ and the maximum of $\\vert f(\\theta) \\vert$ on $S_{r,R}$ is\n",
    "$$\n",
    "M = {2 \\over 4 - R^{-1} + R},\n",
    "$$\n",
    " hence\n",
    "$$\n",
    "|f_k| =     |g_k| \\leq {2 \\over 4 - R -R^{-1}} R^{-\\vert k \\vert}, \\qquad k \\in \\mathbb{Z},\n",
    "$$\n",
    "for all $R < 2 + \\sqrt{3}$."
   ]
  },
  {
   "cell_type": "code",
   "execution_count": null,
   "metadata": {},
   "outputs": [],
   "source": [
    "g =Fun(θ -> 1/(2-cos(θ)), Laurent(-π .. π))\n",
    "g₊ = g.coefficients[1:2:end]\n",
    "scatter(abs.(g₊); yscale=:log10, label=\"|g_k|\", legend=:bottomleft,xlabel=\"k\")\n",
    "R = 1.1\n",
    "scatter!(2/(4-R-inv(R))*R.^(-(0:length(g₊))), label = \"R = $R\")\n",
    "R = 3.5\n",
    "scatter!(2/(4-R-inv(R))*R.^(-(0:length(g₊))), label = \"R = $R\")\n",
    "R = 2+sqrt(3)-0.1\n",
    "scatter!(2/(4-R-inv(R))*R.^(-(0:length(g₊))), label = \"R = $R\")"
   ]
  },
  {
   "cell_type": "markdown",
   "metadata": {},
   "source": [
    "### Exponential decay of Chebyshev coefficients of analytic functions\n",
    "\n",
    "Suppose $f(x)$ is analytic on $[-1, 1]$, then\n",
    "$$\n",
    "\\begin{align*}\n",
    "f(x) & = \\sum_{k = 0}^{\\infty} f_k T_k(x) \\\\\n",
    "     & =\\sum_{k = 0}^{\\infty} f_k \\cos k\\theta \\qquad (x = \\cos\\theta) \\\\\n",
    "     & = \\sum_{k = 0}^{\\infty} {f_k \\over 2}\\left( z^k + z^{-k}\\right)  \\qquad (z = \\E^{\\I \\theta}) \\\\\n",
    "     & =: \\sum_{k = -\\infty}^{\\infty} g_k z^{k} =: g(z) \\qquad (g_0 = f_0, g_{k} = g_{-k} = f_k/2, k\\geq 0)\n",
    "\\end{align*}\n",
    "$$\n",
    "Now we can use the bound on the Laurent coefficients of $g(z)$ to bound the Chebyshev coefficients of $f(x)$. First we need to establish what is the image in the (complex) $x$-plane of an annulus in the $z$-plane under the transformation $2x = z + z^{-1}$, which is known as the Joukowsky map.\n",
    "\n",
    "Let $\\rho > 1$ and\n",
    "$$\n",
    "A_{1,\\rho} =  \\lbrace z : 1 \\leq \\vert z \\vert \\leq \\rho \\rbrace, \\qquad  A_{\\rho^{-1},1} =  \\lbrace z : \\rho^{-1} \\leq \\vert z \\vert \\leq 1 \\rbrace.\n",
    "$$\n",
    "The Joukowsky transformation maps $A_{1,\\rho}$ and $A_{\\rho^{-1},1}$ to the following ellipse (known as a Bernstein ellipse) in the $x$-plane:\n",
    "$$\n",
    "E_{\\rho} = \\left\\lbrace x : {(\\Re x)^2 \\over \\alpha^2} + {(\\Im x)^2 \\over \\beta^2} \\leq 1, \\alpha = {1 \\over 2}\\left( \\rho + \\rho^{-1} \\right),   \\beta = {1 \\over 2}\\left( \\rho - \\rho^{-1} \\right) \\right\\rbrace.\n",
    "$$\n",
    "We conclude that if $f(x)$ is analytic on $E_{\\rho}$ (or $g(z)$ is analytic on $A_{\\rho^{-1},\\rho}$) and $M = \\sup_{x \\in  E_{\\rho}} |f(x)| = \\sup_{z \\in  A_{\\rho^{-1},\\rho}} |g(z)|$, then\n",
    "$$\n",
    "\\vert f_k \\vert = 2 \\vert g_k \\vert \\leq 2M\\rho^{-k}, \\qquad k \\geq 1.\n",
    "$$\n",
    "The larger the Bernstein ellipse on which $f(x)$ is analytic, the faster the decay of the Chebyshev coefficients as $k \\to \\infty$ (and hence the faster the convergence of the Chebyshev expansion of $f$).\n",
    "\n",
    "A truncated Chebyshev expansion with $n$ terms of a function $f(x)$ that is analytic on $E_{\\rho}$ converges at essentially the same exponential rate as the bound on the Chebyshev coefficients as $n \\to \\infty$:\n",
    "$$\n",
    "\\begin{align*}\n",
    "\\left \\vert f(x) -   \\sum_{k = 0}^{n-1}f_kT_k(x) \\right\\vert & = \\left \\vert  \\sum_{k = n}^{\\infty}f_kT_k(x) \\right\\vert \\leq \\sum_{k = n}^{\\infty}\\vert f_k \\vert \\leq 2M \\sum_{k = n}^{\\infty} \\rho^{-k}\\\\\n",
    "& = 2M \\frac{\\rho^{-n}}{1 - \\rho^{-1}}\n",
    "\\end{align*}\n",
    "$$\n",
    "\n",
    "\n",
    "_Example_  In the case of $f(x) = {1 \\over 25 x^2 + 1}$, setting $2x = z + z^{-1}$, we find that\n",
    "$$\n",
    "f(x) = f\\left( {z+z^{-1} \\over 2 } \\right) = g(z) = {4 z^2 \\over 25 + 54 z^2 + 25 z^4}.\n",
    "$$\n",
    "In the complex $x$-plane, $f(x)$ has poles at $\\pm \\I/5$ and is analytic on $E_{\\rho}$ with $\\beta = (\\rho - \\rho^{-1})/2 < 1/5$, hence $\\rho < { 1 + \\sqrt{26} \\over 5 }$. In the $z$-plane, $g(z)$ has poles at $\\pm \\I { 1 \\pm \\sqrt{26} \\over 5 } \\approx \\pm 0.8198040\\I,\\pm1.2198\\I$ and is analytic on the annulus $\\rho^{-1} \\leq \\vert z \\vert \\leq \\rho$."
   ]
  },
  {
   "cell_type": "code",
   "execution_count": null,
   "metadata": {},
   "outputs": [],
   "source": [
    "ρ = (1 + sqrt(26))/5-0.05;\n",
    "α = (ρ + 1/ρ)/2\n",
    "β = (ρ - 1/ρ)/2\n",
    "θ = -π:0.01:π\n",
    "f = x -> 1/(25x^2 + 1)\n",
    "phaseplot(-2..2, -2..2, z -> f(z))\n",
    "plot!(α*cos.(θ),β*sin.(θ);linecolor=\"black\",label=\"Bernstein ellipse\")"
   ]
  },
  {
   "cell_type": "code",
   "execution_count": null,
   "metadata": {},
   "outputs": [],
   "source": [
    "phaseplot(-3..3, -3..3, z -> f((z+1/z)/2))\n",
    "plot!(ρ*cos.(θ),ρ*sin.(θ),linecolor=\"black\",label=\"|z| = ρ\")\n",
    "plot!(cos.(θ)/ρ,sin.(θ)/ρ,linecolor=\"black\",label=\"|z| = 1/ρ\")"
   ]
  },
  {
   "cell_type": "markdown",
   "metadata": {},
   "source": [
    "For $\\beta = (\\rho - \\rho^{-1})/2 < 1/5$, we have\n",
    "$$\n",
    "M =  \\sup_{x \\in  E_{\\rho}} |f(x)| = {1 \\over 1 - 25 \\beta^2}\n",
    "$$\n",
    "hence for $k \\geq 1$,\n",
    "$$\n",
    "\\vert f_k \\vert \\leq {2 \\over   1 - 25 \\beta^2} \\rho^{-k}, \\qquad 1 < \\rho <  { 1 + \\sqrt{26} \\over 5 }.\n",
    "$$\n",
    "Therefore we predict a rate of decay of about $1.2198^{-k}$:"
   ]
  },
  {
   "cell_type": "code",
   "execution_count": null,
   "metadata": {},
   "outputs": [],
   "source": [
    "bound(β,k) = 2/(1-25*β^2)*(β + sqrt(β^2 + 1))^(-k)\n",
    "f = Fun( x -> 1/(25x^2 + 1), Chebyshev())\n",
    "scatter(abs.(f.coefficients) .+ eps(); yscale=:log10, label=\"Chebyshev coefficients\")\n",
    "plot!(1:ncoefficients(f), bound.(1/5-0.001,1:ncoefficients(f)); label=\"upper bound\")\n",
    "# Also calculate the error of truncated Chebyshev expansions with n terms for n = 1, 2, ...\n",
    "xx = -1:0.001:1 # a fine grid on which to evaluate\n",
    "Errv = [(maximum(abs.(f.(xx)-Fun(f,Chebyshev(),n).(xx)))) for n = 1:ncoefficients(f)]\n",
    "scatter!(1:ncoefficients(f),Errv.+eps();label=\"truncated expansion error\")\n",
    "plot!( 1.2198.^(-(0:ncoefficients(f))); label=\"ρ^(-k)\")"
   ]
  },
  {
   "cell_type": "code",
   "execution_count": null,
   "metadata": {},
   "outputs": [],
   "source": []
  }
 ],
 "metadata": {
  "kernelspec": {
   "display_name": "Julia 1.7.2",
   "language": "julia",
   "name": "julia-1.7"
  },
  "language_info": {
   "file_extension": ".jl",
   "mimetype": "application/julia",
   "name": "julia",
   "version": "1.7.2"
  }
 },
 "nbformat": 4,
 "nbformat_minor": 2
}
