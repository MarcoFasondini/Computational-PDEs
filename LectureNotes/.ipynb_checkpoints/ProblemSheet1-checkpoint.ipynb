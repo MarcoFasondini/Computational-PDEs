{
 "cells": [
  {
   "cell_type": "markdown",
   "metadata": {},
   "source": [
    "# Problem Sheet 1\n",
    "\n",
    "1. **[5 marks]** What are the Fourier coefficients $c_k$ of $\\sin^4 x$?\n",
    "\n",
    "2. **[5 marks]** Show for $0 \\leq k,\\ell \\leq n-1$\n",
    "$$\n",
    "{1 \\over n} \\sum_{j=1}^n \\cos k \\theta_j \\cos \\ell \\theta_j = \\begin{cases} 1 & k = \\ell = 0 \\\\\n",
    "                                                  1/2 & k = \\ell \\\\\n",
    "                                                  0 & \\hbox{otherwise}\n",
    "                                                  \\end{cases}\n",
    "$$\n",
    "   for $\\theta_j = \\pi (j-1/2)/n$. Hint: \n",
    "   You may consider replacing $\\cos$ with \n",
    "   complex exponentials:\n",
    "$$\n",
    "\\cos \\theta = {{\\rm e}^{{\\rm i}\\theta} + {\\rm e}^{-{\\rm i}\\theta} \\over 2}.\n",
    "$$"
   ]
  },
  {
   "cell_type": "markdown",
   "metadata": {},
   "source": [
    "3. **[5 marks]** Consider the Discrete Cosine Transform (DCT)\n",
    "$$\n",
    "C_n := \\begin{bmatrix}\n",
    "\\sqrt{1/n} \\\\\n",
    " & \\sqrt{2/n} \\\\ \n",
    " && \\ddots \\\\\n",
    " &&& \\sqrt{2/n}\n",
    " \\end{bmatrix}\n",
    "\\begin{bmatrix}\n",
    "    1 & \\cdots & 1\\\\\n",
    "    \\cos \\theta_1 & \\cdots & \\cos \\theta_n \\\\\n",
    "    \\vdots & \\ddots & \\vdots \\\\\n",
    "    \\cos (n-1)\\theta_1 & \\cdots & \\cos (n-1)\\theta_n\n",
    "\\end{bmatrix}\n",
    "$$\n",
    "for $\\theta_j = \\pi(j-1/2)/n$. Prove that $C_n$ is orthogonal: $C_n^{\\top} C_n = C_n C_n^{\\top} = I$.\n",
    "Hint: $C_n C_n^{\\top} = I$ might be easier to show than $C_n^{\\top} C_n = I$ using the previous problem."
   ]
  },
  {
   "cell_type": "markdown",
   "metadata": {},
   "source": [
    "4. **[10 marks]**  Consider the variable-coefficient advection equation\n",
    "$$\n",
    "   u_t + c(x)u_x = 0, \\qquad c(x) = \\frac{1}{5} + \\sin^2(x-1), \\qquad x \\in [0, 2\\pi), \\qquad t \\in [0, T],\n",
    "$$\n",
    "   with $u(x,0) = f(x) = {\\rm e}^{-100(x-1)^2}$, which we approximate with the leapfrog method\n",
    "$$\n",
    "\\mathbf{u}^{i+1} = \\mathbf{u}^{i-1} - 2\\tau \\mathcal{F}^{-1}\\left\\lbrace {\\rm i}(-m\\!:\\!m)\\cdot\\mathcal{F}\\lbrace \\mathbf{u}^{i} \\rbrace\\right\\rbrace, \\qquad i = 0, \\ldots, n_t-1.\n",
    "$$\n",
    "   Note that one needs $\\mathbf{u}^{-1}$ to initialise the leapfrog method.  Let the entries of $\\mathbf{u}^{-1}$ be $u^{-1}_j = f(x_j + \\tau/5)$, $j = 0, \\ldots, n_x-1$.  The exact solution is periodic in time, i.e.,\n",
    "$$\n",
    "   u(x,t+T) = u(x,t)\n",
    "$$\n",
    "   where\n",
    "$$\n",
    "   T = \\int_{0}^{2\\pi}\\frac{1}{c(x)}{\\rm d}x = 12.8254983016186\\ldots\n",
    "$$\n",
    "   Compute $T$ using the Trapezoidal rule and confirm that you get the value stated above.  Then compute\n",
    "$$\n",
    "   e(n_x) = \\max_{j = 0, \\ldots, n_x-1} \\vert u^{0}_j - u^{n_t}_{j} \\vert\n",
    "$$\n",
    "where $n_t = 8n_x$ and $\\tau n_t = T$  and plot $e(n_x)$ for $n_x = 2^k + 1$, with $k = 5, 6, \\ldots, 10$.  Comment on the behaviour of $e(n_x)$."
   ]
  },
  {
   "cell_type": "code",
   "execution_count": null,
   "metadata": {},
   "outputs": [],
   "source": []
  }
 ],
 "metadata": {
  "kernelspec": {
   "display_name": "Julia 1.8.3",
   "language": "julia",
   "name": "julia-1.8"
  },
  "language_info": {
   "file_extension": ".jl",
   "mimetype": "application/julia",
   "name": "julia",
   "version": "1.8.3"
  }
 },
 "nbformat": 4,
 "nbformat_minor": 4
}
