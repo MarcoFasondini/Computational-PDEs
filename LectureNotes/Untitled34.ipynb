{
 "cells": [
  {
   "cell_type": "markdown",
   "metadata": {},
   "source": [
    "# Chapter 4: Exercises Part II Solutions"
   ]
  },
  {
   "cell_type": "markdown",
   "metadata": {},
   "source": [
    "This problem set considers the Laguerre polynomials\n",
    "$$\n",
    "L_n^{(\\alpha)}(x) = {(-1)^n \\over n! } x^n + O(x^{n-1})\n",
    "$$\n",
    "where $\\alpha > -1$, which are orthogonal with respect to\n",
    "$$\n",
    "\\ip<f,g>_\\alpha = \\int_0^\\infty f(x) g(x) x^\\alpha \\E^{-x}\\dx\n",
    "$$\n",
    "We also use the notation $L_n(x) = L_n^{(0)}(x)$.\n",
    "\n",
    "1. Show that the Rodrigues formula holds:\n",
    "$$\n",
    "L_n^{(\\alpha)}(x) = {x^{-\\alpha} \\E^x \\over n!} {\\D^n \\over \\dx^n}\\br[x^{\\alpha+n}\\E^{-x}].\n",
    "$$\n",
    "2. Show that the derivatives form a hierarchy: we have\n",
    "$$\n",
    "\\begin{align*}\n",
    "{\\D L_n^{(\\alpha)} \\over \\dx} & = -L_{n-1}^{(\\alpha+1)}(x), \\\\\n",
    "{\\D \\over \\dx}\\br[x^{\\alpha+1} \\E^{-x} L_n^{(\\alpha+1)}(x) ]  &= (n+1)x^{\\alpha} \\E^{-x}L_{n+1}^{(\\alpha)}(x), \\\\\n",
    "x L_n^{(\\alpha+1)}(x) &= -(n+1)L_{n+1}^{(\\alpha)}(x) + (n+\\alpha+1)L_n^{(\\alpha)}(x), \\\\\n",
    "L_n^{(\\alpha)}(x) &= L_n^{(\\alpha+1)}(x) - L_{n-1}^{(\\alpha +1)}(x).\n",
    "\\end{align*}\n",
    "$$\n",
    "3. Combine the results from Problem 1.2 to determine the three-term recurrence relationship and the  top $5 \\times 5$ block of the Jacobi operator.\n",
    "\n",
    "----------\n",
    "\n",
    "## Problem 4\n",
    "\n",
    "1. Represent the ordinary differential operator\n",
    "$$\n",
    "u'(x) - x u(x)  \\qqfor x \\geq 0\n",
    "$$\n",
    "as an operator on the coefficients of $u$ in a weighted Laguerre expansion:\n",
    "$$\n",
    "u(x) = \\sum_{k=0}^\\infty u_k \\E^{-x/2} L_k(x) = \\E^{-x/2} \\bvect[L_0(x),L_1(x),\\dots]\\Vectt[u_0,u_1,\\dots],\n",
    "$$\n",
    "where the range of the operator is specified in $\\E^{-x/2} \\bvect[L_0^{(1)}(x),L_1^{(1)}(x),\\dots]$.\n",
    "\n",
    "\n",
    "2. Show that the Laguerre polynomials are eigenfunctions of a Sturm--Liouville problem, that is, find  $\\lambda_n^{(\\alpha)}$ so that\n",
    "$$\n",
    "{\\E^x \\over x^\\alpha} {\\D \\over \\dx} \\br[x^{\\alpha+1} \\E^{-x} {\\D L_n^{(\\alpha)} \\over \\dx}] = \\lambda_n^{(\\alpha)} L_n^{(\\alpha)}(x)\n",
    "$$\n",
    "Re-express this as an ODE with polynomial coefficients."
   ]
  },
  {
   "cell_type": "code",
   "execution_count": null,
   "metadata": {},
   "outputs": [],
   "source": []
  }
 ],
 "metadata": {
  "kernelspec": {
   "display_name": "Julia 1.8.3",
   "language": "julia",
   "name": "julia-1.8"
  },
  "language_info": {
   "file_extension": ".jl",
   "mimetype": "application/julia",
   "name": "julia",
   "version": "1.8.3"
  }
 },
 "nbformat": 4,
 "nbformat_minor": 4
}
