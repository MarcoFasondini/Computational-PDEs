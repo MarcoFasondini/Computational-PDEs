{
 "cells": [
  {
   "cell_type": "markdown",
   "metadata": {},
   "source": [
    "# Chapter 4: Exercises Part I Solutions"
   ]
  },
  {
   "cell_type": "markdown",
   "metadata": {},
   "source": [
    "1. Construct  $p_0(x),p_1(x),p_2(x),p_3(x)$, monic OPs\n",
    "   for the weight $\\sqrt{1-x^2}$ on $[-1,1]$.\n",
    "   \n",
    "   Hint: first compute $\\int_{-1}^1 x^k \\sqrt{1-x^2} {\\rm d} x$ for $0 ≤ k ≤ 2$\n",
    "   using a change-of-variables.\n",
    "\n",
    "Following the hint, we first calculate $\\int_{-1}^1 x^k\\sqrt{1-x^2}{\\rm d}x$. By symmetry, it's zero when $k$ is odd and double the integral on $[0,1]$ when $k$ is even. \n",
    "\n",
    "$$\n",
    "\\underbrace{\\int_0^1 x^k\\sqrt{1-x^2}{\\rm d}x}_{I_k}=_{x=\\sin t}\\underbrace{\\int_0^{\\pi/2}\\sin^k(t)\\cos^2(t){\\rm d}t}_{I_k}=\\underbrace{\\int_0^{\\pi/2}\\sin^k t{\\rm d}t}_{J_k}-\\underbrace{\\int_0^{\\pi/2}\\sin^{k+2}t{\\rm d}t}_{J_{k+2}}.\n",
    "$$\n",
    "\n",
    "Meanwhile, \n",
    "$$\n",
    "J_k=-\\int_0^{\\pi/2}\\sin^{k-1}t{\\rm d}(\\cos t)=_{\\text{integral by part}}(k-1)I_{k-2}.\n",
    "$$\n",
    "\n",
    "Putting the above 2 equations together, we have $I_k=(k-1)I_{k-2}-(k+1)I_k$, so $I_k=\\frac{k-1}{k+2}I_{k-2}$. Since $I_0=\\pi/4$, we have $I_k=\\frac{(k-1)!!}{(k+2)!!}\\frac{\\pi}{2}$ for positive even $k$. (Note that the denominator multiplies to 4, not to 2.) Keep in mind that the integral we want is double this value when $k$ is even.\n",
    "\n",
    "**Remark** Check the [beta function](https://en.wikipedia.org/wiki/Beta_function).\n",
    "\n",
    "Let $p_0(x)=1$, then $\\|p_0\\|^2=2I_0=\\pi/2$. We know from the 3-term recurrence that\n",
    "$$xp_0(x)=a_0p_0(x)+p_1(x)$$\n",
    "where\n",
    "$$\n",
    "a_0=\\frac{\\langle p_0,xp_0\\rangle}{\\|p_0\\|^2}=0.\n",
    "$$\n",
    "Thus $p_1(x)=x$ and $\\|p_1\\|^2=2I_2=\\pi/8$.\n",
    "From\n",
    "$$\n",
    "xp_1(x)=c_0p_0(x)+a_1p_1(x)+p_2(x)\n",
    "$$\n",
    "we have\n",
    "$$\n",
    "c_0=\\frac{\\langle p_0,xp_1\\rangle}{\\|p_0\\|^2}=2I_2/2I_0=1/4\n",
    "$$\n",
    "$$\n",
    "a_1=\\frac{\\langle p_1,xp_1\\rangle}{\\|p_1\\|^2}=0\n",
    "$$\n",
    "$$\n",
    "p_2(x)=xp_1(x)-c_0-a_1p_1(x)=x^2-1/4\n",
    "$$\n",
    "$$\n",
    "\\|p_2\\|^2=2I_4-I_2+1/8I_0=\\pi/32\n",
    "$$\n",
    "Finally, from\n",
    "$$\n",
    "xp_2(x)=c_1p_1(x)+a_2p_2(x)+p_3(x)\n",
    "$$\n",
    "we have\n",
    "$$\n",
    "c_1=\\frac{\\langle p_1,xp_2\\rangle}{\\|p_1\\|^2}=(2I_4-1/2I_2)/(\\pi/8)=1/4\n",
    "$$\n",
    "$$\n",
    "a_2=\\frac{\\langle p_2,xp_2\\rangle}{\\|p_2\\|^2}=0\n",
    "$$\n",
    "$$\n",
    "p_3(x)=xp_2(x)-c_1p_1(x)-a_2p_2(x)=x^3-1/2x\n",
    "$$"
   ]
  },
  {
   "cell_type": "markdown",
   "metadata": {},
   "source": [
    "2. Let $w(x)$ be a weight function on $x \\in [-b, b]$, $b > 0$ satisfying $w(-x) = w(x)$. Show that $a_n = 0$, $n \\geq 0$ and conclude that $a_n = 0$ for the Chebyshev polynomials $\\lbrace T_n \\rbrace$ and the ultraspherical polynomials $\\lbrace C_n^{(\\lambda)}\\rbrace$.\n",
    "    \n",
    "    Hint: first show that the OPs $p_{2n}(x)$ are even and $p_{2n+1}(x)$ are odd."
   ]
  },
  {
   "cell_type": "markdown",
   "metadata": {},
   "source": [
    "Recall that \n",
    "$$\n",
    "a_n = \\frac{\\langle xp_n, p_n\\rangle}{\\langle p_n, p_n\\rangle},\n",
    "$$\n",
    "where\n",
    "$$\n",
    "\\langle f, g \\rangle = \\int_{-b}^{b} f(x)g(x)w(x)\\,{\\rm d}x.\n",
    "$$\n",
    "The inner product is zero if the integrand is odd. \n",
    "Moreover an even function times an odd function is odd and\n",
    "an odd function times an odd fuction is even.\n",
    "Note that $p_0(x)$ and $w(x)$ are even and $x$ is odd. \n",
    "\n",
    "We see that $a_0$ is zero\n",
    "$$\n",
    "⟨p_0,x p_0(x)⟩ = p_0^2\\int_{-b}^b x w(x) {\\rm d} x = 0\n",
    "$$\n",
    "since $xw(x)$ is odd,\n",
    "which shows that\n",
    "$$\n",
    "p_1(x) = xp_0(x)/b_0\n",
    "$$\n",
    "is odd. We now proceed by induction. Assume that $p_{2n}$ is even and $p_{2n-1}$ is odd.\n",
    "We have:\n",
    "$$\n",
    "⟨p_{2n},x p_{2n}(x)⟩ = \\int_{-b}^b x w(x) p_{2n}(x)^2 {\\rm d} x = 0\n",
    "$$\n",
    "since $x w(x) p_{2n}(x)^2$ is odd, therefore $a_{2n} = 0$.\n",
    "Thus from\n",
    "$$\n",
    "p_{2n+1}(x) = (x p_{2n}(x)- c_{2n-1} p_{2n-1}(x)) / b_{2n} \n",
    "$$\n",
    "we see that $p_{2n+1}$ is odd. Then\n",
    "$$\n",
    "⟨p_{2n+1},x p_{2n+1}(x)⟩ = \\int_{-b}^b x w(x) p_{2n+1}(x)^2 {\\rm d} x = 0\n",
    "$$\n",
    "since $x w(x) p_{2n+1}(x)^2$ is odd, therefore $a_{2n+1} = 0$.\n",
    "and hence\n",
    "$$\n",
    "p_{2n+2}(x) = (x p_{2n+1}(x)- c_{2n} p_{2n}(x)) / b_{2n+1} \n",
    "$$\n",
    "is even.\n",
    "\n",
    "For the Chebyshev polynomials and the ultraspherical polynomials, $b = 1$ and the weight functions are even; therefore $a_n = 0$."
   ]
  },
  {
   "cell_type": "markdown",
   "metadata": {},
   "source": [
    "3. Consider orthogonal polynomials with respect to $\\sqrt{1-x^2}$ on $[-1,1]$ with the\n",
    "   normalisation\n",
    "$$\n",
    "U_n(x) = 2^n x^n + O(x^{n-1})\n",
    "$$\n",
    "   Prove that\n",
    "$$\n",
    "U_n(\\cos θ) = {\\sin(n+1) θ \\over \\sin θ},\n",
    "$$\n",
    "   where $x = \\cos\\theta$."
   ]
  },
  {
   "cell_type": "markdown",
   "metadata": {},
   "source": [
    "We need to verify that $U_n(x)$ is\n",
    "1. a polynomial of degree precisely $n$ \n",
    "2. orthogonal w.r.t. $\\sqrt{1-x^2}$ on $[-1,1]$, and\n",
    "3. has the leading coefficient $2^n$.\n",
    "\n",
    "(2) follows under a change of variables\n",
    "$$\\int_{-1}^1U_n(x)U_m(x)\\sqrt{1-x^2}{\\rm d}x=\\int_0^{\\pi}U_n(\\cos\\theta)U_m(\\cos\\theta)\\sin^2\\theta{\\rm d}\\theta=\\int_0^{\\pi}\\sin(n+1)\\theta\\sin(m+1)\\theta{\\rm d}\\theta=\\frac{\\pi}{2}\\delta_{mn}.$$\n",
    "\n",
    "To prove (1) and (3) we use the fact that\n",
    "$$xU_n(x)=\\frac{\\cos\\theta\\sin(n+1)\\theta}{\\sin\\theta}=\\frac{\\sin (n+2)\\theta+\\sin n\\theta}{2\\sin\\theta}$$\n",
    "In other words $2xU_n(x)=U_{n+1}(x)+U_{n-1}(x)$. Since each time we multiply by $2x$ and $U_0(x)=1$ we have\n",
    "$$U_n(x) = 2^n x^n + O(x^{n-1})$$\n",
    "which also proves (3)."
   ]
  },
  {
   "cell_type": "markdown",
   "metadata": {},
   "source": [
    "4.  Show that $\\mathcal{S}_{n-1}\\cdots\\mathcal{S}_1\\mathcal{S}_0$ has bandwidths $(0,2n)$."
   ]
  },
  {
   "cell_type": "markdown",
   "metadata": {},
   "source": [
    "Recall that \n",
    "$$\n",
    "\\left[T_0(x) | T_1(x) | \\cdots  \\right] =\\left[C^{(n)}_0(x) | C^{(n)}_1(x) | \\cdots  \\right]  \\mathcal{S}_{n-1}\\cdots\\mathcal{S}_1\\mathcal{S}_0.\n",
    "$$\n",
    "Let $S = \\mathcal{S}_{n-1}\\cdots\\mathcal{S}_1\\mathcal{S}_0$.  Since the OPs $\\{C^{(n)}_k(x)\\} $ form a basis for the space of polynomials, any Chebyshev polynomial can be expressed as a linear combination of $C^{(n)}_k(x)$ polynomials:\n",
    "$$\n",
    "T_k(x) = \\sum_{j = 0}^{k} c_{j,k}C^{(n)}_j(x).\n",
    "$$\n",
    "Note that $(j,k)$ entry of the matrix $S$ is $c_{j,k}$.  The above equation shows that $S$ is at worst upper triangular. Since\n",
    "$$\n",
    "c_{j,k} = \\frac{\\langle T_k,  C^{(n)}_j \\rangle_{n}}{\\langle C^{(n)}_j, C^{(n)}_j \\rangle_n}\n",
    "$$\n",
    "and\n",
    "$$\n",
    "\\begin{eqnarray*}\n",
    "\\langle T_k,  C^{(n)}_j \\rangle_{n} &=& \\int_{-1}^{1}T_k(x) C^{(n)}_j(x)(1 - x^2)^{n-\\frac{1}{2}}\\,{\\rm d}x \\\\\n",
    "&=& \\int_{-1}^{1}T_k(x) C^{(n)}_j(x)(1 - x^2)^{n}\\,\\frac{{\\rm d}x}{\\sqrt{1-x^2}} \\\\\n",
    "&=& \\langle T_k,  (1-x^2)^nC^{(n)}_j \\rangle_{0},\n",
    "\\end{eqnarray*}\n",
    "$$\n",
    "it follows that $c_{j,k} = 0$ if $j + 2n<k$ or $k-j>2n$, which shows that $S$ has bandwidths $(0, 2n)$."
   ]
  },
  {
   "cell_type": "markdown",
   "metadata": {},
   "source": [
    "5.  We showed that when we differentiate the Chebyshev polynomials and change basis, we obtain a sparse differentiation matrix.   That is,\n",
    "$$\n",
    "\\frac{{\\rm d}}{{\\rm d}x}\\left[T_0(x) | T_1(x) | \\cdots    \\right] = \\left[C^{(1)}_0(x) | C^{(1)}_1(x) | \\cdots  \\right]\\mathcal{D}_0\n",
    "$$\n",
    "    where $\\mathcal{D}_0$ has bandwidths $(-1,1)$.  Suppose we don't change basis when differentiating, i.e., let\n",
    "$$\n",
    "\\frac{{\\rm d}}{{\\rm d}x}\\left[T_0(x) | T_1(x) | \\cdots    \\right] = \\left[T_0(x) | T_1(x) | \\cdots    \\right]\\mathcal{D}.\n",
    "$$\n",
    "    What are the bandwidths of $\\mathcal{D}$?"
   ]
  },
  {
   "cell_type": "markdown",
   "metadata": {},
   "source": [
    "Recall that \n",
    "$$\n",
    "\\left[T_0(x) | T_1(x) | \\cdots  \\right] =\\left[C^{(1)}_0(x) | C^{(1)}_1(x) | \\cdots  \\right] \\mathcal{S}_0.\n",
    "$$\n",
    "which implies that\n",
    "$$\n",
    "\\left[C^{(1)}_0(x) | C^{(1)}_1(x) | \\cdots  \\right] = \\left[T_0(x) | T_1(x) | \\cdots  \\right] \\mathcal{S}_0^{-1}\n",
    "$$\n",
    "therefore\n",
    "$$\n",
    "\\frac{{\\rm d}}{{\\rm d}x}\\left[T_0(x) | T_1(x) | \\cdots    \\right] =  \\left[T_0(x) | T_1(x) | \\cdots  \\right] \\mathcal{S}_0^{-1}\\mathcal{D}_0\n",
    "$$\n",
    "and thus $\\mathcal{D} = \\mathcal{S}_0^{-1}\\mathcal{D}_0$.  Let's see what are the bandwidths of $S_0^{-1}$:"
   ]
  },
  {
   "cell_type": "code",
   "execution_count": 15,
   "metadata": {},
   "outputs": [],
   "source": [
    "using LinearAlgebra, ApproxFun"
   ]
  },
  {
   "cell_type": "code",
   "execution_count": 16,
   "metadata": {},
   "outputs": [
    {
     "data": {
      "text/plain": [
       "4×4 Matrix{Float64}:\n",
       " 1.0  0.0  1.0  0.0\n",
       " 0.0  2.0  0.0  2.0\n",
       " 0.0  0.0  2.0  0.0\n",
       " 0.0  0.0  0.0  2.0"
      ]
     },
     "execution_count": 16,
     "metadata": {},
     "output_type": "execute_result"
    }
   ],
   "source": [
    "S0 = Conversion(Chebyshev(),Ultraspherical(1))\n",
    "n = 4\n",
    "inv(S0[1:n,1:n]) "
   ]
  },
  {
   "cell_type": "code",
   "execution_count": 17,
   "metadata": {},
   "outputs": [
    {
     "data": {
      "text/plain": [
       "5×5 Matrix{Float64}:\n",
       " 1.0  0.0  1.0  0.0  1.0\n",
       " 0.0  2.0  0.0  2.0  0.0\n",
       " 0.0  0.0  2.0  0.0  2.0\n",
       " 0.0  0.0  0.0  2.0  0.0\n",
       " 0.0  0.0  0.0  0.0  2.0"
      ]
     },
     "execution_count": 17,
     "metadata": {},
     "output_type": "execute_result"
    }
   ],
   "source": [
    "n = 5\n",
    "inv(S0[1:n,1:n])"
   ]
  },
  {
   "cell_type": "code",
   "execution_count": 18,
   "metadata": {},
   "outputs": [
    {
     "data": {
      "text/plain": [
       "6×6 Matrix{Float64}:\n",
       " 1.0  0.0  1.0  0.0  1.0  0.0\n",
       " 0.0  2.0  0.0  2.0  0.0  2.0\n",
       " 0.0  0.0  2.0  0.0  2.0  0.0\n",
       " 0.0  0.0  0.0  2.0  0.0  2.0\n",
       " 0.0  0.0  0.0  0.0  2.0  0.0\n",
       " 0.0  0.0  0.0  0.0  0.0  2.0"
      ]
     },
     "execution_count": 18,
     "metadata": {},
     "output_type": "execute_result"
    }
   ],
   "source": [
    "n = 6\n",
    "inv(S0[1:n,1:n])"
   ]
  },
  {
   "cell_type": "code",
   "execution_count": 19,
   "metadata": {},
   "outputs": [
    {
     "data": {
      "text/plain": [
       "7×7 Matrix{Float64}:\n",
       " 1.0  0.0  1.0  0.0  1.0  0.0  1.0\n",
       " 0.0  2.0  0.0  2.0  0.0  2.0  0.0\n",
       " 0.0  0.0  2.0  0.0  2.0  0.0  2.0\n",
       " 0.0  0.0  0.0  2.0  0.0  2.0  0.0\n",
       " 0.0  0.0  0.0  0.0  2.0  0.0  2.0\n",
       " 0.0  0.0  0.0  0.0  0.0  2.0  0.0\n",
       " 0.0  0.0  0.0  0.0  0.0  0.0  2.0"
      ]
     },
     "execution_count": 19,
     "metadata": {},
     "output_type": "execute_result"
    }
   ],
   "source": [
    "n = 7\n",
    "inv(S0[1:n,1:n])"
   ]
  },
  {
   "cell_type": "markdown",
   "metadata": {},
   "source": [
    "These results suggest that $\\mathcal{S}_0^{-1}$ is upper triangular, i.e., the bandwidths of $\\mathcal{S}_0^{-1}$ are $(0, \\infty)$.   We can prove this by calculating the entries of $\\mathcal{S}_0^{-1}$.  We won't go into the details, but here is an indication of these entries can be calculated explicitly: we have that $\\left(  \\mathcal{S}_0^{-1} \\right)_{k,n} = c_{k,n}$, where"
   ]
  },
  {
   "cell_type": "markdown",
   "metadata": {},
   "source": [
    "$$\n",
    "U_n(x) = \\sum_{k = 0}^{n}c_{k,n}T_k(x)\n",
    "$$\n",
    "$$\n",
    "c_{k,n} = \\frac{\\langle U_n(x), T_k(x) \\rangle_0}{\\langle T_k(x), T_k(x) \\rangle_0}\n",
    "$$\n",
    "and if $n \\neq 0$\n",
    "$$\n",
    "\\begin{eqnarray*}\n",
    "\\langle U_n(x), T_k(x) \\rangle_0 &=& \\int_{-1}^{1}U_n(x) T_k(x)\\,\\frac{{\\rm d}x}{\\sqrt{1-x^2}} \\\\\n",
    "&=& \\int_{0}^{\\pi}  \\frac{\\sin[(n+1)\\theta]}{\\sin\\theta}\\cos k\\theta\\, {\\rm d}\\theta \\\\\n",
    "&=& \\frac{1}{2}\\int_{0}^{\\pi} \\left({\\rm e}^{-{\\rm i}n\\theta} + {\\rm e}^{-{\\rm i}(n-2)\\theta} + \\cdots+ {\\rm e}^{{\\rm i}(n-2)\\theta} + {\\rm e}^{{\\rm i}n\\theta}   \\right)\\left(  {\\rm e}^{{\\rm i}k\\theta} + {\\rm e}^{-{\\rm i}k\\theta}  \\right)\\,{\\rm d}\\theta.\n",
    "\\end{eqnarray*}\n",
    "$$"
   ]
  },
  {
   "cell_type": "markdown",
   "metadata": {},
   "source": [
    "Since $\\mathcal{S}_0^{-1}$ has bandwidths $(0, \\infty)$ and $\\mathcal{D}_0$ has bandwidths $(-1, 1)$, $\\mathcal{S}_0^{-1}\\mathcal{D}_0$ has bandwdiths $(-1, \\infty)$.   Here are a few examples of $\\mathcal{S}_0^{-1}\\mathcal{D}_0$:"
   ]
  },
  {
   "cell_type": "code",
   "execution_count": 20,
   "metadata": {},
   "outputs": [
    {
     "data": {
      "text/plain": [
       "4×4 Matrix{Float64}:\n",
       " 0.0  1.0  0.0  3.0\n",
       " 0.0  0.0  4.0  0.0\n",
       " 0.0  0.0  0.0  6.0\n",
       " 0.0  0.0  0.0  0.0"
      ]
     },
     "execution_count": 20,
     "metadata": {},
     "output_type": "execute_result"
    }
   ],
   "source": [
    "D0 = Derivative(Chebyshev())\n",
    "n = 4\n",
    "S0[1:n,1:n]\\D0[1:n,1:n] "
   ]
  },
  {
   "cell_type": "code",
   "execution_count": 21,
   "metadata": {},
   "outputs": [
    {
     "data": {
      "text/plain": [
       "5×5 Matrix{Float64}:\n",
       " 0.0  1.0  0.0  3.0  0.0\n",
       " 0.0  0.0  4.0  0.0  8.0\n",
       " 0.0  0.0  0.0  6.0  0.0\n",
       " 0.0  0.0  0.0  0.0  8.0\n",
       " 0.0  0.0  0.0  0.0  0.0"
      ]
     },
     "execution_count": 21,
     "metadata": {},
     "output_type": "execute_result"
    }
   ],
   "source": [
    "n = 5\n",
    "S0[1:n,1:n]\\D0[1:n,1:n] "
   ]
  },
  {
   "cell_type": "code",
   "execution_count": 22,
   "metadata": {},
   "outputs": [
    {
     "data": {
      "text/plain": [
       "6×6 Matrix{Float64}:\n",
       " 0.0  1.0  0.0  3.0  0.0   5.0\n",
       " 0.0  0.0  4.0  0.0  8.0   0.0\n",
       " 0.0  0.0  0.0  6.0  0.0  10.0\n",
       " 0.0  0.0  0.0  0.0  8.0   0.0\n",
       " 0.0  0.0  0.0  0.0  0.0  10.0\n",
       " 0.0  0.0  0.0  0.0  0.0   0.0"
      ]
     },
     "execution_count": 22,
     "metadata": {},
     "output_type": "execute_result"
    }
   ],
   "source": [
    "n = 6\n",
    "S0[1:n,1:n]\\D0[1:n,1:n] "
   ]
  },
  {
   "cell_type": "code",
   "execution_count": 23,
   "metadata": {},
   "outputs": [
    {
     "data": {
      "text/plain": [
       "7×7 Matrix{Float64}:\n",
       " 0.0  1.0  0.0  3.0  0.0   5.0   0.0\n",
       " 0.0  0.0  4.0  0.0  8.0   0.0  12.0\n",
       " 0.0  0.0  0.0  6.0  0.0  10.0   0.0\n",
       " 0.0  0.0  0.0  0.0  8.0   0.0  12.0\n",
       " 0.0  0.0  0.0  0.0  0.0  10.0   0.0\n",
       " 0.0  0.0  0.0  0.0  0.0   0.0  12.0\n",
       " 0.0  0.0  0.0  0.0  0.0   0.0   0.0"
      ]
     },
     "execution_count": 23,
     "metadata": {},
     "output_type": "execute_result"
    }
   ],
   "source": [
    "n = 7\n",
    "S0[1:n,1:n]\\D0[1:n,1:n] "
   ]
  },
  {
   "cell_type": "code",
   "execution_count": null,
   "metadata": {},
   "outputs": [],
   "source": []
  }
 ],
 "metadata": {
  "kernelspec": {
   "display_name": "Julia 1.8.3",
   "language": "julia",
   "name": "julia-1.8"
  },
  "language_info": {
   "file_extension": ".jl",
   "mimetype": "application/julia",
   "name": "julia",
   "version": "1.8.3"
  }
 },
 "nbformat": 4,
 "nbformat_minor": 4
}
